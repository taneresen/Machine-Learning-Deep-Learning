{
 "cells": [
  {
   "cell_type": "code",
   "execution_count": 1,
   "metadata": {
    "ExecuteTime": {
     "end_time": "2021-08-15T13:02:31.373378Z",
     "start_time": "2021-08-15T13:02:29.480468Z"
    }
   },
   "outputs": [],
   "source": [
    "%matplotlib inline\n",
    "\n",
    "import pandas as pd\n",
    "import numpy as np\n",
    "import matplotlib.pyplot as plt\n",
    "\n",
    "from sklearn.preprocessing import scale \n",
    "from sklearn.model_selection import train_test_split\n",
    "from sklearn.linear_model import LogisticRegression"
   ]
  },
  {
   "cell_type": "code",
   "execution_count": 2,
   "metadata": {
    "ExecuteTime": {
     "end_time": "2021-08-15T13:02:31.450691Z",
     "start_time": "2021-08-15T13:02:31.419775Z"
    }
   },
   "outputs": [
    {
     "data": {
      "text/html": [
       "<div>\n",
       "<style scoped>\n",
       "    .dataframe tbody tr th:only-of-type {\n",
       "        vertical-align: middle;\n",
       "    }\n",
       "\n",
       "    .dataframe tbody tr th {\n",
       "        vertical-align: top;\n",
       "    }\n",
       "\n",
       "    .dataframe thead th {\n",
       "        text-align: right;\n",
       "    }\n",
       "</style>\n",
       "<table border=\"1\" class=\"dataframe\">\n",
       "  <thead>\n",
       "    <tr style=\"text-align: right;\">\n",
       "      <th></th>\n",
       "      <th>Pregnancies</th>\n",
       "      <th>Glucose</th>\n",
       "      <th>BloodPressure</th>\n",
       "      <th>SkinThickness</th>\n",
       "      <th>Insulin</th>\n",
       "      <th>BMI</th>\n",
       "      <th>DiabetesPedigreeFunction</th>\n",
       "      <th>Age</th>\n",
       "      <th>Outcome</th>\n",
       "    </tr>\n",
       "  </thead>\n",
       "  <tbody>\n",
       "    <tr>\n",
       "      <th>0</th>\n",
       "      <td>6</td>\n",
       "      <td>148</td>\n",
       "      <td>72</td>\n",
       "      <td>35</td>\n",
       "      <td>0</td>\n",
       "      <td>33.6</td>\n",
       "      <td>0.627</td>\n",
       "      <td>50</td>\n",
       "      <td>1</td>\n",
       "    </tr>\n",
       "    <tr>\n",
       "      <th>1</th>\n",
       "      <td>1</td>\n",
       "      <td>85</td>\n",
       "      <td>66</td>\n",
       "      <td>29</td>\n",
       "      <td>0</td>\n",
       "      <td>26.6</td>\n",
       "      <td>0.351</td>\n",
       "      <td>31</td>\n",
       "      <td>0</td>\n",
       "    </tr>\n",
       "    <tr>\n",
       "      <th>2</th>\n",
       "      <td>8</td>\n",
       "      <td>183</td>\n",
       "      <td>64</td>\n",
       "      <td>0</td>\n",
       "      <td>0</td>\n",
       "      <td>23.3</td>\n",
       "      <td>0.672</td>\n",
       "      <td>32</td>\n",
       "      <td>1</td>\n",
       "    </tr>\n",
       "    <tr>\n",
       "      <th>3</th>\n",
       "      <td>1</td>\n",
       "      <td>89</td>\n",
       "      <td>66</td>\n",
       "      <td>23</td>\n",
       "      <td>94</td>\n",
       "      <td>28.1</td>\n",
       "      <td>0.167</td>\n",
       "      <td>21</td>\n",
       "      <td>0</td>\n",
       "    </tr>\n",
       "    <tr>\n",
       "      <th>4</th>\n",
       "      <td>0</td>\n",
       "      <td>137</td>\n",
       "      <td>40</td>\n",
       "      <td>35</td>\n",
       "      <td>168</td>\n",
       "      <td>43.1</td>\n",
       "      <td>2.288</td>\n",
       "      <td>33</td>\n",
       "      <td>1</td>\n",
       "    </tr>\n",
       "    <tr>\n",
       "      <th>...</th>\n",
       "      <td>...</td>\n",
       "      <td>...</td>\n",
       "      <td>...</td>\n",
       "      <td>...</td>\n",
       "      <td>...</td>\n",
       "      <td>...</td>\n",
       "      <td>...</td>\n",
       "      <td>...</td>\n",
       "      <td>...</td>\n",
       "    </tr>\n",
       "    <tr>\n",
       "      <th>763</th>\n",
       "      <td>10</td>\n",
       "      <td>101</td>\n",
       "      <td>76</td>\n",
       "      <td>48</td>\n",
       "      <td>180</td>\n",
       "      <td>32.9</td>\n",
       "      <td>0.171</td>\n",
       "      <td>63</td>\n",
       "      <td>0</td>\n",
       "    </tr>\n",
       "    <tr>\n",
       "      <th>764</th>\n",
       "      <td>2</td>\n",
       "      <td>122</td>\n",
       "      <td>70</td>\n",
       "      <td>27</td>\n",
       "      <td>0</td>\n",
       "      <td>36.8</td>\n",
       "      <td>0.340</td>\n",
       "      <td>27</td>\n",
       "      <td>0</td>\n",
       "    </tr>\n",
       "    <tr>\n",
       "      <th>765</th>\n",
       "      <td>5</td>\n",
       "      <td>121</td>\n",
       "      <td>72</td>\n",
       "      <td>23</td>\n",
       "      <td>112</td>\n",
       "      <td>26.2</td>\n",
       "      <td>0.245</td>\n",
       "      <td>30</td>\n",
       "      <td>0</td>\n",
       "    </tr>\n",
       "    <tr>\n",
       "      <th>766</th>\n",
       "      <td>1</td>\n",
       "      <td>126</td>\n",
       "      <td>60</td>\n",
       "      <td>0</td>\n",
       "      <td>0</td>\n",
       "      <td>30.1</td>\n",
       "      <td>0.349</td>\n",
       "      <td>47</td>\n",
       "      <td>1</td>\n",
       "    </tr>\n",
       "    <tr>\n",
       "      <th>767</th>\n",
       "      <td>1</td>\n",
       "      <td>93</td>\n",
       "      <td>70</td>\n",
       "      <td>31</td>\n",
       "      <td>0</td>\n",
       "      <td>30.4</td>\n",
       "      <td>0.315</td>\n",
       "      <td>23</td>\n",
       "      <td>0</td>\n",
       "    </tr>\n",
       "  </tbody>\n",
       "</table>\n",
       "<p>768 rows × 9 columns</p>\n",
       "</div>"
      ],
      "text/plain": [
       "     Pregnancies  Glucose  BloodPressure  SkinThickness  Insulin   BMI  \\\n",
       "0              6      148             72             35        0  33.6   \n",
       "1              1       85             66             29        0  26.6   \n",
       "2              8      183             64              0        0  23.3   \n",
       "3              1       89             66             23       94  28.1   \n",
       "4              0      137             40             35      168  43.1   \n",
       "..           ...      ...            ...            ...      ...   ...   \n",
       "763           10      101             76             48      180  32.9   \n",
       "764            2      122             70             27        0  36.8   \n",
       "765            5      121             72             23      112  26.2   \n",
       "766            1      126             60              0        0  30.1   \n",
       "767            1       93             70             31        0  30.4   \n",
       "\n",
       "     DiabetesPedigreeFunction  Age  Outcome  \n",
       "0                       0.627   50        1  \n",
       "1                       0.351   31        0  \n",
       "2                       0.672   32        1  \n",
       "3                       0.167   21        0  \n",
       "4                       2.288   33        1  \n",
       "..                        ...  ...      ...  \n",
       "763                     0.171   63        0  \n",
       "764                     0.340   27        0  \n",
       "765                     0.245   30        0  \n",
       "766                     0.349   47        1  \n",
       "767                     0.315   23        0  \n",
       "\n",
       "[768 rows x 9 columns]"
      ]
     },
     "execution_count": 2,
     "metadata": {},
     "output_type": "execute_result"
    }
   ],
   "source": [
    "df = pd.read_csv('Diabetes.csv')\n",
    "df"
   ]
  },
  {
   "cell_type": "code",
   "execution_count": 3,
   "metadata": {
    "ExecuteTime": {
     "end_time": "2021-08-15T13:02:31.514522Z",
     "start_time": "2021-08-15T13:02:31.500561Z"
    }
   },
   "outputs": [],
   "source": [
    "X = df.drop('Outcome',axis=1)\n",
    "y = df['Outcome']"
   ]
  },
  {
   "cell_type": "code",
   "execution_count": 4,
   "metadata": {
    "ExecuteTime": {
     "end_time": "2021-08-15T13:02:32.646703Z",
     "start_time": "2021-08-15T13:02:32.623768Z"
    }
   },
   "outputs": [],
   "source": [
    "from sklearn.model_selection import train_test_split\n",
    "from sklearn import preprocessing\n",
    "#split dataset into train and test data\n",
    "X_train, X_test, y_train, y_test = train_test_split(X, y, test_size=0.2, random_state=1, stratify=y)\n",
    "scaler = preprocessing.StandardScaler()\n",
    "X_train = scaler.fit_transform(X_train)\n",
    "X_test = scaler.fit_transform(X_test)"
   ]
  },
  {
   "cell_type": "code",
   "execution_count": 5,
   "metadata": {
    "ExecuteTime": {
     "end_time": "2021-08-15T13:02:33.595274Z",
     "start_time": "2021-08-15T13:02:33.583729Z"
    }
   },
   "outputs": [
    {
     "data": {
      "text/plain": [
       "LogisticRegression()"
      ]
     },
     "execution_count": 5,
     "metadata": {},
     "output_type": "execute_result"
    }
   ],
   "source": [
    "LogisticRegression()"
   ]
  },
  {
   "cell_type": "code",
   "execution_count": 6,
   "metadata": {
    "ExecuteTime": {
     "end_time": "2021-08-15T13:02:33.781020Z",
     "start_time": "2021-08-15T13:02:33.680292Z"
    }
   },
   "outputs": [
    {
     "data": {
      "text/plain": [
       "array([0.61290323, 0.69354839, 0.64516129, 0.77419355, 0.68852459,\n",
       "       0.62295082, 0.6557377 , 0.70491803, 0.50819672, 0.60655738])"
      ]
     },
     "execution_count": 6,
     "metadata": {},
     "output_type": "execute_result"
    }
   ],
   "source": [
    "from sklearn.model_selection import cross_val_score\n",
    "from sklearn.model_selection import KFold\n",
    "logreg = LogisticRegression(C=0.0001,penalty='l2',max_iter=1000)\n",
    "logreg.fit(X_train, y_train)    \n",
    "scoreCV = cross_val_score(logreg, X_train, y_train, scoring='accuracy',\n",
    "                             cv=KFold(n_splits=10, shuffle=True,\n",
    "                                            random_state=1))\n",
    "scoreCV"
   ]
  },
  {
   "cell_type": "code",
   "execution_count": 7,
   "metadata": {
    "ExecuteTime": {
     "end_time": "2021-08-15T13:02:34.967486Z",
     "start_time": "2021-08-15T13:02:34.945770Z"
    }
   },
   "outputs": [
    {
     "data": {
      "text/plain": [
       "0.6512691697514542"
      ]
     },
     "execution_count": 7,
     "metadata": {},
     "output_type": "execute_result"
    }
   ],
   "source": [
    "np.mean(scoreCV)"
   ]
  },
  {
   "cell_type": "code",
   "execution_count": 9,
   "metadata": {
    "ExecuteTime": {
     "end_time": "2021-08-15T13:03:02.512968Z",
     "start_time": "2021-08-15T13:03:02.492488Z"
    }
   },
   "outputs": [
    {
     "name": "stdout",
     "output_type": "stream",
     "text": [
      "                  Variables  Coefficients\n",
      "0                 Intercept     -0.625593\n",
      "1               Pregnancies      0.006513\n",
      "2                   Glucose      0.013423\n",
      "3             BloodPressure      0.001393\n",
      "4             SkinThickness      0.001512\n",
      "5                   Insulin      0.003609\n",
      "6                       BMI      0.008273\n",
      "7  DiabetesPedigreeFunction      0.006052\n",
      "8                       Age      0.007036\n"
     ]
    }
   ],
   "source": [
    "Model_intercept = pd.DataFrame({\"Variables\":'Intercept',\"Coefficients\":logreg.intercept_[0]},index=[0])\n",
    "Model_coefficients = pd.DataFrame({\"Variables\":X.columns,\"Coefficients\":np.transpose(logreg.coef_[0])})\n",
    "Model_coefficients = pd.concat([Model_intercept,Model_coefficients]).reset_index(drop=True)\n",
    "print(Model_coefficients)"
   ]
  },
  {
   "cell_type": "code",
   "execution_count": 10,
   "metadata": {
    "ExecuteTime": {
     "end_time": "2021-08-15T13:03:31.316812Z",
     "start_time": "2021-08-15T13:03:31.246489Z"
    }
   },
   "outputs": [
    {
     "data": {
      "text/plain": [
       "0.7587519830777366"
      ]
     },
     "execution_count": 10,
     "metadata": {},
     "output_type": "execute_result"
    }
   ],
   "source": [
    "logreg = LogisticRegression(C=0.01,penalty='l2',max_iter=1000)\n",
    "logreg.fit(X_train, y_train)    \n",
    "scoreCV = cross_val_score(logreg, X_train, y_train, scoring='accuracy',\n",
    "                             cv=KFold(n_splits=10, shuffle=True,\n",
    "                                            random_state=1))\n",
    "scoreCV\n",
    "np.mean(scoreCV)"
   ]
  },
  {
   "cell_type": "code",
   "execution_count": 11,
   "metadata": {
    "ExecuteTime": {
     "end_time": "2021-08-15T13:04:00.913974Z",
     "start_time": "2021-08-15T13:04:00.887792Z"
    }
   },
   "outputs": [
    {
     "name": "stdout",
     "output_type": "stream",
     "text": [
      "                  Variables  Coefficients\n",
      "0                 Intercept     -0.713106\n",
      "1               Pregnancies      0.212846\n",
      "2                   Glucose      0.504936\n",
      "3             BloodPressure     -0.066062\n",
      "4             SkinThickness     -0.012284\n",
      "5                   Insulin      0.045881\n",
      "6                       BMI      0.313679\n",
      "7  DiabetesPedigreeFunction      0.205988\n",
      "8                       Age      0.170932\n"
     ]
    }
   ],
   "source": [
    "Model_intercept = pd.DataFrame({\"Variables\":'Intercept',\"Coefficients\":logreg.intercept_[0]},index=[0])\n",
    "Model_coefficients = pd.DataFrame({\"Variables\":X.columns,\"Coefficients\":np.transpose(logreg.coef_[0])})\n",
    "Model_coefficients = pd.concat([Model_intercept,Model_coefficients]).reset_index(drop=True)\n",
    "print(Model_coefficients)"
   ]
  },
  {
   "cell_type": "code",
   "execution_count": 12,
   "metadata": {
    "ExecuteTime": {
     "end_time": "2021-08-15T13:04:22.465700Z",
     "start_time": "2021-08-15T13:04:22.373436Z"
    }
   },
   "outputs": [
    {
     "data": {
      "text/plain": [
       "0.7816763617133792"
      ]
     },
     "execution_count": 12,
     "metadata": {},
     "output_type": "execute_result"
    }
   ],
   "source": [
    "logreg = LogisticRegression(C=10,penalty='l2',max_iter=1000)\n",
    "logreg.fit(X_train, y_train)    \n",
    "scoreCV = cross_val_score(logreg, X_train, y_train, scoring='accuracy',\n",
    "                             cv=KFold(n_splits=10, shuffle=True,\n",
    "                                            random_state=1))\n",
    "scoreCV\n",
    "np.mean(scoreCV)"
   ]
  },
  {
   "cell_type": "code",
   "execution_count": 13,
   "metadata": {
    "ExecuteTime": {
     "end_time": "2021-08-15T13:04:43.029560Z",
     "start_time": "2021-08-15T13:04:42.949114Z"
    }
   },
   "outputs": [
    {
     "data": {
      "text/plain": [
       "0.7816763617133792"
      ]
     },
     "execution_count": 13,
     "metadata": {},
     "output_type": "execute_result"
    }
   ],
   "source": [
    "logreg = LogisticRegression(C=100,penalty='l2',max_iter=1000)\n",
    "logreg.fit(X_train, y_train)    \n",
    "scoreCV = cross_val_score(logreg, X_train, y_train, scoring='accuracy',\n",
    "                             cv=KFold(n_splits=10, shuffle=True,\n",
    "                                            random_state=1))\n",
    "scoreCV\n",
    "np.mean(scoreCV)"
   ]
  },
  {
   "cell_type": "code",
   "execution_count": 14,
   "metadata": {
    "ExecuteTime": {
     "end_time": "2021-08-15T13:05:12.575721Z",
     "start_time": "2021-08-15T13:05:12.090325Z"
    }
   },
   "outputs": [],
   "source": [
    "from sklearn.model_selection import cross_val_score\n",
    "from sklearn.model_selection import KFold\n",
    "C_param_range = [0.001,0.01,0.1,1,10,100,1000,10000]\n",
    "scoresCV = []\n",
    "for c in C_param_range:\n",
    "    logreg = LogisticRegression(C=c,penalty='l2',max_iter=1000)\n",
    "    logreg.fit(X_train, y_train)    \n",
    "    scoreCV = cross_val_score(logreg, X_train, y_train, scoring='accuracy',\n",
    "                             cv=KFold(n_splits=10, shuffle=True,\n",
    "                                            random_state=1))\n",
    "    scoresCV.append([c,np.mean(scoreCV)])"
   ]
  },
  {
   "cell_type": "code",
   "execution_count": 15,
   "metadata": {
    "ExecuteTime": {
     "end_time": "2021-08-15T13:05:21.071173Z",
     "start_time": "2021-08-15T13:05:21.045142Z"
    }
   },
   "outputs": [
    {
     "data": {
      "text/html": [
       "<div>\n",
       "<style scoped>\n",
       "    .dataframe tbody tr th:only-of-type {\n",
       "        vertical-align: middle;\n",
       "    }\n",
       "\n",
       "    .dataframe tbody tr th {\n",
       "        vertical-align: top;\n",
       "    }\n",
       "\n",
       "    .dataframe thead th {\n",
       "        text-align: right;\n",
       "    }\n",
       "</style>\n",
       "<table border=\"1\" class=\"dataframe\">\n",
       "  <thead>\n",
       "    <tr style=\"text-align: right;\">\n",
       "      <th></th>\n",
       "      <th>C (1/lambda)</th>\n",
       "      <th>Validation Accuracy</th>\n",
       "    </tr>\n",
       "  </thead>\n",
       "  <tbody>\n",
       "    <tr>\n",
       "      <th>0</th>\n",
       "      <td>0.001</td>\n",
       "      <td>0.651269</td>\n",
       "    </tr>\n",
       "    <tr>\n",
       "      <th>1</th>\n",
       "      <td>0.010</td>\n",
       "      <td>0.758752</td>\n",
       "    </tr>\n",
       "    <tr>\n",
       "      <th>2</th>\n",
       "      <td>0.100</td>\n",
       "      <td>0.776811</td>\n",
       "    </tr>\n",
       "    <tr>\n",
       "      <th>3</th>\n",
       "      <td>1.000</td>\n",
       "      <td>0.781676</td>\n",
       "    </tr>\n",
       "    <tr>\n",
       "      <th>4</th>\n",
       "      <td>10.000</td>\n",
       "      <td>0.781676</td>\n",
       "    </tr>\n",
       "    <tr>\n",
       "      <th>5</th>\n",
       "      <td>100.000</td>\n",
       "      <td>0.781676</td>\n",
       "    </tr>\n",
       "    <tr>\n",
       "      <th>6</th>\n",
       "      <td>1000.000</td>\n",
       "      <td>0.781676</td>\n",
       "    </tr>\n",
       "    <tr>\n",
       "      <th>7</th>\n",
       "      <td>10000.000</td>\n",
       "      <td>0.781676</td>\n",
       "    </tr>\n",
       "  </tbody>\n",
       "</table>\n",
       "</div>"
      ],
      "text/plain": [
       "   C (1/lambda)  Validation Accuracy\n",
       "0         0.001             0.651269\n",
       "1         0.010             0.758752\n",
       "2         0.100             0.776811\n",
       "3         1.000             0.781676\n",
       "4        10.000             0.781676\n",
       "5       100.000             0.781676\n",
       "6      1000.000             0.781676\n",
       "7     10000.000             0.781676"
      ]
     },
     "execution_count": 15,
     "metadata": {},
     "output_type": "execute_result"
    }
   ],
   "source": [
    "df = pd.DataFrame(scoresCV,columns=['C (1/lambda)','Validation Accuracy'])\n",
    "df"
   ]
  },
  {
   "cell_type": "code",
   "execution_count": 16,
   "metadata": {
    "ExecuteTime": {
     "end_time": "2021-08-15T13:05:50.667206Z",
     "start_time": "2021-08-15T13:05:49.708162Z"
    }
   },
   "outputs": [
    {
     "data": {
      "image/png": "[encoded data removed]",
      "text/plain": [
       "<Figure size 432x288 with 1 Axes>"
      ]
     },
     "metadata": {
      "needs_background": "light"
     },
     "output_type": "display_data"
    }
   ],
   "source": [
    "ax = plt.gca()\n",
    "ax.plot(df['C (1/lambda)'].values,df['Validation Accuracy'].values)\n",
    "ax.set_xscale('log')"
   ]
  },
  {
   "cell_type": "code",
   "execution_count": 17,
   "metadata": {
    "ExecuteTime": {
     "end_time": "2021-08-15T13:06:06.691233Z",
     "start_time": "2021-08-15T13:06:06.669293Z"
    }
   },
   "outputs": [
    {
     "name": "stdout",
     "output_type": "stream",
     "text": [
      "0.7792207792207793\n"
     ]
    }
   ],
   "source": [
    "logreg = LogisticRegression(C=1,penalty='l2',max_iter=1000)\n",
    "logreg.fit(X_train, y_train)\n",
    "score = logreg.score(X_test, y_test)\n",
    "print(score)"
   ]
  },
  {
   "cell_type": "code",
   "execution_count": 18,
   "metadata": {
    "ExecuteTime": {
     "end_time": "2021-08-15T13:06:13.950453Z",
     "start_time": "2021-08-15T13:06:13.926617Z"
    }
   },
   "outputs": [
    {
     "name": "stdout",
     "output_type": "stream",
     "text": [
      "                  Variables  Coefficients\n",
      "0                 Intercept     -0.874340\n",
      "1               Pregnancies      0.452338\n",
      "2                   Glucose      1.075448\n",
      "3             BloodPressure     -0.299390\n",
      "4             SkinThickness     -0.075607\n",
      "5                   Insulin     -0.061885\n",
      "6                       BMI      0.735111\n",
      "7  DiabetesPedigreeFunction      0.411795\n",
      "8                       Age      0.169293\n"
     ]
    }
   ],
   "source": [
    "Model_intercept = pd.DataFrame({\"Variables\":'Intercept',\"Coefficients\":logreg.intercept_[0]},index=[0])\n",
    "Model_coefficients = pd.DataFrame({\"Variables\":X.columns,\"Coefficients\":np.transpose(logreg.coef_[0])})\n",
    "Model_coefficients = pd.concat([Model_intercept,Model_coefficients]).reset_index(drop=True)\n",
    "print(Model_coefficients)"
   ]
  },
  {
   "cell_type": "code",
   "execution_count": 19,
   "metadata": {
    "ExecuteTime": {
     "end_time": "2021-08-15T13:06:34.889830Z",
     "start_time": "2021-08-15T13:06:34.844516Z"
    }
   },
   "outputs": [
    {
     "name": "stdout",
     "output_type": "stream",
     "text": [
      "0.6512691697514542\n",
      "                  Variables  Coefficients\n",
      "0                 Intercept           0.0\n",
      "1               Pregnancies           0.0\n",
      "2                   Glucose           0.0\n",
      "3             BloodPressure           0.0\n",
      "4             SkinThickness           0.0\n",
      "5                   Insulin           0.0\n",
      "6                       BMI           0.0\n",
      "7  DiabetesPedigreeFunction           0.0\n",
      "8                       Age           0.0\n"
     ]
    }
   ],
   "source": [
    "logreg = LogisticRegression(C=0.001,penalty='l1',max_iter=1000,solver='liblinear')\n",
    "logreg.fit(X_train, y_train)    \n",
    "scoreCV = cross_val_score(logreg, X_train, y_train, scoring='accuracy',\n",
    "                             cv=KFold(n_splits=10, shuffle=True,\n",
    "                                            random_state=1))\n",
    "print(np.mean(scoreCV))\n",
    "Model_intercept = pd.DataFrame({\"Variables\":'Intercept',\"Coefficients\":logreg.intercept_[0]},index=[0])\n",
    "Model_coefficients = pd.DataFrame({\"Variables\":X.columns,\"Coefficients\":np.transpose(logreg.coef_[0])})\n",
    "Model_coefficients = pd.concat([Model_intercept,Model_coefficients]).reset_index(drop=True)\n",
    "print(Model_coefficients)"
   ]
  },
  {
   "cell_type": "code",
   "execution_count": 20,
   "metadata": {
    "ExecuteTime": {
     "end_time": "2021-08-15T13:06:46.619501Z",
     "start_time": "2021-08-15T13:06:46.570672Z"
    }
   },
   "outputs": [
    {
     "name": "stdout",
     "output_type": "stream",
     "text": [
      "0.7134056054997356\n",
      "                  Variables  Coefficients\n",
      "0                 Intercept      0.000000\n",
      "1               Pregnancies      0.000000\n",
      "2                   Glucose      0.245535\n",
      "3             BloodPressure      0.000000\n",
      "4             SkinThickness      0.000000\n",
      "5                   Insulin      0.000000\n",
      "6                       BMI      0.000000\n",
      "7  DiabetesPedigreeFunction      0.000000\n",
      "8                       Age      0.000000\n"
     ]
    }
   ],
   "source": [
    "logreg = LogisticRegression(C=0.01,penalty='l1',max_iter=1000,solver='liblinear')\n",
    "logreg.fit(X_train, y_train)    \n",
    "scoreCV = cross_val_score(logreg, X_train, y_train, scoring='accuracy',\n",
    "                             cv=KFold(n_splits=10, shuffle=True,\n",
    "                                            random_state=1))\n",
    "scoreCV\n",
    "print(np.mean(scoreCV))\n",
    "Model_intercept = pd.DataFrame({\"Variables\":'Intercept',\"Coefficients\":logreg.intercept_[0]},index=[0])\n",
    "Model_coefficients = pd.DataFrame({\"Variables\":X.columns,\"Coefficients\":np.transpose(logreg.coef_[0])})\n",
    "Model_coefficients = pd.concat([Model_intercept,Model_coefficients]).reset_index(drop=True)\n",
    "print(Model_coefficients)"
   ]
  },
  {
   "cell_type": "code",
   "execution_count": 21,
   "metadata": {
    "ExecuteTime": {
     "end_time": "2021-08-15T13:07:00.475901Z",
     "start_time": "2021-08-15T13:07:00.423861Z"
    }
   },
   "outputs": [
    {
     "name": "stdout",
     "output_type": "stream",
     "text": [
      "0.7719460602855632\n",
      "                  Variables  Coefficients\n",
      "0                 Intercept     -0.709180\n",
      "1               Pregnancies      0.344331\n",
      "2                   Glucose      0.915845\n",
      "3             BloodPressure     -0.123281\n",
      "4             SkinThickness      0.000000\n",
      "5                   Insulin      0.000000\n",
      "6                       BMI      0.497276\n",
      "7  DiabetesPedigreeFunction      0.280515\n",
      "8                       Age      0.095490\n"
     ]
    }
   ],
   "source": [
    "logreg = LogisticRegression(C=0.1,penalty='l1',max_iter=1000,solver='liblinear')\n",
    "logreg.fit(X_train, y_train)    \n",
    "scoreCV = cross_val_score(logreg, X_train, y_train, scoring='accuracy',\n",
    "                             cv=KFold(n_splits=10, shuffle=True,\n",
    "                                            random_state=1))\n",
    "scoreCV\n",
    "print(np.mean(scoreCV))\n",
    "Model_intercept = pd.DataFrame({\"Variables\":'Intercept',\"Coefficients\":logreg.intercept_[0]},index=[0])\n",
    "Model_coefficients = pd.DataFrame({\"Variables\":X.columns,\"Coefficients\":np.transpose(logreg.coef_[0])})\n",
    "Model_coefficients = pd.concat([Model_intercept,Model_coefficients]).reset_index(drop=True)\n",
    "print(Model_coefficients)"
   ]
  },
  {
   "cell_type": "code",
   "execution_count": 22,
   "metadata": {
    "ExecuteTime": {
     "end_time": "2021-08-15T13:07:09.770073Z",
     "start_time": "2021-08-15T13:07:09.592410Z"
    }
   },
   "outputs": [],
   "source": [
    "from sklearn.model_selection import cross_val_score\n",
    "from sklearn.model_selection import KFold\n",
    "C_param_range = [0.001,0.01,0.1,1,10,100,1000,10000]\n",
    "scoresCV = []\n",
    "for c in C_param_range:\n",
    "    logreg = LogisticRegression(C=c,penalty='l1',max_iter=1000,solver='liblinear')\n",
    "    logreg.fit(X_train, y_train)    \n",
    "    scoreCV = cross_val_score(logreg, X_train, y_train, scoring='accuracy',\n",
    "                             cv=KFold(n_splits=10, shuffle=True,\n",
    "                                            random_state=1))\n",
    "    scoresCV.append([c,np.mean(scoreCV)])"
   ]
  },
  {
   "cell_type": "code",
   "execution_count": 23,
   "metadata": {
    "ExecuteTime": {
     "end_time": "2021-08-15T13:07:13.733742Z",
     "start_time": "2021-08-15T13:07:12.980436Z"
    }
   },
   "outputs": [
    {
     "data": {
      "image/png": "[encoded data removed]",
      "text/plain": [
       "<Figure size 432x288 with 1 Axes>"
      ]
     },
     "metadata": {
      "needs_background": "light"
     },
     "output_type": "display_data"
    }
   ],
   "source": [
    "ax = plt.gca()\n",
    "ax.plot(df['C (1/lambda)'].values,df['Validation Accuracy'].values)\n",
    "ax.set_xscale('log')"
   ]
  },
  {
   "cell_type": "code",
   "execution_count": null,
   "metadata": {},
   "outputs": [],
   "source": [
    "logreg = LogisticRegression(C=1,penalty='l1',max_iter=1000,solver='liblinear')\n",
    "logreg.fit(X_train, y_train)\n",
    "score = logreg.score(X_test, y_test)\n",
    "print(score)\n",
    "Model_intercept = pd.DataFrame({\"Variables\":'Intercept',\"Coefficients\":logreg.intercept_[0]},index=[0])\n",
    "Model_coefficients = pd.DataFrame({\"Variables\":X.columns,\"Coefficients\":np.transpose(logreg.coef_[0])})\n",
    "Model_coefficients = pd.concat([Model_intercept,Model_coefficients]).reset_index(drop=True)\n",
    "print(Model_coefficients)"
   ]
  },
  {
   "cell_type": "code",
   "execution_count": null,
   "metadata": {},
   "outputs": [],
   "source": []
  }
 ],
 "metadata": {
  "kernelspec": {
   "display_name": "Python 3",
   "language": "python",
   "name": "python3"
  },
  "language_info": {
   "codemirror_mode": {
    "name": "ipython",
    "version": 3
   },
   "file_extension": ".py",
   "mimetype": "text/x-python",
   "name": "python",
   "nbconvert_exporter": "python",
   "pygments_lexer": "ipython3",
   "version": "3.8.10"
  },
  "varInspector": {
   "cols": {
    "lenName": 16,
    "lenType": 16,
    "lenVar": 40
   },
   "kernels_config": {
    "python": {
     "delete_cmd_postfix": "",
     "delete_cmd_prefix": "del ",
     "library": "var_list.py",
     "varRefreshCmd": "print(var_dic_list())"
    },
    "r": {
     "delete_cmd_postfix": ") ",
     "delete_cmd_prefix": "rm(",
     "library": "var_list.r",
     "varRefreshCmd": "cat(var_dic_list()) "
    }
   },
   "types_to_exclude": [
    "module",
    "function",
    "builtin_function_or_method",
    "instance",
    "_Feature"
   ],
   "window_display": false
  }
 },
 "nbformat": 4,
 "nbformat_minor": 1
}
