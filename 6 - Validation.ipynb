{
 "cells": [
  {
   "cell_type": "code",
   "execution_count": 1,
   "metadata": {
    "ExecuteTime": {
     "end_time": "2021-08-15T11:37:12.895410Z",
     "start_time": "2021-08-15T11:37:06.354200Z"
    }
   },
   "outputs": [],
   "source": [
    "import numpy as np\n",
    "import matplotlib.pyplot as plt\n",
    "import pandas as pd\n",
    "from sklearn.linear_model import LinearRegression\n",
    "np.random.seed(0)"
   ]
  },
  {
   "cell_type": "code",
   "execution_count": 2,
   "metadata": {
    "ExecuteTime": {
     "end_time": "2021-08-15T11:37:12.974401Z",
     "start_time": "2021-08-15T11:37:12.916474Z"
    }
   },
   "outputs": [
    {
     "data": {
      "text/html": [
       "<div>\n",
       "<style scoped>\n",
       "    .dataframe tbody tr th:only-of-type {\n",
       "        vertical-align: middle;\n",
       "    }\n",
       "\n",
       "    .dataframe tbody tr th {\n",
       "        vertical-align: top;\n",
       "    }\n",
       "\n",
       "    .dataframe thead th {\n",
       "        text-align: right;\n",
       "    }\n",
       "</style>\n",
       "<table border=\"1\" class=\"dataframe\">\n",
       "  <thead>\n",
       "    <tr style=\"text-align: right;\">\n",
       "      <th></th>\n",
       "      <th>mpg</th>\n",
       "      <th>horsepower</th>\n",
       "    </tr>\n",
       "  </thead>\n",
       "  <tbody>\n",
       "    <tr>\n",
       "      <th>19</th>\n",
       "      <td>26.0</td>\n",
       "      <td>46</td>\n",
       "    </tr>\n",
       "    <tr>\n",
       "      <th>101</th>\n",
       "      <td>26.0</td>\n",
       "      <td>46</td>\n",
       "    </tr>\n",
       "    <tr>\n",
       "      <th>324</th>\n",
       "      <td>43.4</td>\n",
       "      <td>48</td>\n",
       "    </tr>\n",
       "    <tr>\n",
       "      <th>323</th>\n",
       "      <td>44.3</td>\n",
       "      <td>48</td>\n",
       "    </tr>\n",
       "    <tr>\n",
       "      <th>242</th>\n",
       "      <td>43.1</td>\n",
       "      <td>48</td>\n",
       "    </tr>\n",
       "    <tr>\n",
       "      <th>...</th>\n",
       "      <td>...</td>\n",
       "      <td>...</td>\n",
       "    </tr>\n",
       "    <tr>\n",
       "      <th>6</th>\n",
       "      <td>14.0</td>\n",
       "      <td>220</td>\n",
       "    </tr>\n",
       "    <tr>\n",
       "      <th>8</th>\n",
       "      <td>14.0</td>\n",
       "      <td>225</td>\n",
       "    </tr>\n",
       "    <tr>\n",
       "      <th>94</th>\n",
       "      <td>12.0</td>\n",
       "      <td>225</td>\n",
       "    </tr>\n",
       "    <tr>\n",
       "      <th>13</th>\n",
       "      <td>14.0</td>\n",
       "      <td>225</td>\n",
       "    </tr>\n",
       "    <tr>\n",
       "      <th>115</th>\n",
       "      <td>16.0</td>\n",
       "      <td>230</td>\n",
       "    </tr>\n",
       "  </tbody>\n",
       "</table>\n",
       "<p>392 rows × 2 columns</p>\n",
       "</div>"
      ],
      "text/plain": [
       "      mpg  horsepower\n",
       "19   26.0          46\n",
       "101  26.0          46\n",
       "324  43.4          48\n",
       "323  44.3          48\n",
       "242  43.1          48\n",
       "..    ...         ...\n",
       "6    14.0         220\n",
       "8    14.0         225\n",
       "94   12.0         225\n",
       "13   14.0         225\n",
       "115  16.0         230\n",
       "\n",
       "[392 rows x 2 columns]"
      ]
     },
     "execution_count": 2,
     "metadata": {},
     "output_type": "execute_result"
    }
   ],
   "source": [
    "auto = pd.read_csv('Auto.csv')\n",
    "#check data has been read in properly\n",
    "auto=auto.sort_values(by='horsepower')\n",
    "auto"
   ]
  },
  {
   "cell_type": "code",
   "execution_count": 4,
   "metadata": {
    "ExecuteTime": {
     "end_time": "2021-08-15T11:39:01.158864Z",
     "start_time": "2021-08-15T11:39:01.138968Z"
    }
   },
   "outputs": [],
   "source": [
    "y=auto['mpg'].values\n",
    "x=auto['horsepower'].values.reshape(-1,1)"
   ]
  },
  {
   "cell_type": "code",
   "execution_count": 5,
   "metadata": {
    "ExecuteTime": {
     "end_time": "2021-08-15T11:39:12.474966Z",
     "start_time": "2021-08-15T11:39:12.419533Z"
    }
   },
   "outputs": [],
   "source": [
    "from sklearn.model_selection import train_test_split\n",
    "X_train, X_test, Y_train, Y_test = train_test_split(x, y, test_size=0.2, random_state=5)"
   ]
  },
  {
   "cell_type": "code",
   "execution_count": 6,
   "metadata": {
    "ExecuteTime": {
     "end_time": "2021-08-15T11:39:27.996071Z",
     "start_time": "2021-08-15T11:39:27.981380Z"
    }
   },
   "outputs": [],
   "source": [
    "from sklearn.model_selection import train_test_split\n",
    "X_trainv, X_valid, Y_trainv, Y_valid = train_test_split(X_train, Y_train, test_size=0.5, random_state=7)"
   ]
  },
  {
   "cell_type": "code",
   "execution_count": 7,
   "metadata": {
    "ExecuteTime": {
     "end_time": "2021-08-15T11:39:29.312364Z",
     "start_time": "2021-08-15T11:39:29.294522Z"
    }
   },
   "outputs": [
    {
     "data": {
      "text/plain": [
       "156"
      ]
     },
     "execution_count": 7,
     "metadata": {},
     "output_type": "execute_result"
    }
   ],
   "source": [
    "len(Y_trainv)"
   ]
  },
  {
   "cell_type": "code",
   "execution_count": 8,
   "metadata": {
    "ExecuteTime": {
     "end_time": "2021-08-15T11:39:29.404249Z",
     "start_time": "2021-08-15T11:39:29.393569Z"
    }
   },
   "outputs": [],
   "source": [
    "from sklearn.preprocessing import PolynomialFeatures\n",
    "from sklearn.metrics import mean_squared_error"
   ]
  },
  {
   "cell_type": "code",
   "execution_count": 9,
   "metadata": {
    "ExecuteTime": {
     "end_time": "2021-08-15T11:45:19.404824Z",
     "start_time": "2021-08-15T11:45:19.390950Z"
    }
   },
   "outputs": [],
   "source": [
    "def create_polynomial_regression_model(degree):\n",
    "  \"Creates a polynomial regression model for the given degree\"\n",
    "  \n",
    "  poly_features = PolynomialFeatures(degree=degree)\n",
    "  \n",
    "  # transforms the existing features to higher degree features.\n",
    "  X_train_poly = poly_features.fit_transform(X_trainv)\n",
    "  \n",
    "  # fit the transformed features to Linear Regression\n",
    "  poly_model = LinearRegression()\n",
    "  poly_model.fit(X_train_poly, Y_trainv)\n",
    "  \n",
    "  # predicting on training data-set\n",
    "  y_train_predicted = poly_model.predict(X_train_poly)\n",
    "  \n",
    "  # predicting on validation data-set\n",
    "  y_valid_predict = poly_model.predict(poly_features.fit_transform(X_valid))\n",
    "  \n",
    "  # evaluating the model on training dataset\n",
    "  mse_train = mean_squared_error(Y_trainv, y_train_predicted)\n",
    "  \n",
    "  # evaluating the model on validation dataset\n",
    "  mse_valid = mean_squared_error(Y_valid, y_valid_predict)\n",
    "   \n",
    "  return (mse_train,mse_valid,degree)"
   ]
  },
  {
   "cell_type": "code",
   "execution_count": 11,
   "metadata": {
    "ExecuteTime": {
     "end_time": "2021-08-15T11:45:36.761592Z",
     "start_time": "2021-08-15T11:45:36.573932Z"
    }
   },
   "outputs": [
    {
     "data": {
      "text/html": [
       "<div>\n",
       "<style scoped>\n",
       "    .dataframe tbody tr th:only-of-type {\n",
       "        vertical-align: middle;\n",
       "    }\n",
       "\n",
       "    .dataframe tbody tr th {\n",
       "        vertical-align: top;\n",
       "    }\n",
       "\n",
       "    .dataframe thead th {\n",
       "        text-align: right;\n",
       "    }\n",
       "</style>\n",
       "<table border=\"1\" class=\"dataframe\">\n",
       "  <thead>\n",
       "    <tr style=\"text-align: right;\">\n",
       "      <th></th>\n",
       "      <th>Training Error</th>\n",
       "      <th>Validation Error</th>\n",
       "      <th>Degree</th>\n",
       "    </tr>\n",
       "  </thead>\n",
       "  <tbody>\n",
       "    <tr>\n",
       "      <th>0</th>\n",
       "      <td>19.689741</td>\n",
       "      <td>26.998717</td>\n",
       "      <td>1</td>\n",
       "    </tr>\n",
       "    <tr>\n",
       "      <th>1</th>\n",
       "      <td>16.720651</td>\n",
       "      <td>19.473031</td>\n",
       "      <td>2</td>\n",
       "    </tr>\n",
       "    <tr>\n",
       "      <th>2</th>\n",
       "      <td>16.716183</td>\n",
       "      <td>19.548135</td>\n",
       "      <td>3</td>\n",
       "    </tr>\n",
       "    <tr>\n",
       "      <th>3</th>\n",
       "      <td>16.376321</td>\n",
       "      <td>20.597873</td>\n",
       "      <td>4</td>\n",
       "    </tr>\n",
       "    <tr>\n",
       "      <th>4</th>\n",
       "      <td>15.998522</td>\n",
       "      <td>20.625272</td>\n",
       "      <td>5</td>\n",
       "    </tr>\n",
       "    <tr>\n",
       "      <th>5</th>\n",
       "      <td>15.502682</td>\n",
       "      <td>22.078227</td>\n",
       "      <td>6</td>\n",
       "    </tr>\n",
       "    <tr>\n",
       "      <th>6</th>\n",
       "      <td>15.976434</td>\n",
       "      <td>21.400305</td>\n",
       "      <td>7</td>\n",
       "    </tr>\n",
       "  </tbody>\n",
       "</table>\n",
       "</div>"
      ],
      "text/plain": [
       "   Training Error  Validation Error  Degree\n",
       "0       19.689741         26.998717       1\n",
       "1       16.720651         19.473031       2\n",
       "2       16.716183         19.548135       3\n",
       "3       16.376321         20.597873       4\n",
       "4       15.998522         20.625272       5\n",
       "5       15.502682         22.078227       6\n",
       "6       15.976434         21.400305       7"
      ]
     },
     "execution_count": 11,
     "metadata": {},
     "output_type": "execute_result"
    }
   ],
   "source": [
    "a=[]\n",
    "for i in range(1,8):\n",
    "    a.append(create_polynomial_regression_model(i))\n",
    "df = pd.DataFrame(a,columns=['Training Error','Validation Error','Degree'])\n",
    "df"
   ]
  },
  {
   "cell_type": "code",
   "execution_count": 12,
   "metadata": {
    "ExecuteTime": {
     "end_time": "2021-08-15T11:46:00.632353Z",
     "start_time": "2021-08-15T11:46:00.178372Z"
    }
   },
   "outputs": [
    {
     "data": {
      "text/plain": [
       "<matplotlib.legend.Legend at 0x286e1232eb0>"
      ]
     },
     "execution_count": 12,
     "metadata": {},
     "output_type": "execute_result"
    },
    {
     "data": {
      "image/png": "[encoded data removed]",
      "text/plain": [
       "<Figure size 432x288 with 1 Axes>"
      ]
     },
     "metadata": {
      "needs_background": "light"
     },
     "output_type": "display_data"
    }
   ],
   "source": [
    "fig=plt.figure()\n",
    "ax = fig.add_subplot(1, 1, 1)\n",
    "ax.plot(df['Degree'].values,df['Training Error'].values, label = 'Training Error')\n",
    "ax.plot(df['Degree'].values,df['Validation Error'].values,label = 'Validation Error')\n",
    "ax.set_xlabel('Degree')\n",
    "ax.set_ylabel('Errors')\n",
    "ax.tick_params(axis='x', labelsize=8)\n",
    "ax.legend(loc='best')"
   ]
  },
  {
   "cell_type": "code",
   "execution_count": 13,
   "metadata": {
    "ExecuteTime": {
     "end_time": "2021-08-15T11:46:34.799163Z",
     "start_time": "2021-08-15T11:46:34.738319Z"
    }
   },
   "outputs": [
    {
     "name": "stdout",
     "output_type": "stream",
     "text": [
      "23.777949113293726\n"
     ]
    }
   ],
   "source": [
    "#Let's finally fit a model with a chosen order of polynomial\n",
    "poly_features = PolynomialFeatures(degree=2)\n",
    "X_train_poly = poly_features.fit_transform(X_train)\n",
    "poly_model = LinearRegression()\n",
    "poly_model.fit(X_train_poly, Y_train)\n",
    "X_test_poly = poly_features.fit_transform(X_test)\n",
    "Y_test_predict=poly_model.predict(X_test_poly)\n",
    "mse_test = mean_squared_error(Y_test, Y_test_predict)\n",
    "print(mse_test)"
   ]
  },
  {
   "cell_type": "code",
   "execution_count": 14,
   "metadata": {
    "ExecuteTime": {
     "end_time": "2021-08-15T11:48:26.742608Z",
     "start_time": "2021-08-15T11:48:26.197454Z"
    }
   },
   "outputs": [
    {
     "data": {
      "text/plain": [
       "Text(0, 0.5, 'Errors')"
      ]
     },
     "execution_count": 14,
     "metadata": {},
     "output_type": "execute_result"
    },
    {
     "data": {
      "image/png": "[encoded data removed]",
      "text/plain": [
       "<Figure size 432x288 with 1 Axes>"
      ]
     },
     "metadata": {
      "needs_background": "light"
     },
     "output_type": "display_data"
    }
   ],
   "source": [
    "fig=plt.figure()\n",
    "ax = fig.add_subplot(1, 1, 1)\n",
    "for j in range(1,11):\n",
    "    X_trainv, X_valid, Y_trainv, Y_valid = train_test_split(X_train, Y_train, test_size=0.5, random_state=j)\n",
    "    a=[]\n",
    "    for i in range(1,8):\n",
    "        a.append(create_polynomial_regression_model(i))\n",
    "    df = pd.DataFrame(a,columns=['Training Error','Validation Error','Degree'])\n",
    "    ax.plot(df['Degree'].values,df['Validation Error'].values, label = 'Training Error')\n",
    "ax.set_xlabel('Degree')\n",
    "ax.set_ylabel('Errors')"
   ]
  },
  {
   "cell_type": "code",
   "execution_count": 15,
   "metadata": {
    "ExecuteTime": {
     "end_time": "2021-08-15T11:48:59.677525Z",
     "start_time": "2021-08-15T11:48:59.656886Z"
    }
   },
   "outputs": [
    {
     "name": "stdout",
     "output_type": "stream",
     "text": [
      "23.777949113293726\n"
     ]
    }
   ],
   "source": [
    "#Let's finally fit a model with a chosen order of polynomial\n",
    "poly_features = PolynomialFeatures(degree=2)\n",
    "X_train_poly = poly_features.fit_transform(X_train)\n",
    "poly_model = LinearRegression()\n",
    "poly_model.fit(X_train_poly, Y_train)\n",
    "X_test_poly = poly_features.fit_transform(X_test)\n",
    "Y_test_predict=poly_model.predict(X_test_poly)\n",
    "mse_test = mean_squared_error(Y_test, Y_test_predict)\n",
    "print(mse_test)"
   ]
  },
  {
   "cell_type": "code",
   "execution_count": 16,
   "metadata": {
    "ExecuteTime": {
     "end_time": "2021-08-15T11:49:24.538758Z",
     "start_time": "2021-08-15T11:49:24.522581Z"
    }
   },
   "outputs": [
    {
     "name": "stdout",
     "output_type": "stream",
     "text": [
      "[2 3 4] [1]\n",
      "[1 3 4] [2]\n",
      "[1 2 4] [3]\n",
      "[1 2 3] [4]\n"
     ]
    }
   ],
   "source": [
    "from sklearn.model_selection import LeaveOneOut\n",
    "loo = LeaveOneOut()\n",
    "X = np.array([1, 2, 3, 4])\n",
    "Y = np.array([5 ,6, 7, 8])\n",
    "for train_index, validation_index in loo.split(X):\n",
    "    X_train, X_valid = X[train_index], X[validation_index]\n",
    "    Y_train, Y_valid = Y[train_index], Y[validation_index]\n",
    "    print(X_train, X_valid)"
   ]
  },
  {
   "cell_type": "code",
   "execution_count": 17,
   "metadata": {
    "ExecuteTime": {
     "end_time": "2021-08-15T11:49:36.365846Z",
     "start_time": "2021-08-15T11:49:36.355783Z"
    }
   },
   "outputs": [
    {
     "data": {
      "text/plain": [
       "<generator object BaseCrossValidator.split at 0x00000286E131B430>"
      ]
     },
     "execution_count": 17,
     "metadata": {},
     "output_type": "execute_result"
    }
   ],
   "source": [
    "loo.split(X)"
   ]
  },
  {
   "cell_type": "code",
   "execution_count": 18,
   "metadata": {
    "ExecuteTime": {
     "end_time": "2021-08-15T11:49:43.877025Z",
     "start_time": "2021-08-15T11:49:43.856862Z"
    }
   },
   "outputs": [],
   "source": [
    "y=np.array(auto['mpg'].values)\n",
    "x=np.array(auto['horsepower'].values.reshape(-1,1))"
   ]
  },
  {
   "cell_type": "code",
   "execution_count": 19,
   "metadata": {
    "ExecuteTime": {
     "end_time": "2021-08-15T11:49:52.161986Z",
     "start_time": "2021-08-15T11:49:52.141660Z"
    }
   },
   "outputs": [],
   "source": [
    "X_train, X_test, Y_train, Y_test = train_test_split(x, y, test_size=0.2, random_state=5)"
   ]
  },
  {
   "cell_type": "code",
   "execution_count": 20,
   "metadata": {
    "ExecuteTime": {
     "end_time": "2021-08-15T11:50:13.710660Z",
     "start_time": "2021-08-15T11:50:12.981926Z"
    }
   },
   "outputs": [
    {
     "data": {
      "text/plain": [
       "Training Error      17.717221\n",
       "Validation Error    18.329240\n",
       "dtype: float64"
      ]
     },
     "execution_count": 20,
     "metadata": {},
     "output_type": "execute_result"
    }
   ],
   "source": [
    "from sklearn.model_selection import LeaveOneOut\n",
    "loo = LeaveOneOut()\n",
    "LeaveOneOutErrors=[]\n",
    "for train_index, validation_index in loo.split(X_train):\n",
    "    X_trainv, X_valid = X_train[train_index], X_train[validation_index]\n",
    "    Y_trainv, Y_valid = Y_train[train_index], Y_train[validation_index]\n",
    "    LeaveOneOutErrors.append(create_polynomial_regression_model(4))\n",
    "df = pd.DataFrame (LeaveOneOutErrors,columns=['Training Error','Validation Error','Degree'])\n",
    "LeaveOneOutCV = df[['Training Error','Validation Error']].mean()  \n",
    "LeaveOneOutCV  "
   ]
  },
  {
   "cell_type": "code",
   "execution_count": 21,
   "metadata": {
    "ExecuteTime": {
     "end_time": "2021-08-15T11:50:28.142848Z",
     "start_time": "2021-08-15T11:50:28.123683Z"
    }
   },
   "outputs": [
    {
     "data": {
      "text/html": [
       "<div>\n",
       "<style scoped>\n",
       "    .dataframe tbody tr th:only-of-type {\n",
       "        vertical-align: middle;\n",
       "    }\n",
       "\n",
       "    .dataframe tbody tr th {\n",
       "        vertical-align: top;\n",
       "    }\n",
       "\n",
       "    .dataframe thead th {\n",
       "        text-align: right;\n",
       "    }\n",
       "</style>\n",
       "<table border=\"1\" class=\"dataframe\">\n",
       "  <thead>\n",
       "    <tr style=\"text-align: right;\">\n",
       "      <th></th>\n",
       "      <th>Training Error</th>\n",
       "      <th>Validation Error</th>\n",
       "      <th>Degree</th>\n",
       "    </tr>\n",
       "  </thead>\n",
       "  <tbody>\n",
       "    <tr>\n",
       "      <th>0</th>\n",
       "      <td>17.773581</td>\n",
       "      <td>0.434358</td>\n",
       "      <td>4</td>\n",
       "    </tr>\n",
       "    <tr>\n",
       "      <th>1</th>\n",
       "      <td>17.771648</td>\n",
       "      <td>1.223944</td>\n",
       "      <td>4</td>\n",
       "    </tr>\n",
       "    <tr>\n",
       "      <th>2</th>\n",
       "      <td>17.702653</td>\n",
       "      <td>22.750464</td>\n",
       "      <td>4</td>\n",
       "    </tr>\n",
       "    <tr>\n",
       "      <th>3</th>\n",
       "      <td>17.765161</td>\n",
       "      <td>3.085358</td>\n",
       "      <td>4</td>\n",
       "    </tr>\n",
       "    <tr>\n",
       "      <th>4</th>\n",
       "      <td>17.741839</td>\n",
       "      <td>10.397366</td>\n",
       "      <td>4</td>\n",
       "    </tr>\n",
       "    <tr>\n",
       "      <th>...</th>\n",
       "      <td>...</td>\n",
       "      <td>...</td>\n",
       "      <td>...</td>\n",
       "    </tr>\n",
       "    <tr>\n",
       "      <th>308</th>\n",
       "      <td>17.764734</td>\n",
       "      <td>3.216237</td>\n",
       "      <td>4</td>\n",
       "    </tr>\n",
       "    <tr>\n",
       "      <th>309</th>\n",
       "      <td>17.754606</td>\n",
       "      <td>6.394813</td>\n",
       "      <td>4</td>\n",
       "    </tr>\n",
       "    <tr>\n",
       "      <th>310</th>\n",
       "      <td>17.767591</td>\n",
       "      <td>2.313419</td>\n",
       "      <td>4</td>\n",
       "    </tr>\n",
       "    <tr>\n",
       "      <th>311</th>\n",
       "      <td>17.773990</td>\n",
       "      <td>0.304625</td>\n",
       "      <td>4</td>\n",
       "    </tr>\n",
       "    <tr>\n",
       "      <th>312</th>\n",
       "      <td>17.774822</td>\n",
       "      <td>0.044233</td>\n",
       "      <td>4</td>\n",
       "    </tr>\n",
       "  </tbody>\n",
       "</table>\n",
       "<p>313 rows × 3 columns</p>\n",
       "</div>"
      ],
      "text/plain": [
       "     Training Error  Validation Error  Degree\n",
       "0         17.773581          0.434358       4\n",
       "1         17.771648          1.223944       4\n",
       "2         17.702653         22.750464       4\n",
       "3         17.765161          3.085358       4\n",
       "4         17.741839         10.397366       4\n",
       "..              ...               ...     ...\n",
       "308       17.764734          3.216237       4\n",
       "309       17.754606          6.394813       4\n",
       "310       17.767591          2.313419       4\n",
       "311       17.773990          0.304625       4\n",
       "312       17.774822          0.044233       4\n",
       "\n",
       "[313 rows x 3 columns]"
      ]
     },
     "execution_count": 21,
     "metadata": {},
     "output_type": "execute_result"
    }
   ],
   "source": [
    "df"
   ]
  },
  {
   "cell_type": "code",
   "execution_count": 22,
   "metadata": {
    "ExecuteTime": {
     "end_time": "2021-08-15T11:51:42.373387Z",
     "start_time": "2021-08-15T11:51:35.465023Z"
    }
   },
   "outputs": [
    {
     "data": {
      "text/html": [
       "<div>\n",
       "<style scoped>\n",
       "    .dataframe tbody tr th:only-of-type {\n",
       "        vertical-align: middle;\n",
       "    }\n",
       "\n",
       "    .dataframe tbody tr th {\n",
       "        vertical-align: top;\n",
       "    }\n",
       "\n",
       "    .dataframe thead th {\n",
       "        text-align: right;\n",
       "    }\n",
       "</style>\n",
       "<table border=\"1\" class=\"dataframe\">\n",
       "  <thead>\n",
       "    <tr style=\"text-align: right;\">\n",
       "      <th></th>\n",
       "      <th>Validation Error</th>\n",
       "      <th>Degree</th>\n",
       "    </tr>\n",
       "  </thead>\n",
       "  <tbody>\n",
       "    <tr>\n",
       "      <th>0</th>\n",
       "      <td>23.581743</td>\n",
       "      <td>1</td>\n",
       "    </tr>\n",
       "    <tr>\n",
       "      <th>1</th>\n",
       "      <td>18.087953</td>\n",
       "      <td>2</td>\n",
       "    </tr>\n",
       "    <tr>\n",
       "      <th>2</th>\n",
       "      <td>18.182536</td>\n",
       "      <td>3</td>\n",
       "    </tr>\n",
       "    <tr>\n",
       "      <th>3</th>\n",
       "      <td>18.329240</td>\n",
       "      <td>4</td>\n",
       "    </tr>\n",
       "    <tr>\n",
       "      <th>4</th>\n",
       "      <td>18.257441</td>\n",
       "      <td>5</td>\n",
       "    </tr>\n",
       "    <tr>\n",
       "      <th>5</th>\n",
       "      <td>18.386088</td>\n",
       "      <td>6</td>\n",
       "    </tr>\n",
       "    <tr>\n",
       "      <th>6</th>\n",
       "      <td>18.373553</td>\n",
       "      <td>7</td>\n",
       "    </tr>\n",
       "  </tbody>\n",
       "</table>\n",
       "</div>"
      ],
      "text/plain": [
       "   Validation Error  Degree\n",
       "0         23.581743       1\n",
       "1         18.087953       2\n",
       "2         18.182536       3\n",
       "3         18.329240       4\n",
       "4         18.257441       5\n",
       "5         18.386088       6\n",
       "6         18.373553       7"
      ]
     },
     "execution_count": 22,
     "metadata": {},
     "output_type": "execute_result"
    }
   ],
   "source": [
    "loo = LeaveOneOut()\n",
    "LeaveOneOutCV=[]\n",
    "for j in range(1,8):\n",
    "    LeaveOneOutErrors=[]\n",
    "    for train_index, validation_index in loo.split(X_train):\n",
    "        X_trainv, X_valid = X_train[train_index],X_train[validation_index]\n",
    "        Y_trainv, Y_valid = Y_train[train_index], Y_train[validation_index]\n",
    "        LeaveOneOutErrors.append(create_polynomial_regression_model(j))\n",
    "        df = pd.DataFrame (LeaveOneOutErrors,columns=['Training Error','Validation Error','Degree'])\n",
    "    LeaveOneOutCV.append([df['Validation Error'].mean(),df['Degree'][0]])  \n",
    "LeaveOneOutCV_df = pd.DataFrame (LeaveOneOutCV,columns=['Validation Error','Degree'])\n",
    "LeaveOneOutCV_df"
   ]
  },
  {
   "cell_type": "code",
   "execution_count": 23,
   "metadata": {
    "ExecuteTime": {
     "end_time": "2021-08-15T11:52:11.871882Z",
     "start_time": "2021-08-15T11:52:11.598100Z"
    }
   },
   "outputs": [
    {
     "data": {
      "text/plain": [
       "<matplotlib.legend.Legend at 0x286e1341ac0>"
      ]
     },
     "execution_count": 23,
     "metadata": {},
     "output_type": "execute_result"
    },
    {
     "data": {
      "image/png": "[encoded data removed]",
      "text/plain": [
       "<Figure size 432x288 with 1 Axes>"
      ]
     },
     "metadata": {
      "needs_background": "light"
     },
     "output_type": "display_data"
    }
   ],
   "source": [
    "fig=plt.figure()\n",
    "ax = fig.add_subplot(1, 1, 1)\n",
    "ax.plot(LeaveOneOutCV_df['Degree'].values,LeaveOneOutCV_df['Validation Error'].values,label = 'Leave One Out Error')\n",
    "ax.set_xlabel('Degree')\n",
    "ax.set_ylabel('Errors')\n",
    "ax.tick_params(axis='x', labelsize=8)\n",
    "ax.legend(loc='best')"
   ]
  },
  {
   "cell_type": "code",
   "execution_count": 24,
   "metadata": {
    "ExecuteTime": {
     "end_time": "2021-08-15T11:52:29.436235Z",
     "start_time": "2021-08-15T11:52:29.412969Z"
    }
   },
   "outputs": [
    {
     "name": "stdout",
     "output_type": "stream",
     "text": [
      "23.731069041572653\n"
     ]
    }
   ],
   "source": [
    "#Let's finally fit a model with a chosen order of polynomial\n",
    "poly_features = PolynomialFeatures(degree=3)\n",
    "X_train_poly = poly_features.fit_transform(X_train)\n",
    "poly_model = LinearRegression()\n",
    "poly_model.fit(X_train_poly, Y_train)\n",
    "X_test_poly = poly_features.fit_transform(X_test)\n",
    "Y_test_predict=poly_model.predict(X_test_poly)\n",
    "mse_test = mean_squared_error(Y_test, Y_test_predict)\n",
    "print(mse_test)"
   ]
  },
  {
   "cell_type": "code",
   "execution_count": 26,
   "metadata": {
    "ExecuteTime": {
     "end_time": "2021-08-15T11:53:08.849936Z",
     "start_time": "2021-08-15T11:53:08.834031Z"
    }
   },
   "outputs": [
    {
     "name": "stdout",
     "output_type": "stream",
     "text": [
      "[1 2 4 5 6 7 8 9] [ 3 10]\n",
      "[ 1  2  3  4  6  8  9 10] [5 7]\n",
      "[ 2  3  5  6  7  8  9 10] [1 4]\n",
      "[ 1  3  4  5  6  7  9 10] [2 8]\n",
      "[ 1  2  3  4  5  7  8 10] [6 9]\n"
     ]
    }
   ],
   "source": [
    "from sklearn.model_selection import KFold\n",
    "cv = KFold(n_splits=5,random_state=1, shuffle=True)\n",
    "X = np.array([1, 2, 3, 4,5,6,7,8,9,10])\n",
    "Y = np.array([11, 12, 13, 14,15,16,17,18,19,20])\n",
    "for train_index, validation_index in cv.split(X):\n",
    "    X_train, X_valid, Y_train, Y_valid = X[train_index], X[validation_index], Y[train_index], Y[validation_index]\n",
    "    print(X_train, X_valid)"
   ]
  },
  {
   "cell_type": "code",
   "execution_count": 27,
   "metadata": {
    "ExecuteTime": {
     "end_time": "2021-08-15T11:54:49.173249Z",
     "start_time": "2021-08-15T11:54:49.162120Z"
    }
   },
   "outputs": [],
   "source": [
    "y=np.array(auto['mpg'].values)\n",
    "x=np.array(auto['horsepower'].values.reshape(-1,1))"
   ]
  },
  {
   "cell_type": "code",
   "execution_count": 28,
   "metadata": {
    "ExecuteTime": {
     "end_time": "2021-08-15T11:54:53.101377Z",
     "start_time": "2021-08-15T11:54:53.086968Z"
    }
   },
   "outputs": [],
   "source": [
    "X_train, X_test, Y_train, Y_test = train_test_split(x, y, test_size=0.2, random_state=5)"
   ]
  },
  {
   "cell_type": "code",
   "execution_count": 29,
   "metadata": {
    "ExecuteTime": {
     "end_time": "2021-08-15T11:54:58.701202Z",
     "start_time": "2021-08-15T11:54:58.658601Z"
    }
   },
   "outputs": [
    {
     "data": {
      "text/plain": [
       "Training Error      17.768175\n",
       "Validation Error    17.870217\n",
       "dtype: float64"
      ]
     },
     "execution_count": 29,
     "metadata": {},
     "output_type": "execute_result"
    }
   ],
   "source": [
    "from sklearn.model_selection import KFold\n",
    "cv = KFold(n_splits=5, random_state=5, shuffle=True)\n",
    "CVErrors=[]\n",
    "for train_index, validation_index in cv.split(X_train):\n",
    "    X_trainv, X_valid, Y_trainv, Y_valid = X_train[train_index], X_train[validation_index], Y_train[train_index], Y_train[validation_index]\n",
    "    CVErrors.append(create_polynomial_regression_model(2))\n",
    "df = pd.DataFrame (CVErrors,columns=['Training Error','Validation Error','Degree'])\n",
    "kfoldCV = df[['Training Error','Validation Error']].mean()  \n",
    "kfoldCV  "
   ]
  },
  {
   "cell_type": "code",
   "execution_count": 30,
   "metadata": {
    "ExecuteTime": {
     "end_time": "2021-08-15T11:55:07.692711Z",
     "start_time": "2021-08-15T11:55:07.677595Z"
    }
   },
   "outputs": [
    {
     "data": {
      "text/html": [
       "<div>\n",
       "<style scoped>\n",
       "    .dataframe tbody tr th:only-of-type {\n",
       "        vertical-align: middle;\n",
       "    }\n",
       "\n",
       "    .dataframe tbody tr th {\n",
       "        vertical-align: top;\n",
       "    }\n",
       "\n",
       "    .dataframe thead th {\n",
       "        text-align: right;\n",
       "    }\n",
       "</style>\n",
       "<table border=\"1\" class=\"dataframe\">\n",
       "  <thead>\n",
       "    <tr style=\"text-align: right;\">\n",
       "      <th></th>\n",
       "      <th>Training Error</th>\n",
       "      <th>Validation Error</th>\n",
       "      <th>Degree</th>\n",
       "    </tr>\n",
       "  </thead>\n",
       "  <tbody>\n",
       "    <tr>\n",
       "      <th>0</th>\n",
       "      <td>17.989912</td>\n",
       "      <td>17.055220</td>\n",
       "      <td>2</td>\n",
       "    </tr>\n",
       "    <tr>\n",
       "      <th>1</th>\n",
       "      <td>17.388761</td>\n",
       "      <td>19.373706</td>\n",
       "      <td>2</td>\n",
       "    </tr>\n",
       "    <tr>\n",
       "      <th>2</th>\n",
       "      <td>17.583495</td>\n",
       "      <td>18.601646</td>\n",
       "      <td>2</td>\n",
       "    </tr>\n",
       "    <tr>\n",
       "      <th>3</th>\n",
       "      <td>18.549342</td>\n",
       "      <td>14.710377</td>\n",
       "      <td>2</td>\n",
       "    </tr>\n",
       "    <tr>\n",
       "      <th>4</th>\n",
       "      <td>17.329364</td>\n",
       "      <td>19.610135</td>\n",
       "      <td>2</td>\n",
       "    </tr>\n",
       "  </tbody>\n",
       "</table>\n",
       "</div>"
      ],
      "text/plain": [
       "   Training Error  Validation Error  Degree\n",
       "0       17.989912         17.055220       2\n",
       "1       17.388761         19.373706       2\n",
       "2       17.583495         18.601646       2\n",
       "3       18.549342         14.710377       2\n",
       "4       17.329364         19.610135       2"
      ]
     },
     "execution_count": 30,
     "metadata": {},
     "output_type": "execute_result"
    }
   ],
   "source": [
    "df"
   ]
  },
  {
   "cell_type": "code",
   "execution_count": 31,
   "metadata": {
    "ExecuteTime": {
     "end_time": "2021-08-15T11:56:08.052742Z",
     "start_time": "2021-08-15T11:56:07.814086Z"
    }
   },
   "outputs": [
    {
     "data": {
      "text/html": [
       "<div>\n",
       "<style scoped>\n",
       "    .dataframe tbody tr th:only-of-type {\n",
       "        vertical-align: middle;\n",
       "    }\n",
       "\n",
       "    .dataframe tbody tr th {\n",
       "        vertical-align: top;\n",
       "    }\n",
       "\n",
       "    .dataframe thead th {\n",
       "        text-align: right;\n",
       "    }\n",
       "</style>\n",
       "<table border=\"1\" class=\"dataframe\">\n",
       "  <thead>\n",
       "    <tr style=\"text-align: right;\">\n",
       "      <th></th>\n",
       "      <th>Training Error</th>\n",
       "      <th>Validation Error</th>\n",
       "      <th>Degree</th>\n",
       "    </tr>\n",
       "  </thead>\n",
       "  <tbody>\n",
       "    <tr>\n",
       "      <th>0</th>\n",
       "      <td>22.243896</td>\n",
       "      <td>31.826940</td>\n",
       "      <td>1</td>\n",
       "    </tr>\n",
       "    <tr>\n",
       "      <th>1</th>\n",
       "      <td>16.808504</td>\n",
       "      <td>26.350335</td>\n",
       "      <td>2</td>\n",
       "    </tr>\n",
       "    <tr>\n",
       "      <th>2</th>\n",
       "      <td>16.778261</td>\n",
       "      <td>26.245586</td>\n",
       "      <td>3</td>\n",
       "    </tr>\n",
       "    <tr>\n",
       "      <th>3</th>\n",
       "      <td>16.769890</td>\n",
       "      <td>26.133683</td>\n",
       "      <td>4</td>\n",
       "    </tr>\n",
       "    <tr>\n",
       "      <th>4</th>\n",
       "      <td>16.640612</td>\n",
       "      <td>25.504794</td>\n",
       "      <td>5</td>\n",
       "    </tr>\n",
       "    <tr>\n",
       "      <th>...</th>\n",
       "      <td>...</td>\n",
       "      <td>...</td>\n",
       "      <td>...</td>\n",
       "    </tr>\n",
       "    <tr>\n",
       "      <th>65</th>\n",
       "      <td>17.482690</td>\n",
       "      <td>20.442556</td>\n",
       "      <td>3</td>\n",
       "    </tr>\n",
       "    <tr>\n",
       "      <th>66</th>\n",
       "      <td>17.480153</td>\n",
       "      <td>20.645721</td>\n",
       "      <td>4</td>\n",
       "    </tr>\n",
       "    <tr>\n",
       "      <th>67</th>\n",
       "      <td>17.443759</td>\n",
       "      <td>19.595875</td>\n",
       "      <td>5</td>\n",
       "    </tr>\n",
       "    <tr>\n",
       "      <th>68</th>\n",
       "      <td>17.428478</td>\n",
       "      <td>19.227355</td>\n",
       "      <td>6</td>\n",
       "    </tr>\n",
       "    <tr>\n",
       "      <th>69</th>\n",
       "      <td>17.446437</td>\n",
       "      <td>19.814395</td>\n",
       "      <td>7</td>\n",
       "    </tr>\n",
       "  </tbody>\n",
       "</table>\n",
       "<p>70 rows × 3 columns</p>\n",
       "</div>"
      ],
      "text/plain": [
       "    Training Error  Validation Error  Degree\n",
       "0        22.243896         31.826940       1\n",
       "1        16.808504         26.350335       2\n",
       "2        16.778261         26.245586       3\n",
       "3        16.769890         26.133683       4\n",
       "4        16.640612         25.504794       5\n",
       "..             ...               ...     ...\n",
       "65       17.482690         20.442556       3\n",
       "66       17.480153         20.645721       4\n",
       "67       17.443759         19.595875       5\n",
       "68       17.428478         19.227355       6\n",
       "69       17.446437         19.814395       7\n",
       "\n",
       "[70 rows x 3 columns]"
      ]
     },
     "execution_count": 31,
     "metadata": {},
     "output_type": "execute_result"
    }
   ],
   "source": [
    "cv = KFold(n_splits=10, random_state=42, shuffle=True)\n",
    "CVErrors=[]\n",
    "for train_index, validation_index in cv.split(X_train):\n",
    "    X_trainv, X_valid, Y_trainv, Y_valid = X_train[train_index], X_train[validation_index], Y_train[train_index], Y_train[validation_index]\n",
    "    for j in range(1,8):\n",
    "        CVErrors.append(create_polynomial_regression_model(j))\n",
    "        df = pd.DataFrame (CVErrors,columns=['Training Error','Validation Error','Degree'])\n",
    "df"
   ]
  },
  {
   "cell_type": "code",
   "execution_count": 32,
   "metadata": {
    "ExecuteTime": {
     "end_time": "2021-08-15T11:56:26.309582Z",
     "start_time": "2021-08-15T11:56:26.277526Z"
    }
   },
   "outputs": [
    {
     "data": {
      "text/html": [
       "<div>\n",
       "<style scoped>\n",
       "    .dataframe tbody tr th:only-of-type {\n",
       "        vertical-align: middle;\n",
       "    }\n",
       "\n",
       "    .dataframe tbody tr th {\n",
       "        vertical-align: top;\n",
       "    }\n",
       "\n",
       "    .dataframe thead th {\n",
       "        text-align: right;\n",
       "    }\n",
       "</style>\n",
       "<table border=\"1\" class=\"dataframe\">\n",
       "  <thead>\n",
       "    <tr style=\"text-align: right;\">\n",
       "      <th></th>\n",
       "      <th>Degree</th>\n",
       "      <th>Validation Error</th>\n",
       "    </tr>\n",
       "  </thead>\n",
       "  <tbody>\n",
       "    <tr>\n",
       "      <th>0</th>\n",
       "      <td>1</td>\n",
       "      <td>23.527574</td>\n",
       "    </tr>\n",
       "    <tr>\n",
       "      <th>1</th>\n",
       "      <td>2</td>\n",
       "      <td>17.969492</td>\n",
       "    </tr>\n",
       "    <tr>\n",
       "      <th>2</th>\n",
       "      <td>3</td>\n",
       "      <td>18.029290</td>\n",
       "    </tr>\n",
       "    <tr>\n",
       "      <th>3</th>\n",
       "      <td>4</td>\n",
       "      <td>18.122916</td>\n",
       "    </tr>\n",
       "    <tr>\n",
       "      <th>4</th>\n",
       "      <td>5</td>\n",
       "      <td>18.098851</td>\n",
       "    </tr>\n",
       "    <tr>\n",
       "      <th>5</th>\n",
       "      <td>6</td>\n",
       "      <td>18.176859</td>\n",
       "    </tr>\n",
       "    <tr>\n",
       "      <th>6</th>\n",
       "      <td>7</td>\n",
       "      <td>18.194134</td>\n",
       "    </tr>\n",
       "  </tbody>\n",
       "</table>\n",
       "</div>"
      ],
      "text/plain": [
       "   Degree  Validation Error\n",
       "0       1         23.527574\n",
       "1       2         17.969492\n",
       "2       3         18.029290\n",
       "3       4         18.122916\n",
       "4       5         18.098851\n",
       "5       6         18.176859\n",
       "6       7         18.194134"
      ]
     },
     "execution_count": 32,
     "metadata": {},
     "output_type": "execute_result"
    }
   ],
   "source": [
    "kfoldCV_by_degree = df.groupby(\"Degree\")\n",
    "kfoldCV_by_degree = kfoldCV_by_degree.mean()\n",
    "kfoldCV_by_degree = kfoldCV_by_degree.reset_index()\n",
    "kfoldCV_by_degree[['Degree', 'Validation Error']]"
   ]
  },
  {
   "cell_type": "code",
   "execution_count": 33,
   "metadata": {
    "ExecuteTime": {
     "end_time": "2021-08-15T11:57:04.920939Z",
     "start_time": "2021-08-15T11:57:04.557198Z"
    }
   },
   "outputs": [
    {
     "data": {
      "text/plain": [
       "<matplotlib.legend.Legend at 0x286e1555550>"
      ]
     },
     "execution_count": 33,
     "metadata": {},
     "output_type": "execute_result"
    },
    {
     "data": {
      "image/png": "[encoded data removed]",
      "text/plain": [
       "<Figure size 432x288 with 1 Axes>"
      ]
     },
     "metadata": {
      "needs_background": "light"
     },
     "output_type": "display_data"
    }
   ],
   "source": [
    "fig=plt.figure()\n",
    "ax = fig.add_subplot(1, 1, 1)\n",
    "ax.plot(kfoldCV_by_degree['Degree'].values,kfoldCV_by_degree['Validation Error'].values,label = '5 fold CV Error')\n",
    "ax.set_xlabel('Degree')\n",
    "ax.set_ylabel('Errors')\n",
    "ax.tick_params(axis='x', labelsize=8)\n",
    "ax.legend(loc='best')"
   ]
  },
  {
   "cell_type": "code",
   "execution_count": 34,
   "metadata": {
    "ExecuteTime": {
     "end_time": "2021-08-15T11:57:32.913432Z",
     "start_time": "2021-08-15T11:57:30.153684Z"
    }
   },
   "outputs": [
    {
     "data": {
      "text/plain": [
       "Text(0, 0.5, 'Errors')"
      ]
     },
     "execution_count": 34,
     "metadata": {},
     "output_type": "execute_result"
    },
    {
     "data": {
      "image/png": "[encoded data removed]",
      "text/plain": [
       "<Figure size 432x288 with 1 Axes>"
      ]
     },
     "metadata": {
      "needs_background": "light"
     },
     "output_type": "display_data"
    }
   ],
   "source": [
    "fig=plt.figure()\n",
    "ax = fig.add_subplot(1, 1, 1)\n",
    "for j in range(1,11):\n",
    "    cv = KFold(n_splits=10, random_state=j, shuffle=True)\n",
    "    CVErrors=[]\n",
    "    for train_index, validation_index in cv.split(X_train):\n",
    "        X_trainv, X_valid, Y_trainv, Y_valid = X_train[train_index], X_train[validation_index], Y_train[train_index], Y_train[validation_index]\n",
    "        for j in range(1,8):\n",
    "            CVErrors.append(create_polynomial_regression_model(j))\n",
    "            df = pd.DataFrame (CVErrors,columns=['Training Error','Validation Error','Degree'])\n",
    "    kfoldCV_by_degree = df.groupby(\"Degree\")\n",
    "    kfoldCV_by_degree = kfoldCV_by_degree.mean()\n",
    "    kfoldCV_by_degree = kfoldCV_by_degree.reset_index()\n",
    "    kfoldCV_by_degree[['Degree', 'Validation Error']]\n",
    "    ax.plot(kfoldCV_by_degree['Degree'].values,kfoldCV_by_degree['Validation Error'].values, label = 'Training Error')\n",
    "ax.set_xlabel('Degree')\n",
    "ax.set_ylabel('Errors')\n"
   ]
  },
  {
   "cell_type": "code",
   "execution_count": null,
   "metadata": {},
   "outputs": [],
   "source": []
  }
 ],
 "metadata": {
  "kernelspec": {
   "display_name": "Python 3",
   "language": "python",
   "name": "python3"
  },
  "language_info": {
   "codemirror_mode": {
    "name": "ipython",
    "version": 3
   },
   "file_extension": ".py",
   "mimetype": "text/x-python",
   "name": "python",
   "nbconvert_exporter": "python",
   "pygments_lexer": "ipython3",
   "version": "3.8.10"
  },
  "varInspector": {
   "cols": {
    "lenName": 16,
    "lenType": 16,
    "lenVar": 40
   },
   "kernels_config": {
    "python": {
     "delete_cmd_postfix": "",
     "delete_cmd_prefix": "del ",
     "library": "var_list.py",
     "varRefreshCmd": "print(var_dic_list())"
    },
    "r": {
     "delete_cmd_postfix": ") ",
     "delete_cmd_prefix": "rm(",
     "library": "var_list.r",
     "varRefreshCmd": "cat(var_dic_list()) "
    }
   },
   "types_to_exclude": [
    "module",
    "function",
    "builtin_function_or_method",
    "instance",
    "_Feature"
   ],
   "window_display": false
  }
 },
 "nbformat": 4,
 "nbformat_minor": 1
}
