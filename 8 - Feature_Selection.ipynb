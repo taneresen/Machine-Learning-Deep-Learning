{
 "cells": [
  {
   "cell_type": "code",
   "execution_count": 1,
   "metadata": {
    "ExecuteTime": {
     "end_time": "2021-08-15T12:18:09.746279Z",
     "start_time": "2021-08-15T12:18:04.099122Z"
    }
   },
   "outputs": [],
   "source": [
    "import numpy as np\n",
    "import matplotlib.pyplot as plt\n",
    "import pandas as pd\n",
    "from sklearn.linear_model import LogisticRegression\n",
    "np.random.seed(0)"
   ]
  },
  {
   "cell_type": "code",
   "execution_count": 2,
   "metadata": {
    "ExecuteTime": {
     "end_time": "2021-08-15T12:18:15.915537Z",
     "start_time": "2021-08-15T12:18:15.481181Z"
    }
   },
   "outputs": [],
   "source": [
    "from sklearn.datasets import load_iris\n",
    "iris = load_iris()\n",
    "X = iris.data\n",
    "y = iris.target"
   ]
  },
  {
   "cell_type": "code",
   "execution_count": 3,
   "metadata": {
    "ExecuteTime": {
     "end_time": "2021-08-15T12:18:17.134770Z",
     "start_time": "2021-08-15T12:18:17.125126Z"
    }
   },
   "outputs": [],
   "source": [
    "#%pip install mlxtend"
   ]
  },
  {
   "cell_type": "code",
   "execution_count": 4,
   "metadata": {
    "ExecuteTime": {
     "end_time": "2021-08-15T12:18:27.080401Z",
     "start_time": "2021-08-15T12:18:27.063740Z"
    }
   },
   "outputs": [
    {
     "data": {
      "text/plain": [
       "array([0, 0, 0, 0, 0, 0, 0, 0, 0, 0, 0, 0, 0, 0, 0, 0, 0, 0, 0, 0, 0, 0,\n",
       "       0, 0, 0, 0, 0, 0, 0, 0, 0, 0, 0, 0, 0, 0, 0, 0, 0, 0, 0, 0, 0, 0,\n",
       "       0, 0, 0, 0, 0, 0, 1, 1, 1, 1, 1, 1, 1, 1, 1, 1, 1, 1, 1, 1, 1, 1,\n",
       "       1, 1, 1, 1, 1, 1, 1, 1, 1, 1, 1, 1, 1, 1, 1, 1, 1, 1, 1, 1, 1, 1,\n",
       "       1, 1, 1, 1, 1, 1, 1, 1, 1, 1, 1, 1, 2, 2, 2, 2, 2, 2, 2, 2, 2, 2,\n",
       "       2, 2, 2, 2, 2, 2, 2, 2, 2, 2, 2, 2, 2, 2, 2, 2, 2, 2, 2, 2, 2, 2,\n",
       "       2, 2, 2, 2, 2, 2, 2, 2, 2, 2, 2, 2, 2, 2, 2, 2, 2, 2])"
      ]
     },
     "execution_count": 4,
     "metadata": {},
     "output_type": "execute_result"
    }
   ],
   "source": [
    "y"
   ]
  },
  {
   "cell_type": "code",
   "execution_count": 5,
   "metadata": {
    "ExecuteTime": {
     "end_time": "2021-08-15T12:18:38.763780Z",
     "start_time": "2021-08-15T12:18:38.741417Z"
    }
   },
   "outputs": [],
   "source": [
    "from sklearn.model_selection import train_test_split\n",
    "# Split data into training and test sets\n",
    "X_train, X_test , y_train, y_test = train_test_split(X, y, test_size=0.3, random_state=1, stratify=y)"
   ]
  },
  {
   "cell_type": "code",
   "execution_count": 6,
   "metadata": {
    "ExecuteTime": {
     "end_time": "2021-08-15T12:18:49.440524Z",
     "start_time": "2021-08-15T12:18:49.421224Z"
    }
   },
   "outputs": [
    {
     "data": {
      "text/plain": [
       "array([2, 0, 0, 2, 1, 1, 2, 1, 2, 0, 0, 2, 0, 1, 0, 1, 2, 1, 1, 2, 2, 0,\n",
       "       1, 2, 1, 1, 1, 2, 0, 2, 0, 0, 1, 1, 2, 2, 0, 0, 0, 1, 2, 2, 1, 0,\n",
       "       0])"
      ]
     },
     "execution_count": 6,
     "metadata": {},
     "output_type": "execute_result"
    }
   ],
   "source": [
    "y_test"
   ]
  },
  {
   "cell_type": "code",
   "execution_count": 7,
   "metadata": {
    "ExecuteTime": {
     "end_time": "2021-08-15T12:19:12.531032Z",
     "start_time": "2021-08-15T12:19:12.390243Z"
    }
   },
   "outputs": [],
   "source": [
    "import mlxtend\n",
    "from mlxtend.feature_selection import ExhaustiveFeatureSelector as EFS\n"
   ]
  },
  {
   "cell_type": "code",
   "execution_count": 8,
   "metadata": {
    "ExecuteTime": {
     "end_time": "2021-08-15T12:20:41.033124Z",
     "start_time": "2021-08-15T12:20:38.499377Z"
    }
   },
   "outputs": [
    {
     "name": "stderr",
     "output_type": "stream",
     "text": [
      "Features: 15/15"
     ]
    },
    {
     "name": "stdout",
     "output_type": "stream",
     "text": [
      "Best accuracy score: 0.95\n",
      "Best subset (indices): (2,)\n",
      "Best subset (corresponding names): ('petal length',)\n"
     ]
    }
   ],
   "source": [
    "from mlxtend.feature_selection import ExhaustiveFeatureSelector as EFS\n",
    "# Create Logistic Regression classifier\n",
    "logmodel = LogisticRegression(max_iter=1000)\n",
    "efs = EFS(logmodel, \n",
    "           min_features=1,\n",
    "           max_features=4,\n",
    "           scoring='accuracy',\n",
    "           print_progress=True,\n",
    "           cv=5)\n",
    "\n",
    "feature_names = ('sepal length', 'sepal width', 'petal length', 'petal width')\n",
    "efs = efs.fit(X_train, y_train, custom_feature_names=feature_names)\n",
    "\n",
    "print('Best accuracy score: %.2f' % efs.best_score_)\n",
    "print('Best subset (indices):', efs.best_idx_)\n",
    "print('Best subset (corresponding names):', efs.best_feature_names_)"
   ]
  },
  {
   "cell_type": "code",
   "execution_count": 9,
   "metadata": {
    "ExecuteTime": {
     "end_time": "2021-08-15T12:23:58.136563Z",
     "start_time": "2021-08-15T12:23:58.110849Z"
    }
   },
   "outputs": [
    {
     "data": {
      "text/plain": [
       "{0: {'feature_idx': (0,),\n",
       "  'cv_scores': array([0.61904762, 0.80952381, 0.80952381, 0.9047619 , 0.76190476]),\n",
       "  'avg_score': 0.780952380952381,\n",
       "  'feature_names': ('sepal length',)},\n",
       " 1: {'feature_idx': (1,),\n",
       "  'cv_scores': array([0.80952381, 0.52380952, 0.57142857, 0.47619048, 0.47619048]),\n",
       "  'avg_score': 0.5714285714285714,\n",
       "  'feature_names': ('sepal width',)},\n",
       " 2: {'feature_idx': (2,),\n",
       "  'cv_scores': array([0.95238095, 1.        , 0.9047619 , 0.95238095, 0.95238095]),\n",
       "  'avg_score': 0.9523809523809523,\n",
       "  'feature_names': ('petal length',)},\n",
       " 3: {'feature_idx': (3,),\n",
       "  'cv_scores': array([0.95238095, 0.95238095, 0.95238095, 0.95238095, 0.9047619 ]),\n",
       "  'avg_score': 0.9428571428571428,\n",
       "  'feature_names': ('petal width',)},\n",
       " 4: {'feature_idx': (0, 1),\n",
       "  'cv_scores': array([0.85714286, 0.80952381, 0.80952381, 0.9047619 , 0.80952381]),\n",
       "  'avg_score': 0.8380952380952381,\n",
       "  'feature_names': ('sepal length', 'sepal width')},\n",
       " 5: {'feature_idx': (0, 2),\n",
       "  'cv_scores': array([0.95238095, 0.95238095, 0.85714286, 0.95238095, 0.95238095]),\n",
       "  'avg_score': 0.9333333333333333,\n",
       "  'feature_names': ('sepal length', 'petal length')},\n",
       " 6: {'feature_idx': (0, 3),\n",
       "  'cv_scores': array([0.9047619 , 0.95238095, 0.80952381, 0.95238095, 0.9047619 ]),\n",
       "  'avg_score': 0.9047619047619049,\n",
       "  'feature_names': ('sepal length', 'petal width')},\n",
       " 7: {'feature_idx': (1, 2),\n",
       "  'cv_scores': array([0.95238095, 1.        , 0.9047619 , 0.95238095, 0.95238095]),\n",
       "  'avg_score': 0.9523809523809523,\n",
       "  'feature_names': ('sepal width', 'petal length')},\n",
       " 8: {'feature_idx': (1, 3),\n",
       "  'cv_scores': array([0.95238095, 0.95238095, 0.9047619 , 0.95238095, 0.85714286]),\n",
       "  'avg_score': 0.9238095238095237,\n",
       "  'feature_names': ('sepal width', 'petal width')},\n",
       " 9: {'feature_idx': (2, 3),\n",
       "  'cv_scores': array([0.95238095, 1.        , 0.9047619 , 0.9047619 , 0.9047619 ]),\n",
       "  'avg_score': 0.9333333333333333,\n",
       "  'feature_names': ('petal length', 'petal width')},\n",
       " 10: {'feature_idx': (0, 1, 2),\n",
       "  'cv_scores': array([0.95238095, 0.95238095, 0.85714286, 0.95238095, 0.95238095]),\n",
       "  'avg_score': 0.9333333333333333,\n",
       "  'feature_names': ('sepal length', 'sepal width', 'petal length')},\n",
       " 11: {'feature_idx': (0, 1, 3),\n",
       "  'cv_scores': array([1.        , 0.95238095, 0.85714286, 0.95238095, 0.9047619 ]),\n",
       "  'avg_score': 0.9333333333333333,\n",
       "  'feature_names': ('sepal length', 'sepal width', 'petal width')},\n",
       " 12: {'feature_idx': (0, 2, 3),\n",
       "  'cv_scores': array([0.95238095, 1.        , 0.9047619 , 0.9047619 , 0.9047619 ]),\n",
       "  'avg_score': 0.9333333333333333,\n",
       "  'feature_names': ('sepal length', 'petal length', 'petal width')},\n",
       " 13: {'feature_idx': (1, 2, 3),\n",
       "  'cv_scores': array([0.95238095, 1.        , 0.9047619 , 0.9047619 , 0.9047619 ]),\n",
       "  'avg_score': 0.9333333333333333,\n",
       "  'feature_names': ('sepal width', 'petal length', 'petal width')},\n",
       " 14: {'feature_idx': (0, 1, 2, 3),\n",
       "  'cv_scores': array([0.95238095, 1.        , 0.9047619 , 0.9047619 , 0.9047619 ]),\n",
       "  'avg_score': 0.9333333333333333,\n",
       "  'feature_names': ('sepal length',\n",
       "   'sepal width',\n",
       "   'petal length',\n",
       "   'petal width')}}"
      ]
     },
     "execution_count": 9,
     "metadata": {},
     "output_type": "execute_result"
    }
   ],
   "source": [
    "#Via the subsets_ attribute, we can take a look at the selected feature indices at each step\n",
    "efs.subsets_"
   ]
  },
  {
   "cell_type": "code",
   "execution_count": 10,
   "metadata": {
    "ExecuteTime": {
     "end_time": "2021-08-15T12:24:04.407298Z",
     "start_time": "2021-08-15T12:24:04.248338Z"
    }
   },
   "outputs": [
    {
     "data": {
      "text/html": [
       "<div>\n",
       "<style scoped>\n",
       "    .dataframe tbody tr th:only-of-type {\n",
       "        vertical-align: middle;\n",
       "    }\n",
       "\n",
       "    .dataframe tbody tr th {\n",
       "        vertical-align: top;\n",
       "    }\n",
       "\n",
       "    .dataframe thead th {\n",
       "        text-align: right;\n",
       "    }\n",
       "</style>\n",
       "<table border=\"1\" class=\"dataframe\">\n",
       "  <thead>\n",
       "    <tr style=\"text-align: right;\">\n",
       "      <th></th>\n",
       "      <th>feature_idx</th>\n",
       "      <th>cv_scores</th>\n",
       "      <th>avg_score</th>\n",
       "      <th>feature_names</th>\n",
       "      <th>ci_bound</th>\n",
       "      <th>std_dev</th>\n",
       "      <th>std_err</th>\n",
       "    </tr>\n",
       "  </thead>\n",
       "  <tbody>\n",
       "    <tr>\n",
       "      <th>0</th>\n",
       "      <td>(0,)</td>\n",
       "      <td>[0.6190476190476191, 0.8095238095238095, 0.809...</td>\n",
       "      <td>0.780952</td>\n",
       "      <td>(sepal length,)</td>\n",
       "      <td>0.119936</td>\n",
       "      <td>0.093314</td>\n",
       "      <td>0.046657</td>\n",
       "    </tr>\n",
       "    <tr>\n",
       "      <th>1</th>\n",
       "      <td>(1,)</td>\n",
       "      <td>[0.8095238095238095, 0.5238095238095238, 0.571...</td>\n",
       "      <td>0.571429</td>\n",
       "      <td>(sepal width,)</td>\n",
       "      <td>0.159601</td>\n",
       "      <td>0.124175</td>\n",
       "      <td>0.062088</td>\n",
       "    </tr>\n",
       "    <tr>\n",
       "      <th>2</th>\n",
       "      <td>(2,)</td>\n",
       "      <td>[0.9523809523809523, 1.0, 0.9047619047619048, ...</td>\n",
       "      <td>0.952381</td>\n",
       "      <td>(petal length,)</td>\n",
       "      <td>0.038709</td>\n",
       "      <td>0.030117</td>\n",
       "      <td>0.015058</td>\n",
       "    </tr>\n",
       "    <tr>\n",
       "      <th>3</th>\n",
       "      <td>(3,)</td>\n",
       "      <td>[0.9523809523809523, 0.9523809523809523, 0.952...</td>\n",
       "      <td>0.942857</td>\n",
       "      <td>(petal width,)</td>\n",
       "      <td>0.024482</td>\n",
       "      <td>0.019048</td>\n",
       "      <td>0.009524</td>\n",
       "    </tr>\n",
       "    <tr>\n",
       "      <th>4</th>\n",
       "      <td>(0, 1)</td>\n",
       "      <td>[0.8571428571428571, 0.8095238095238095, 0.809...</td>\n",
       "      <td>0.838095</td>\n",
       "      <td>(sepal length, sepal width)</td>\n",
       "      <td>0.048963</td>\n",
       "      <td>0.038095</td>\n",
       "      <td>0.019048</td>\n",
       "    </tr>\n",
       "    <tr>\n",
       "      <th>5</th>\n",
       "      <td>(0, 2)</td>\n",
       "      <td>[0.9523809523809523, 0.9523809523809523, 0.857...</td>\n",
       "      <td>0.933333</td>\n",
       "      <td>(sepal length, petal length)</td>\n",
       "      <td>0.048963</td>\n",
       "      <td>0.038095</td>\n",
       "      <td>0.019048</td>\n",
       "    </tr>\n",
       "    <tr>\n",
       "      <th>6</th>\n",
       "      <td>(0, 3)</td>\n",
       "      <td>[0.9047619047619048, 0.9523809523809523, 0.809...</td>\n",
       "      <td>0.904762</td>\n",
       "      <td>(sepal length, petal width)</td>\n",
       "      <td>0.067046</td>\n",
       "      <td>0.052164</td>\n",
       "      <td>0.026082</td>\n",
       "    </tr>\n",
       "    <tr>\n",
       "      <th>7</th>\n",
       "      <td>(1, 2)</td>\n",
       "      <td>[0.9523809523809523, 1.0, 0.9047619047619048, ...</td>\n",
       "      <td>0.952381</td>\n",
       "      <td>(sepal width, petal length)</td>\n",
       "      <td>0.038709</td>\n",
       "      <td>0.030117</td>\n",
       "      <td>0.015058</td>\n",
       "    </tr>\n",
       "    <tr>\n",
       "      <th>8</th>\n",
       "      <td>(1, 3)</td>\n",
       "      <td>[0.9523809523809523, 0.9523809523809523, 0.904...</td>\n",
       "      <td>0.92381</td>\n",
       "      <td>(sepal width, petal width)</td>\n",
       "      <td>0.048963</td>\n",
       "      <td>0.038095</td>\n",
       "      <td>0.019048</td>\n",
       "    </tr>\n",
       "    <tr>\n",
       "      <th>9</th>\n",
       "      <td>(2, 3)</td>\n",
       "      <td>[0.9523809523809523, 1.0, 0.9047619047619048, ...</td>\n",
       "      <td>0.933333</td>\n",
       "      <td>(petal length, petal width)</td>\n",
       "      <td>0.048963</td>\n",
       "      <td>0.038095</td>\n",
       "      <td>0.019048</td>\n",
       "    </tr>\n",
       "    <tr>\n",
       "      <th>10</th>\n",
       "      <td>(0, 1, 2)</td>\n",
       "      <td>[0.9523809523809523, 0.9523809523809523, 0.857...</td>\n",
       "      <td>0.933333</td>\n",
       "      <td>(sepal length, sepal width, petal length)</td>\n",
       "      <td>0.048963</td>\n",
       "      <td>0.038095</td>\n",
       "      <td>0.019048</td>\n",
       "    </tr>\n",
       "    <tr>\n",
       "      <th>11</th>\n",
       "      <td>(0, 1, 3)</td>\n",
       "      <td>[1.0, 0.9523809523809523, 0.8571428571428571, ...</td>\n",
       "      <td>0.933333</td>\n",
       "      <td>(sepal length, sepal width, petal width)</td>\n",
       "      <td>0.062416</td>\n",
       "      <td>0.048562</td>\n",
       "      <td>0.024281</td>\n",
       "    </tr>\n",
       "    <tr>\n",
       "      <th>12</th>\n",
       "      <td>(0, 2, 3)</td>\n",
       "      <td>[0.9523809523809523, 1.0, 0.9047619047619048, ...</td>\n",
       "      <td>0.933333</td>\n",
       "      <td>(sepal length, petal length, petal width)</td>\n",
       "      <td>0.048963</td>\n",
       "      <td>0.038095</td>\n",
       "      <td>0.019048</td>\n",
       "    </tr>\n",
       "    <tr>\n",
       "      <th>13</th>\n",
       "      <td>(1, 2, 3)</td>\n",
       "      <td>[0.9523809523809523, 1.0, 0.9047619047619048, ...</td>\n",
       "      <td>0.933333</td>\n",
       "      <td>(sepal width, petal length, petal width)</td>\n",
       "      <td>0.048963</td>\n",
       "      <td>0.038095</td>\n",
       "      <td>0.019048</td>\n",
       "    </tr>\n",
       "    <tr>\n",
       "      <th>14</th>\n",
       "      <td>(0, 1, 2, 3)</td>\n",
       "      <td>[0.9523809523809523, 1.0, 0.9047619047619048, ...</td>\n",
       "      <td>0.933333</td>\n",
       "      <td>(sepal length, sepal width, petal length, peta...</td>\n",
       "      <td>0.048963</td>\n",
       "      <td>0.038095</td>\n",
       "      <td>0.019048</td>\n",
       "    </tr>\n",
       "  </tbody>\n",
       "</table>\n",
       "</div>"
      ],
      "text/plain": [
       "     feature_idx                                          cv_scores avg_score  \\\n",
       "0           (0,)  [0.6190476190476191, 0.8095238095238095, 0.809...  0.780952   \n",
       "1           (1,)  [0.8095238095238095, 0.5238095238095238, 0.571...  0.571429   \n",
       "2           (2,)  [0.9523809523809523, 1.0, 0.9047619047619048, ...  0.952381   \n",
       "3           (3,)  [0.9523809523809523, 0.9523809523809523, 0.952...  0.942857   \n",
       "4         (0, 1)  [0.8571428571428571, 0.8095238095238095, 0.809...  0.838095   \n",
       "5         (0, 2)  [0.9523809523809523, 0.9523809523809523, 0.857...  0.933333   \n",
       "6         (0, 3)  [0.9047619047619048, 0.9523809523809523, 0.809...  0.904762   \n",
       "7         (1, 2)  [0.9523809523809523, 1.0, 0.9047619047619048, ...  0.952381   \n",
       "8         (1, 3)  [0.9523809523809523, 0.9523809523809523, 0.904...   0.92381   \n",
       "9         (2, 3)  [0.9523809523809523, 1.0, 0.9047619047619048, ...  0.933333   \n",
       "10     (0, 1, 2)  [0.9523809523809523, 0.9523809523809523, 0.857...  0.933333   \n",
       "11     (0, 1, 3)  [1.0, 0.9523809523809523, 0.8571428571428571, ...  0.933333   \n",
       "12     (0, 2, 3)  [0.9523809523809523, 1.0, 0.9047619047619048, ...  0.933333   \n",
       "13     (1, 2, 3)  [0.9523809523809523, 1.0, 0.9047619047619048, ...  0.933333   \n",
       "14  (0, 1, 2, 3)  [0.9523809523809523, 1.0, 0.9047619047619048, ...  0.933333   \n",
       "\n",
       "                                        feature_names  ci_bound   std_dev  \\\n",
       "0                                     (sepal length,)  0.119936  0.093314   \n",
       "1                                      (sepal width,)  0.159601  0.124175   \n",
       "2                                     (petal length,)  0.038709  0.030117   \n",
       "3                                      (petal width,)  0.024482  0.019048   \n",
       "4                         (sepal length, sepal width)  0.048963  0.038095   \n",
       "5                        (sepal length, petal length)  0.048963  0.038095   \n",
       "6                         (sepal length, petal width)  0.067046  0.052164   \n",
       "7                         (sepal width, petal length)  0.038709  0.030117   \n",
       "8                          (sepal width, petal width)  0.048963  0.038095   \n",
       "9                         (petal length, petal width)  0.048963  0.038095   \n",
       "10          (sepal length, sepal width, petal length)  0.048963  0.038095   \n",
       "11           (sepal length, sepal width, petal width)  0.062416  0.048562   \n",
       "12          (sepal length, petal length, petal width)  0.048963  0.038095   \n",
       "13           (sepal width, petal length, petal width)  0.048963  0.038095   \n",
       "14  (sepal length, sepal width, petal length, peta...  0.048963  0.038095   \n",
       "\n",
       "     std_err  \n",
       "0   0.046657  \n",
       "1   0.062088  \n",
       "2   0.015058  \n",
       "3   0.009524  \n",
       "4   0.019048  \n",
       "5   0.019048  \n",
       "6   0.026082  \n",
       "7   0.015058  \n",
       "8   0.019048  \n",
       "9   0.019048  \n",
       "10  0.019048  \n",
       "11  0.024281  \n",
       "12  0.019048  \n",
       "13  0.019048  \n",
       "14  0.019048  "
      ]
     },
     "execution_count": 10,
     "metadata": {},
     "output_type": "execute_result"
    }
   ],
   "source": [
    "pd.DataFrame.from_dict(efs.get_metric_dict()).T"
   ]
  },
  {
   "cell_type": "code",
   "execution_count": 11,
   "metadata": {
    "ExecuteTime": {
     "end_time": "2021-08-15T12:24:16.848182Z",
     "start_time": "2021-08-15T12:24:16.815235Z"
    }
   },
   "outputs": [
    {
     "name": "stdout",
     "output_type": "stream",
     "text": [
      "0.9333333333333333\n"
     ]
    }
   ],
   "source": [
    "logmodel=LogisticRegression(max_iter=1000)\n",
    "X_train_selected=X_train[:,2].reshape(-1,1)\n",
    "X_test_selected=X_test[:,2].reshape(-1,1)\n",
    "logmodel.fit(X_train_selected, y_train)\n",
    "score = logmodel.score(X_test_selected, y_test)\n",
    "print(score)"
   ]
  },
  {
   "cell_type": "code",
   "execution_count": 12,
   "metadata": {
    "ExecuteTime": {
     "end_time": "2021-08-15T12:24:21.664966Z",
     "start_time": "2021-08-15T12:24:20.018188Z"
    }
   },
   "outputs": [
    {
     "name": "stderr",
     "output_type": "stream",
     "text": [
      "[Parallel(n_jobs=1)]: Using backend SequentialBackend with 1 concurrent workers.\n",
      "[Parallel(n_jobs=1)]: Done   1 out of   1 | elapsed:    0.0s remaining:    0.0s\n",
      "[Parallel(n_jobs=1)]: Done   4 out of   4 | elapsed:    0.3s finished\n",
      "\n",
      "[2021-08-15 14:24:20] Features: 1/4 -- score: 0.9523809523809523[Parallel(n_jobs=1)]: Using backend SequentialBackend with 1 concurrent workers.\n",
      "[Parallel(n_jobs=1)]: Done   1 out of   1 | elapsed:    0.2s remaining:    0.0s\n",
      "[Parallel(n_jobs=1)]: Done   3 out of   3 | elapsed:    0.6s finished\n",
      "\n",
      "[2021-08-15 14:24:21] Features: 2/4 -- score: 0.9523809523809523[Parallel(n_jobs=1)]: Using backend SequentialBackend with 1 concurrent workers.\n",
      "[Parallel(n_jobs=1)]: Done   1 out of   1 | elapsed:    0.1s remaining:    0.0s\n",
      "[Parallel(n_jobs=1)]: Done   2 out of   2 | elapsed:    0.3s finished\n",
      "\n",
      "[2021-08-15 14:24:21] Features: 3/4 -- score: 0.9333333333333333[Parallel(n_jobs=1)]: Using backend SequentialBackend with 1 concurrent workers.\n",
      "[Parallel(n_jobs=1)]: Done   1 out of   1 | elapsed:    0.1s remaining:    0.0s\n",
      "[Parallel(n_jobs=1)]: Done   1 out of   1 | elapsed:    0.1s finished\n",
      "\n",
      "[2021-08-15 14:24:21] Features: 4/4 -- score: 0.9333333333333333"
     ]
    },
    {
     "data": {
      "text/plain": [
       "{1: {'feature_idx': (2,),\n",
       "  'cv_scores': array([0.95238095, 1.        , 0.9047619 , 0.95238095, 0.95238095]),\n",
       "  'avg_score': 0.9523809523809523,\n",
       "  'feature_names': ('petal length',)},\n",
       " 2: {'feature_idx': (1, 2),\n",
       "  'cv_scores': array([0.95238095, 1.        , 0.9047619 , 0.95238095, 0.95238095]),\n",
       "  'avg_score': 0.9523809523809523,\n",
       "  'feature_names': ('sepal width', 'petal length')},\n",
       " 3: {'feature_idx': (0, 1, 2),\n",
       "  'cv_scores': array([0.95238095, 0.95238095, 0.85714286, 0.95238095, 0.95238095]),\n",
       "  'avg_score': 0.9333333333333333,\n",
       "  'feature_names': ('sepal length', 'sepal width', 'petal length')},\n",
       " 4: {'feature_idx': (0, 1, 2, 3),\n",
       "  'cv_scores': array([0.95238095, 1.        , 0.9047619 , 0.9047619 , 0.9047619 ]),\n",
       "  'avg_score': 0.9333333333333333,\n",
       "  'feature_names': ('sepal length',\n",
       "   'sepal width',\n",
       "   'petal length',\n",
       "   'petal width')}}"
      ]
     },
     "execution_count": 12,
     "metadata": {},
     "output_type": "execute_result"
    }
   ],
   "source": [
    "from mlxtend.feature_selection import SequentialFeatureSelector as SFS\n",
    "logmodel=LogisticRegression(max_iter=1000)\n",
    "sfs = SFS(logmodel, \n",
    "           k_features=4, \n",
    "           forward=True, \n",
    "           floating=False, \n",
    "           verbose=2,\n",
    "           scoring='accuracy',\n",
    "           cv=5)\n",
    "feature_names = ('sepal length', 'sepal width', 'petal length', 'petal width')\n",
    "sfs = sfs.fit(X_train, y_train, custom_feature_names=feature_names)\n",
    "sfs.subsets_\n"
   ]
  },
  {
   "cell_type": "code",
   "execution_count": 13,
   "metadata": {
    "ExecuteTime": {
     "end_time": "2021-08-15T12:24:25.913646Z",
     "start_time": "2021-08-15T12:24:25.876171Z"
    }
   },
   "outputs": [
    {
     "data": {
      "text/html": [
       "<div>\n",
       "<style scoped>\n",
       "    .dataframe tbody tr th:only-of-type {\n",
       "        vertical-align: middle;\n",
       "    }\n",
       "\n",
       "    .dataframe tbody tr th {\n",
       "        vertical-align: top;\n",
       "    }\n",
       "\n",
       "    .dataframe thead th {\n",
       "        text-align: right;\n",
       "    }\n",
       "</style>\n",
       "<table border=\"1\" class=\"dataframe\">\n",
       "  <thead>\n",
       "    <tr style=\"text-align: right;\">\n",
       "      <th></th>\n",
       "      <th>feature_idx</th>\n",
       "      <th>cv_scores</th>\n",
       "      <th>avg_score</th>\n",
       "      <th>feature_names</th>\n",
       "      <th>ci_bound</th>\n",
       "      <th>std_dev</th>\n",
       "      <th>std_err</th>\n",
       "    </tr>\n",
       "  </thead>\n",
       "  <tbody>\n",
       "    <tr>\n",
       "      <th>1</th>\n",
       "      <td>(2,)</td>\n",
       "      <td>[0.9523809523809523, 1.0, 0.9047619047619048, ...</td>\n",
       "      <td>0.952381</td>\n",
       "      <td>(petal length,)</td>\n",
       "      <td>0.038709</td>\n",
       "      <td>0.030117</td>\n",
       "      <td>0.015058</td>\n",
       "    </tr>\n",
       "    <tr>\n",
       "      <th>2</th>\n",
       "      <td>(1, 2)</td>\n",
       "      <td>[0.9523809523809523, 1.0, 0.9047619047619048, ...</td>\n",
       "      <td>0.952381</td>\n",
       "      <td>(sepal width, petal length)</td>\n",
       "      <td>0.038709</td>\n",
       "      <td>0.030117</td>\n",
       "      <td>0.015058</td>\n",
       "    </tr>\n",
       "    <tr>\n",
       "      <th>3</th>\n",
       "      <td>(0, 1, 2)</td>\n",
       "      <td>[0.9523809523809523, 0.9523809523809523, 0.857...</td>\n",
       "      <td>0.933333</td>\n",
       "      <td>(sepal length, sepal width, petal length)</td>\n",
       "      <td>0.048963</td>\n",
       "      <td>0.038095</td>\n",
       "      <td>0.019048</td>\n",
       "    </tr>\n",
       "    <tr>\n",
       "      <th>4</th>\n",
       "      <td>(0, 1, 2, 3)</td>\n",
       "      <td>[0.9523809523809523, 1.0, 0.9047619047619048, ...</td>\n",
       "      <td>0.933333</td>\n",
       "      <td>(sepal length, sepal width, petal length, peta...</td>\n",
       "      <td>0.048963</td>\n",
       "      <td>0.038095</td>\n",
       "      <td>0.019048</td>\n",
       "    </tr>\n",
       "  </tbody>\n",
       "</table>\n",
       "</div>"
      ],
      "text/plain": [
       "    feature_idx                                          cv_scores avg_score  \\\n",
       "1          (2,)  [0.9523809523809523, 1.0, 0.9047619047619048, ...  0.952381   \n",
       "2        (1, 2)  [0.9523809523809523, 1.0, 0.9047619047619048, ...  0.952381   \n",
       "3     (0, 1, 2)  [0.9523809523809523, 0.9523809523809523, 0.857...  0.933333   \n",
       "4  (0, 1, 2, 3)  [0.9523809523809523, 1.0, 0.9047619047619048, ...  0.933333   \n",
       "\n",
       "                                       feature_names  ci_bound   std_dev  \\\n",
       "1                                    (petal length,)  0.038709  0.030117   \n",
       "2                        (sepal width, petal length)  0.038709  0.030117   \n",
       "3          (sepal length, sepal width, petal length)  0.048963  0.038095   \n",
       "4  (sepal length, sepal width, petal length, peta...  0.048963  0.038095   \n",
       "\n",
       "    std_err  \n",
       "1  0.015058  \n",
       "2  0.015058  \n",
       "3  0.019048  \n",
       "4  0.019048  "
      ]
     },
     "execution_count": 13,
     "metadata": {},
     "output_type": "execute_result"
    }
   ],
   "source": [
    "pd.DataFrame.from_dict(sfs.get_metric_dict()).T"
   ]
  },
  {
   "cell_type": "code",
   "execution_count": 14,
   "metadata": {
    "ExecuteTime": {
     "end_time": "2021-08-15T12:24:32.588294Z",
     "start_time": "2021-08-15T12:24:29.994195Z"
    }
   },
   "outputs": [
    {
     "name": "stderr",
     "output_type": "stream",
     "text": [
      "[Parallel(n_jobs=1)]: Using backend SequentialBackend with 1 concurrent workers.\n",
      "[Parallel(n_jobs=1)]: Done   1 out of   1 | elapsed:    0.3s remaining:    0.0s\n",
      "[Parallel(n_jobs=1)]: Done   4 out of   4 | elapsed:    1.3s finished\n",
      "\n",
      "[2021-08-15 14:24:31] Features: 3/1 -- score: 0.9333333333333333[Parallel(n_jobs=1)]: Using backend SequentialBackend with 1 concurrent workers.\n",
      "[Parallel(n_jobs=1)]: Done   1 out of   1 | elapsed:    0.2s remaining:    0.0s\n",
      "[Parallel(n_jobs=1)]: Done   3 out of   3 | elapsed:    0.6s finished\n",
      "\n",
      "[2021-08-15 14:24:32] Features: 2/1 -- score: 0.9523809523809523[Parallel(n_jobs=1)]: Using backend SequentialBackend with 1 concurrent workers.\n",
      "[Parallel(n_jobs=1)]: Done   1 out of   1 | elapsed:    0.0s remaining:    0.0s\n",
      "[Parallel(n_jobs=1)]: Done   2 out of   2 | elapsed:    0.1s finished\n",
      "\n",
      "[2021-08-15 14:24:32] Features: 1/1 -- score: 0.9523809523809523"
     ]
    },
    {
     "data": {
      "text/plain": [
       "{4: {'feature_idx': (0, 1, 2, 3),\n",
       "  'cv_scores': array([0.95238095, 1.        , 0.9047619 , 0.9047619 , 0.9047619 ]),\n",
       "  'avg_score': 0.9333333333333333,\n",
       "  'feature_names': ('sepal length',\n",
       "   'sepal width',\n",
       "   'petal length',\n",
       "   'petal width')},\n",
       " 3: {'feature_idx': (0, 1, 2),\n",
       "  'cv_scores': array([0.95238095, 0.95238095, 0.85714286, 0.95238095, 0.95238095]),\n",
       "  'avg_score': 0.9333333333333333,\n",
       "  'feature_names': ('sepal length', 'sepal width', 'petal length')},\n",
       " 2: {'feature_idx': (1, 2),\n",
       "  'cv_scores': array([0.95238095, 1.        , 0.9047619 , 0.95238095, 0.95238095]),\n",
       "  'avg_score': 0.9523809523809523,\n",
       "  'feature_names': ('sepal width', 'petal length')},\n",
       " 1: {'feature_idx': (2,),\n",
       "  'cv_scores': array([0.95238095, 1.        , 0.9047619 , 0.95238095, 0.95238095]),\n",
       "  'avg_score': 0.9523809523809523,\n",
       "  'feature_names': ('petal length',)}}"
      ]
     },
     "execution_count": 14,
     "metadata": {},
     "output_type": "execute_result"
    }
   ],
   "source": [
    "from mlxtend.feature_selection import SequentialFeatureSelector as SFS\n",
    "logmodel=LogisticRegression(max_iter=1000)\n",
    "sbs = SFS(logmodel, \n",
    "           k_features=1, \n",
    "           forward=False, \n",
    "           floating=False, \n",
    "           verbose=2,\n",
    "           scoring='accuracy',\n",
    "           cv=5)\n",
    "feature_names = ('sepal length', 'sepal width', 'petal length', 'petal width')\n",
    "sbs = sbs.fit(X_train, y_train, custom_feature_names=feature_names)\n",
    "sbs.subsets_"
   ]
  },
  {
   "cell_type": "code",
   "execution_count": 15,
   "metadata": {
    "ExecuteTime": {
     "end_time": "2021-08-15T12:24:36.881816Z",
     "start_time": "2021-08-15T12:24:36.845875Z"
    }
   },
   "outputs": [
    {
     "data": {
      "text/html": [
       "<div>\n",
       "<style scoped>\n",
       "    .dataframe tbody tr th:only-of-type {\n",
       "        vertical-align: middle;\n",
       "    }\n",
       "\n",
       "    .dataframe tbody tr th {\n",
       "        vertical-align: top;\n",
       "    }\n",
       "\n",
       "    .dataframe thead th {\n",
       "        text-align: right;\n",
       "    }\n",
       "</style>\n",
       "<table border=\"1\" class=\"dataframe\">\n",
       "  <thead>\n",
       "    <tr style=\"text-align: right;\">\n",
       "      <th></th>\n",
       "      <th>feature_idx</th>\n",
       "      <th>cv_scores</th>\n",
       "      <th>avg_score</th>\n",
       "      <th>feature_names</th>\n",
       "      <th>ci_bound</th>\n",
       "      <th>std_dev</th>\n",
       "      <th>std_err</th>\n",
       "    </tr>\n",
       "  </thead>\n",
       "  <tbody>\n",
       "    <tr>\n",
       "      <th>4</th>\n",
       "      <td>(0, 1, 2, 3)</td>\n",
       "      <td>[0.9523809523809523, 1.0, 0.9047619047619048, ...</td>\n",
       "      <td>0.933333</td>\n",
       "      <td>(sepal length, sepal width, petal length, peta...</td>\n",
       "      <td>0.048963</td>\n",
       "      <td>0.038095</td>\n",
       "      <td>0.019048</td>\n",
       "    </tr>\n",
       "    <tr>\n",
       "      <th>3</th>\n",
       "      <td>(0, 1, 2)</td>\n",
       "      <td>[0.9523809523809523, 0.9523809523809523, 0.857...</td>\n",
       "      <td>0.933333</td>\n",
       "      <td>(sepal length, sepal width, petal length)</td>\n",
       "      <td>0.048963</td>\n",
       "      <td>0.038095</td>\n",
       "      <td>0.019048</td>\n",
       "    </tr>\n",
       "    <tr>\n",
       "      <th>2</th>\n",
       "      <td>(1, 2)</td>\n",
       "      <td>[0.9523809523809523, 1.0, 0.9047619047619048, ...</td>\n",
       "      <td>0.952381</td>\n",
       "      <td>(sepal width, petal length)</td>\n",
       "      <td>0.038709</td>\n",
       "      <td>0.030117</td>\n",
       "      <td>0.015058</td>\n",
       "    </tr>\n",
       "    <tr>\n",
       "      <th>1</th>\n",
       "      <td>(2,)</td>\n",
       "      <td>[0.9523809523809523, 1.0, 0.9047619047619048, ...</td>\n",
       "      <td>0.952381</td>\n",
       "      <td>(petal length,)</td>\n",
       "      <td>0.038709</td>\n",
       "      <td>0.030117</td>\n",
       "      <td>0.015058</td>\n",
       "    </tr>\n",
       "  </tbody>\n",
       "</table>\n",
       "</div>"
      ],
      "text/plain": [
       "    feature_idx                                          cv_scores avg_score  \\\n",
       "4  (0, 1, 2, 3)  [0.9523809523809523, 1.0, 0.9047619047619048, ...  0.933333   \n",
       "3     (0, 1, 2)  [0.9523809523809523, 0.9523809523809523, 0.857...  0.933333   \n",
       "2        (1, 2)  [0.9523809523809523, 1.0, 0.9047619047619048, ...  0.952381   \n",
       "1          (2,)  [0.9523809523809523, 1.0, 0.9047619047619048, ...  0.952381   \n",
       "\n",
       "                                       feature_names  ci_bound   std_dev  \\\n",
       "4  (sepal length, sepal width, petal length, peta...  0.048963  0.038095   \n",
       "3          (sepal length, sepal width, petal length)  0.048963  0.038095   \n",
       "2                        (sepal width, petal length)  0.038709  0.030117   \n",
       "1                                    (petal length,)  0.038709  0.030117   \n",
       "\n",
       "    std_err  \n",
       "4  0.019048  \n",
       "3  0.019048  \n",
       "2  0.015058  \n",
       "1  0.015058  "
      ]
     },
     "execution_count": 15,
     "metadata": {},
     "output_type": "execute_result"
    }
   ],
   "source": [
    "pd.DataFrame.from_dict(sbs.get_metric_dict()).T"
   ]
  },
  {
   "cell_type": "code",
   "execution_count": 16,
   "metadata": {
    "ExecuteTime": {
     "end_time": "2021-08-15T12:24:40.658084Z",
     "start_time": "2021-08-15T12:24:40.620605Z"
    }
   },
   "outputs": [
    {
     "data": {
      "text/html": [
       "<div>\n",
       "<style scoped>\n",
       "    .dataframe tbody tr th:only-of-type {\n",
       "        vertical-align: middle;\n",
       "    }\n",
       "\n",
       "    .dataframe tbody tr th {\n",
       "        vertical-align: top;\n",
       "    }\n",
       "\n",
       "    .dataframe thead th {\n",
       "        text-align: right;\n",
       "    }\n",
       "</style>\n",
       "<table border=\"1\" class=\"dataframe\">\n",
       "  <thead>\n",
       "    <tr style=\"text-align: right;\">\n",
       "      <th></th>\n",
       "      <th>Pregnancies</th>\n",
       "      <th>Glucose</th>\n",
       "      <th>BloodPressure</th>\n",
       "      <th>SkinThickness</th>\n",
       "      <th>Insulin</th>\n",
       "      <th>BMI</th>\n",
       "      <th>DiabetesPedigreeFunction</th>\n",
       "      <th>Age</th>\n",
       "      <th>Outcome</th>\n",
       "    </tr>\n",
       "  </thead>\n",
       "  <tbody>\n",
       "    <tr>\n",
       "      <th>0</th>\n",
       "      <td>6</td>\n",
       "      <td>148</td>\n",
       "      <td>72</td>\n",
       "      <td>35</td>\n",
       "      <td>0</td>\n",
       "      <td>33.6</td>\n",
       "      <td>0.627</td>\n",
       "      <td>50</td>\n",
       "      <td>1</td>\n",
       "    </tr>\n",
       "    <tr>\n",
       "      <th>1</th>\n",
       "      <td>1</td>\n",
       "      <td>85</td>\n",
       "      <td>66</td>\n",
       "      <td>29</td>\n",
       "      <td>0</td>\n",
       "      <td>26.6</td>\n",
       "      <td>0.351</td>\n",
       "      <td>31</td>\n",
       "      <td>0</td>\n",
       "    </tr>\n",
       "    <tr>\n",
       "      <th>2</th>\n",
       "      <td>8</td>\n",
       "      <td>183</td>\n",
       "      <td>64</td>\n",
       "      <td>0</td>\n",
       "      <td>0</td>\n",
       "      <td>23.3</td>\n",
       "      <td>0.672</td>\n",
       "      <td>32</td>\n",
       "      <td>1</td>\n",
       "    </tr>\n",
       "    <tr>\n",
       "      <th>3</th>\n",
       "      <td>1</td>\n",
       "      <td>89</td>\n",
       "      <td>66</td>\n",
       "      <td>23</td>\n",
       "      <td>94</td>\n",
       "      <td>28.1</td>\n",
       "      <td>0.167</td>\n",
       "      <td>21</td>\n",
       "      <td>0</td>\n",
       "    </tr>\n",
       "    <tr>\n",
       "      <th>4</th>\n",
       "      <td>0</td>\n",
       "      <td>137</td>\n",
       "      <td>40</td>\n",
       "      <td>35</td>\n",
       "      <td>168</td>\n",
       "      <td>43.1</td>\n",
       "      <td>2.288</td>\n",
       "      <td>33</td>\n",
       "      <td>1</td>\n",
       "    </tr>\n",
       "    <tr>\n",
       "      <th>...</th>\n",
       "      <td>...</td>\n",
       "      <td>...</td>\n",
       "      <td>...</td>\n",
       "      <td>...</td>\n",
       "      <td>...</td>\n",
       "      <td>...</td>\n",
       "      <td>...</td>\n",
       "      <td>...</td>\n",
       "      <td>...</td>\n",
       "    </tr>\n",
       "    <tr>\n",
       "      <th>763</th>\n",
       "      <td>10</td>\n",
       "      <td>101</td>\n",
       "      <td>76</td>\n",
       "      <td>48</td>\n",
       "      <td>180</td>\n",
       "      <td>32.9</td>\n",
       "      <td>0.171</td>\n",
       "      <td>63</td>\n",
       "      <td>0</td>\n",
       "    </tr>\n",
       "    <tr>\n",
       "      <th>764</th>\n",
       "      <td>2</td>\n",
       "      <td>122</td>\n",
       "      <td>70</td>\n",
       "      <td>27</td>\n",
       "      <td>0</td>\n",
       "      <td>36.8</td>\n",
       "      <td>0.340</td>\n",
       "      <td>27</td>\n",
       "      <td>0</td>\n",
       "    </tr>\n",
       "    <tr>\n",
       "      <th>765</th>\n",
       "      <td>5</td>\n",
       "      <td>121</td>\n",
       "      <td>72</td>\n",
       "      <td>23</td>\n",
       "      <td>112</td>\n",
       "      <td>26.2</td>\n",
       "      <td>0.245</td>\n",
       "      <td>30</td>\n",
       "      <td>0</td>\n",
       "    </tr>\n",
       "    <tr>\n",
       "      <th>766</th>\n",
       "      <td>1</td>\n",
       "      <td>126</td>\n",
       "      <td>60</td>\n",
       "      <td>0</td>\n",
       "      <td>0</td>\n",
       "      <td>30.1</td>\n",
       "      <td>0.349</td>\n",
       "      <td>47</td>\n",
       "      <td>1</td>\n",
       "    </tr>\n",
       "    <tr>\n",
       "      <th>767</th>\n",
       "      <td>1</td>\n",
       "      <td>93</td>\n",
       "      <td>70</td>\n",
       "      <td>31</td>\n",
       "      <td>0</td>\n",
       "      <td>30.4</td>\n",
       "      <td>0.315</td>\n",
       "      <td>23</td>\n",
       "      <td>0</td>\n",
       "    </tr>\n",
       "  </tbody>\n",
       "</table>\n",
       "<p>768 rows × 9 columns</p>\n",
       "</div>"
      ],
      "text/plain": [
       "     Pregnancies  Glucose  BloodPressure  SkinThickness  Insulin   BMI  \\\n",
       "0              6      148             72             35        0  33.6   \n",
       "1              1       85             66             29        0  26.6   \n",
       "2              8      183             64              0        0  23.3   \n",
       "3              1       89             66             23       94  28.1   \n",
       "4              0      137             40             35      168  43.1   \n",
       "..           ...      ...            ...            ...      ...   ...   \n",
       "763           10      101             76             48      180  32.9   \n",
       "764            2      122             70             27        0  36.8   \n",
       "765            5      121             72             23      112  26.2   \n",
       "766            1      126             60              0        0  30.1   \n",
       "767            1       93             70             31        0  30.4   \n",
       "\n",
       "     DiabetesPedigreeFunction  Age  Outcome  \n",
       "0                       0.627   50        1  \n",
       "1                       0.351   31        0  \n",
       "2                       0.672   32        1  \n",
       "3                       0.167   21        0  \n",
       "4                       2.288   33        1  \n",
       "..                        ...  ...      ...  \n",
       "763                     0.171   63        0  \n",
       "764                     0.340   27        0  \n",
       "765                     0.245   30        0  \n",
       "766                     0.349   47        1  \n",
       "767                     0.315   23        0  \n",
       "\n",
       "[768 rows x 9 columns]"
      ]
     },
     "execution_count": 16,
     "metadata": {},
     "output_type": "execute_result"
    }
   ],
   "source": [
    "#read in the data using pandas\n",
    "df = pd.read_csv('diabetes.csv')\n",
    "#check data has been read in properly\n",
    "df"
   ]
  },
  {
   "cell_type": "code",
   "execution_count": 17,
   "metadata": {
    "ExecuteTime": {
     "end_time": "2021-08-15T12:24:45.447286Z",
     "start_time": "2021-08-15T12:24:45.432290Z"
    }
   },
   "outputs": [],
   "source": [
    "X = df.drop('Outcome',axis=1)\n",
    "y = df['Outcome']"
   ]
  },
  {
   "cell_type": "code",
   "execution_count": 18,
   "metadata": {
    "ExecuteTime": {
     "end_time": "2021-08-15T12:24:50.489699Z",
     "start_time": "2021-08-15T12:24:50.469027Z"
    }
   },
   "outputs": [],
   "source": [
    "from sklearn.model_selection import train_test_split\n",
    "# Split data into training and test sets\n",
    "X_train, X_test , y_train, y_test = train_test_split(X, y, test_size=0.3, random_state=1, stratify=y)"
   ]
  },
  {
   "cell_type": "code",
   "execution_count": null,
   "metadata": {
    "ExecuteTime": {
     "start_time": "2021-08-15T12:24:53.612Z"
    }
   },
   "outputs": [],
   "source": [
    "# Create Logistic Regression classifier\n",
    "logmodel = LogisticRegression(max_iter=1000)\n",
    "from mlxtend.feature_selection import ExhaustiveFeatureSelector as EFS\n",
    "efs = EFS(logmodel, \n",
    "           min_features=1,\n",
    "           max_features=8,\n",
    "           scoring='accuracy',\n",
    "           print_progress=True,\n",
    "           cv=5)\n",
    "feature_names = ('Pregnancies', 'Glucose', 'BloodPressure', 'SkinThickness', 'Insulin','BMI','DiabetesPedigreeFunction','Age')\n",
    "efs = efs.fit(X_train, y_train, custom_feature_names=feature_names)\n",
    "\n",
    "print('Best accuracy score: %.2f' % efs.best_score_)\n",
    "print('Best subset (indices):', efs.best_idx_)\n",
    "print('Best subset (corresponding names):', efs.best_feature_names_)\n"
   ]
  },
  {
   "cell_type": "code",
   "execution_count": null,
   "metadata": {},
   "outputs": [],
   "source": [
    "pd.DataFrame.from_dict(efs.get_metric_dict()).T"
   ]
  },
  {
   "cell_type": "code",
   "execution_count": null,
   "metadata": {},
   "outputs": [],
   "source": [
    "pd.DataFrame.from_dict(efs.get_metric_dict()).T.sort_values('avg_score',ascending=False)"
   ]
  },
  {
   "cell_type": "code",
   "execution_count": null,
   "metadata": {},
   "outputs": [],
   "source": [
    "X_train_selected=X_train.iloc[:,[0,1,2,4,5,7]]\n",
    "X_train_selected"
   ]
  },
  {
   "cell_type": "code",
   "execution_count": null,
   "metadata": {},
   "outputs": [],
   "source": [
    "X_train_selected=X_train.iloc[:,[0,1,2,4,5,7]]\n",
    "X_test_selected=X_test.iloc[:,[0,1,2,4,5,7]]\n",
    "logmodel=LogisticRegression(max_iter=1000)\n",
    "logmodel.fit(X_train_selected, y_train)\n",
    "score = logmodel.score(X_test_selected, y_test)\n",
    "print(score)"
   ]
  },
  {
   "cell_type": "code",
   "execution_count": null,
   "metadata": {},
   "outputs": [],
   "source": [
    "logmodel = LogisticRegression(max_iter=1000)\n",
    "sfs = SFS(logmodel, \n",
    "           k_features=8, \n",
    "           forward=True, \n",
    "           floating=False, \n",
    "           verbose=2,\n",
    "           scoring='accuracy',\n",
    "           cv=5)\n",
    "feature_names = ('Pregnancies', 'Glucose', 'BloodPressure', 'SkinThickness', 'Insulin','BMI','DiabetesPedigreeFunction','Age')\n",
    "sfs = sfs.fit(X_train, y_train, custom_feature_names=feature_names)\n",
    "pd.DataFrame.from_dict(sfs.get_metric_dict()).T"
   ]
  },
  {
   "cell_type": "code",
   "execution_count": null,
   "metadata": {},
   "outputs": [],
   "source": [
    "pd.DataFrame.from_dict(sfs.get_metric_dict()).T.sort_values('avg_score',ascending=False)"
   ]
  },
  {
   "cell_type": "code",
   "execution_count": null,
   "metadata": {},
   "outputs": [],
   "source": [
    "X_train_selected=X_train.iloc[:,[1,2,3,4,5,6,7]]\n",
    "X_test_selected=X_test.iloc[:,[1,2,3,4,5,6,7]]\n",
    "logmodel=LogisticRegression(max_iter=1000)\n",
    "logmodel.fit(X_train_selected, y_train)\n",
    "score = logmodel.score(X_test_selected, y_test)\n",
    "print(score)"
   ]
  },
  {
   "cell_type": "code",
   "execution_count": null,
   "metadata": {},
   "outputs": [],
   "source": [
    "logmodel = LogisticRegression(max_iter=1000)\n",
    "sbs = SFS(logmodel, \n",
    "           k_features=1, \n",
    "           forward=False, \n",
    "           floating=False, \n",
    "           verbose=2,\n",
    "           scoring='accuracy',\n",
    "           cv=5)\n",
    "feature_names = ('Pregnancies', 'Glucose', 'BloodPressure', 'SkinThickness', 'Insulin','BMI','DiabetesPedigreeFunction','Age')\n",
    "sbs = sbs.fit(X_train, y_train, custom_feature_names=feature_names)\n",
    "pd.DataFrame.from_dict(sbs.get_metric_dict()).T"
   ]
  },
  {
   "cell_type": "code",
   "execution_count": null,
   "metadata": {},
   "outputs": [],
   "source": [
    "pd.DataFrame.from_dict(sbs.get_metric_dict()).T.sort_values('avg_score',ascending=False)"
   ]
  },
  {
   "cell_type": "code",
   "execution_count": null,
   "metadata": {},
   "outputs": [],
   "source": []
  }
 ],
 "metadata": {
  "kernelspec": {
   "display_name": "Python 3",
   "language": "python",
   "name": "python3"
  },
  "language_info": {
   "codemirror_mode": {
    "name": "ipython",
    "version": 3
   },
   "file_extension": ".py",
   "mimetype": "text/x-python",
   "name": "python",
   "nbconvert_exporter": "python",
   "pygments_lexer": "ipython3",
   "version": "3.8.10"
  },
  "varInspector": {
   "cols": {
    "lenName": 16,
    "lenType": 16,
    "lenVar": 40
   },
   "kernels_config": {
    "python": {
     "delete_cmd_postfix": "",
     "delete_cmd_prefix": "del ",
     "library": "var_list.py",
     "varRefreshCmd": "print(var_dic_list())"
    },
    "r": {
     "delete_cmd_postfix": ") ",
     "delete_cmd_prefix": "rm(",
     "library": "var_list.r",
     "varRefreshCmd": "cat(var_dic_list()) "
    }
   },
   "types_to_exclude": [
    "module",
    "function",
    "builtin_function_or_method",
    "instance",
    "_Feature"
   ],
   "window_display": false
  }
 },
 "nbformat": 4,
 "nbformat_minor": 1
}
