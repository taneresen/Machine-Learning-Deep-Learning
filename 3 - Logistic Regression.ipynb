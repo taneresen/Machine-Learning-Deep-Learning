{
 "cells": [
  {
   "cell_type": "code",
   "execution_count": 1,
   "metadata": {
    "ExecuteTime": {
     "end_time": "2021-08-14T12:46:26.724909Z",
     "start_time": "2021-08-14T12:46:26.025586Z"
    }
   },
   "outputs": [
    {
     "data": {
      "text/html": [
       "<div>\n",
       "<style scoped>\n",
       "    .dataframe tbody tr th:only-of-type {\n",
       "        vertical-align: middle;\n",
       "    }\n",
       "\n",
       "    .dataframe tbody tr th {\n",
       "        vertical-align: top;\n",
       "    }\n",
       "\n",
       "    .dataframe thead th {\n",
       "        text-align: right;\n",
       "    }\n",
       "</style>\n",
       "<table border=\"1\" class=\"dataframe\">\n",
       "  <thead>\n",
       "    <tr style=\"text-align: right;\">\n",
       "      <th></th>\n",
       "      <th>Pregnancies</th>\n",
       "      <th>Glucose</th>\n",
       "      <th>BloodPressure</th>\n",
       "      <th>SkinThickness</th>\n",
       "      <th>Insulin</th>\n",
       "      <th>BMI</th>\n",
       "      <th>DiabetesPedigreeFunction</th>\n",
       "      <th>Age</th>\n",
       "      <th>Outcome</th>\n",
       "    </tr>\n",
       "  </thead>\n",
       "  <tbody>\n",
       "    <tr>\n",
       "      <th>0</th>\n",
       "      <td>6</td>\n",
       "      <td>148</td>\n",
       "      <td>72</td>\n",
       "      <td>35</td>\n",
       "      <td>0</td>\n",
       "      <td>33.6</td>\n",
       "      <td>0.627</td>\n",
       "      <td>50</td>\n",
       "      <td>1</td>\n",
       "    </tr>\n",
       "    <tr>\n",
       "      <th>1</th>\n",
       "      <td>1</td>\n",
       "      <td>85</td>\n",
       "      <td>66</td>\n",
       "      <td>29</td>\n",
       "      <td>0</td>\n",
       "      <td>26.6</td>\n",
       "      <td>0.351</td>\n",
       "      <td>31</td>\n",
       "      <td>0</td>\n",
       "    </tr>\n",
       "    <tr>\n",
       "      <th>2</th>\n",
       "      <td>8</td>\n",
       "      <td>183</td>\n",
       "      <td>64</td>\n",
       "      <td>0</td>\n",
       "      <td>0</td>\n",
       "      <td>23.3</td>\n",
       "      <td>0.672</td>\n",
       "      <td>32</td>\n",
       "      <td>1</td>\n",
       "    </tr>\n",
       "    <tr>\n",
       "      <th>3</th>\n",
       "      <td>1</td>\n",
       "      <td>89</td>\n",
       "      <td>66</td>\n",
       "      <td>23</td>\n",
       "      <td>94</td>\n",
       "      <td>28.1</td>\n",
       "      <td>0.167</td>\n",
       "      <td>21</td>\n",
       "      <td>0</td>\n",
       "    </tr>\n",
       "    <tr>\n",
       "      <th>4</th>\n",
       "      <td>0</td>\n",
       "      <td>137</td>\n",
       "      <td>40</td>\n",
       "      <td>35</td>\n",
       "      <td>168</td>\n",
       "      <td>43.1</td>\n",
       "      <td>2.288</td>\n",
       "      <td>33</td>\n",
       "      <td>1</td>\n",
       "    </tr>\n",
       "    <tr>\n",
       "      <th>...</th>\n",
       "      <td>...</td>\n",
       "      <td>...</td>\n",
       "      <td>...</td>\n",
       "      <td>...</td>\n",
       "      <td>...</td>\n",
       "      <td>...</td>\n",
       "      <td>...</td>\n",
       "      <td>...</td>\n",
       "      <td>...</td>\n",
       "    </tr>\n",
       "    <tr>\n",
       "      <th>763</th>\n",
       "      <td>10</td>\n",
       "      <td>101</td>\n",
       "      <td>76</td>\n",
       "      <td>48</td>\n",
       "      <td>180</td>\n",
       "      <td>32.9</td>\n",
       "      <td>0.171</td>\n",
       "      <td>63</td>\n",
       "      <td>0</td>\n",
       "    </tr>\n",
       "    <tr>\n",
       "      <th>764</th>\n",
       "      <td>2</td>\n",
       "      <td>122</td>\n",
       "      <td>70</td>\n",
       "      <td>27</td>\n",
       "      <td>0</td>\n",
       "      <td>36.8</td>\n",
       "      <td>0.340</td>\n",
       "      <td>27</td>\n",
       "      <td>0</td>\n",
       "    </tr>\n",
       "    <tr>\n",
       "      <th>765</th>\n",
       "      <td>5</td>\n",
       "      <td>121</td>\n",
       "      <td>72</td>\n",
       "      <td>23</td>\n",
       "      <td>112</td>\n",
       "      <td>26.2</td>\n",
       "      <td>0.245</td>\n",
       "      <td>30</td>\n",
       "      <td>0</td>\n",
       "    </tr>\n",
       "    <tr>\n",
       "      <th>766</th>\n",
       "      <td>1</td>\n",
       "      <td>126</td>\n",
       "      <td>60</td>\n",
       "      <td>0</td>\n",
       "      <td>0</td>\n",
       "      <td>30.1</td>\n",
       "      <td>0.349</td>\n",
       "      <td>47</td>\n",
       "      <td>1</td>\n",
       "    </tr>\n",
       "    <tr>\n",
       "      <th>767</th>\n",
       "      <td>1</td>\n",
       "      <td>93</td>\n",
       "      <td>70</td>\n",
       "      <td>31</td>\n",
       "      <td>0</td>\n",
       "      <td>30.4</td>\n",
       "      <td>0.315</td>\n",
       "      <td>23</td>\n",
       "      <td>0</td>\n",
       "    </tr>\n",
       "  </tbody>\n",
       "</table>\n",
       "<p>768 rows × 9 columns</p>\n",
       "</div>"
      ],
      "text/plain": [
       "     Pregnancies  Glucose  BloodPressure  SkinThickness  Insulin   BMI  \\\n",
       "0              6      148             72             35        0  33.6   \n",
       "1              1       85             66             29        0  26.6   \n",
       "2              8      183             64              0        0  23.3   \n",
       "3              1       89             66             23       94  28.1   \n",
       "4              0      137             40             35      168  43.1   \n",
       "..           ...      ...            ...            ...      ...   ...   \n",
       "763           10      101             76             48      180  32.9   \n",
       "764            2      122             70             27        0  36.8   \n",
       "765            5      121             72             23      112  26.2   \n",
       "766            1      126             60              0        0  30.1   \n",
       "767            1       93             70             31        0  30.4   \n",
       "\n",
       "     DiabetesPedigreeFunction  Age  Outcome  \n",
       "0                       0.627   50        1  \n",
       "1                       0.351   31        0  \n",
       "2                       0.672   32        1  \n",
       "3                       0.167   21        0  \n",
       "4                       2.288   33        1  \n",
       "..                        ...  ...      ...  \n",
       "763                     0.171   63        0  \n",
       "764                     0.340   27        0  \n",
       "765                     0.245   30        0  \n",
       "766                     0.349   47        1  \n",
       "767                     0.315   23        0  \n",
       "\n",
       "[768 rows x 9 columns]"
      ]
     },
     "execution_count": 1,
     "metadata": {},
     "output_type": "execute_result"
    }
   ],
   "source": [
    "import pandas as pd\n",
    "import numpy as np\n",
    "import matplotlib.pyplot as plt\n",
    "%matplotlib inline\n",
    "#read in the data using pandas\n",
    "df = pd.read_csv('diabetes.csv')\n",
    "#check data has been read in properly\n",
    "df"
   ]
  },
  {
   "cell_type": "code",
   "execution_count": 2,
   "metadata": {
    "ExecuteTime": {
     "end_time": "2021-08-14T12:46:32.544330Z",
     "start_time": "2021-08-14T12:46:32.490440Z"
    }
   },
   "outputs": [
    {
     "data": {
      "text/html": [
       "<div>\n",
       "<style scoped>\n",
       "    .dataframe tbody tr th:only-of-type {\n",
       "        vertical-align: middle;\n",
       "    }\n",
       "\n",
       "    .dataframe tbody tr th {\n",
       "        vertical-align: top;\n",
       "    }\n",
       "\n",
       "    .dataframe thead th {\n",
       "        text-align: right;\n",
       "    }\n",
       "</style>\n",
       "<table border=\"1\" class=\"dataframe\">\n",
       "  <thead>\n",
       "    <tr style=\"text-align: right;\">\n",
       "      <th></th>\n",
       "      <th>Pregnancies</th>\n",
       "      <th>Glucose</th>\n",
       "      <th>BloodPressure</th>\n",
       "      <th>SkinThickness</th>\n",
       "      <th>Insulin</th>\n",
       "      <th>BMI</th>\n",
       "      <th>DiabetesPedigreeFunction</th>\n",
       "      <th>Age</th>\n",
       "      <th>Outcome</th>\n",
       "    </tr>\n",
       "  </thead>\n",
       "  <tbody>\n",
       "    <tr>\n",
       "      <th>count</th>\n",
       "      <td>768.000000</td>\n",
       "      <td>768.000000</td>\n",
       "      <td>768.000000</td>\n",
       "      <td>768.000000</td>\n",
       "      <td>768.000000</td>\n",
       "      <td>768.000000</td>\n",
       "      <td>768.000000</td>\n",
       "      <td>768.000000</td>\n",
       "      <td>768.000000</td>\n",
       "    </tr>\n",
       "    <tr>\n",
       "      <th>mean</th>\n",
       "      <td>3.845052</td>\n",
       "      <td>120.894531</td>\n",
       "      <td>69.105469</td>\n",
       "      <td>20.536458</td>\n",
       "      <td>79.799479</td>\n",
       "      <td>31.992578</td>\n",
       "      <td>0.471876</td>\n",
       "      <td>33.240885</td>\n",
       "      <td>0.348958</td>\n",
       "    </tr>\n",
       "    <tr>\n",
       "      <th>std</th>\n",
       "      <td>3.369578</td>\n",
       "      <td>31.972618</td>\n",
       "      <td>19.355807</td>\n",
       "      <td>15.952218</td>\n",
       "      <td>115.244002</td>\n",
       "      <td>7.884160</td>\n",
       "      <td>0.331329</td>\n",
       "      <td>11.760232</td>\n",
       "      <td>0.476951</td>\n",
       "    </tr>\n",
       "    <tr>\n",
       "      <th>min</th>\n",
       "      <td>0.000000</td>\n",
       "      <td>0.000000</td>\n",
       "      <td>0.000000</td>\n",
       "      <td>0.000000</td>\n",
       "      <td>0.000000</td>\n",
       "      <td>0.000000</td>\n",
       "      <td>0.078000</td>\n",
       "      <td>21.000000</td>\n",
       "      <td>0.000000</td>\n",
       "    </tr>\n",
       "    <tr>\n",
       "      <th>25%</th>\n",
       "      <td>1.000000</td>\n",
       "      <td>99.000000</td>\n",
       "      <td>62.000000</td>\n",
       "      <td>0.000000</td>\n",
       "      <td>0.000000</td>\n",
       "      <td>27.300000</td>\n",
       "      <td>0.243750</td>\n",
       "      <td>24.000000</td>\n",
       "      <td>0.000000</td>\n",
       "    </tr>\n",
       "    <tr>\n",
       "      <th>50%</th>\n",
       "      <td>3.000000</td>\n",
       "      <td>117.000000</td>\n",
       "      <td>72.000000</td>\n",
       "      <td>23.000000</td>\n",
       "      <td>30.500000</td>\n",
       "      <td>32.000000</td>\n",
       "      <td>0.372500</td>\n",
       "      <td>29.000000</td>\n",
       "      <td>0.000000</td>\n",
       "    </tr>\n",
       "    <tr>\n",
       "      <th>75%</th>\n",
       "      <td>6.000000</td>\n",
       "      <td>140.250000</td>\n",
       "      <td>80.000000</td>\n",
       "      <td>32.000000</td>\n",
       "      <td>127.250000</td>\n",
       "      <td>36.600000</td>\n",
       "      <td>0.626250</td>\n",
       "      <td>41.000000</td>\n",
       "      <td>1.000000</td>\n",
       "    </tr>\n",
       "    <tr>\n",
       "      <th>max</th>\n",
       "      <td>17.000000</td>\n",
       "      <td>199.000000</td>\n",
       "      <td>122.000000</td>\n",
       "      <td>99.000000</td>\n",
       "      <td>846.000000</td>\n",
       "      <td>67.100000</td>\n",
       "      <td>2.420000</td>\n",
       "      <td>81.000000</td>\n",
       "      <td>1.000000</td>\n",
       "    </tr>\n",
       "  </tbody>\n",
       "</table>\n",
       "</div>"
      ],
      "text/plain": [
       "       Pregnancies     Glucose  BloodPressure  SkinThickness     Insulin  \\\n",
       "count   768.000000  768.000000     768.000000     768.000000  768.000000   \n",
       "mean      3.845052  120.894531      69.105469      20.536458   79.799479   \n",
       "std       3.369578   31.972618      19.355807      15.952218  115.244002   \n",
       "min       0.000000    0.000000       0.000000       0.000000    0.000000   \n",
       "25%       1.000000   99.000000      62.000000       0.000000    0.000000   \n",
       "50%       3.000000  117.000000      72.000000      23.000000   30.500000   \n",
       "75%       6.000000  140.250000      80.000000      32.000000  127.250000   \n",
       "max      17.000000  199.000000     122.000000      99.000000  846.000000   \n",
       "\n",
       "              BMI  DiabetesPedigreeFunction         Age     Outcome  \n",
       "count  768.000000                768.000000  768.000000  768.000000  \n",
       "mean    31.992578                  0.471876   33.240885    0.348958  \n",
       "std      7.884160                  0.331329   11.760232    0.476951  \n",
       "min      0.000000                  0.078000   21.000000    0.000000  \n",
       "25%     27.300000                  0.243750   24.000000    0.000000  \n",
       "50%     32.000000                  0.372500   29.000000    0.000000  \n",
       "75%     36.600000                  0.626250   41.000000    1.000000  \n",
       "max     67.100000                  2.420000   81.000000    1.000000  "
      ]
     },
     "execution_count": 2,
     "metadata": {},
     "output_type": "execute_result"
    }
   ],
   "source": [
    "df.describe()"
   ]
  },
  {
   "cell_type": "code",
   "execution_count": 3,
   "metadata": {
    "ExecuteTime": {
     "end_time": "2021-08-14T12:46:42.280848Z",
     "start_time": "2021-08-14T12:46:42.261488Z"
    }
   },
   "outputs": [
    {
     "data": {
      "text/plain": [
       "0      1\n",
       "1      0\n",
       "2      1\n",
       "3      0\n",
       "4      1\n",
       "      ..\n",
       "763    0\n",
       "764    0\n",
       "765    0\n",
       "766    1\n",
       "767    0\n",
       "Name: Outcome, Length: 768, dtype: int64"
      ]
     },
     "execution_count": 3,
     "metadata": {},
     "output_type": "execute_result"
    }
   ],
   "source": [
    "x = df.drop('Outcome',axis=1)\n",
    "y = df['Outcome']\n",
    "x\n",
    "y"
   ]
  },
  {
   "cell_type": "code",
   "execution_count": 4,
   "metadata": {
    "ExecuteTime": {
     "end_time": "2021-08-14T12:47:02.872204Z",
     "start_time": "2021-08-14T12:47:01.191839Z"
    }
   },
   "outputs": [
    {
     "data": {
      "text/plain": [
       "LogisticRegression(max_iter=1000)"
      ]
     },
     "execution_count": 4,
     "metadata": {},
     "output_type": "execute_result"
    }
   ],
   "source": [
    "from sklearn.linear_model import LogisticRegression\n",
    "# Create Logistic Regression classifier\n",
    "logmodel = LogisticRegression(max_iter=1000)\n",
    "# Fit the classifier to the data\n",
    "logmodel.fit(x,y)"
   ]
  },
  {
   "cell_type": "code",
   "execution_count": 5,
   "metadata": {
    "ExecuteTime": {
     "end_time": "2021-08-14T12:50:29.004262Z",
     "start_time": "2021-08-14T12:50:28.982349Z"
    }
   },
   "outputs": [
    {
     "name": "stdout",
     "output_type": "stream",
     "text": [
      "                  Variables  Coefficients\n",
      "0                 Intercept     -8.364830\n",
      "1               Pregnancies      0.122489\n",
      "2                   Glucose      0.035110\n",
      "3             BloodPressure     -0.013298\n",
      "4             SkinThickness      0.000780\n",
      "5                   Insulin     -0.001174\n",
      "6                       BMI      0.089644\n",
      "7  DiabetesPedigreeFunction      0.867781\n",
      "8                       Age      0.014985\n"
     ]
    }
   ],
   "source": [
    "Model_intercept = pd.DataFrame({\"Variables\":'Intercept',\"Coefficients\":logmodel.intercept_[0]},index=[0])\n",
    "Model_coefficients = pd.DataFrame({\"Variables\":x.columns,\"Coefficients\":np.transpose(logmodel.coef_[0])})\n",
    "Model_coefficients = pd.concat([Model_intercept,Model_coefficients]).reset_index(drop=True)\n",
    "print(Model_coefficients)"
   ]
  },
  {
   "cell_type": "code",
   "execution_count": 6,
   "metadata": {
    "ExecuteTime": {
     "end_time": "2021-08-14T12:58:48.029924Z",
     "start_time": "2021-08-14T12:58:48.003467Z"
    }
   },
   "outputs": [],
   "source": [
    "from sklearn.model_selection import train_test_split\n",
    "#split dataset into train and test data\n",
    "x_train, x_test, y_train, y_test = train_test_split(x, y, test_size=0.2, random_state=1, stratify=y)"
   ]
  },
  {
   "cell_type": "code",
   "execution_count": 7,
   "metadata": {
    "ExecuteTime": {
     "end_time": "2021-08-14T12:58:59.900581Z",
     "start_time": "2021-08-14T12:58:59.829258Z"
    }
   },
   "outputs": [
    {
     "data": {
      "text/plain": [
       "LogisticRegression(max_iter=1000)"
      ]
     },
     "execution_count": 7,
     "metadata": {},
     "output_type": "execute_result"
    }
   ],
   "source": [
    "from sklearn.linear_model import LogisticRegression\n",
    "# Create Logistic Regression classifier\n",
    "logmodel = LogisticRegression(max_iter=1000)\n",
    "# Fit the classifier to the data\n",
    "logmodel.fit(x_train,y_train)"
   ]
  },
  {
   "cell_type": "code",
   "execution_count": 8,
   "metadata": {
    "ExecuteTime": {
     "end_time": "2021-08-14T12:59:05.747321Z",
     "start_time": "2021-08-14T12:59:05.734355Z"
    }
   },
   "outputs": [
    {
     "data": {
      "text/plain": [
       "array([0, 0, 0, 0, 0, 0, 0, 0, 1, 0, 0, 0, 1, 0, 0, 0, 0, 1, 0, 1, 1, 0,\n",
       "       0, 0, 0, 0, 0, 0, 0, 0, 0, 0, 0, 0, 1, 1, 0, 1, 0, 0, 0, 1, 0, 0,\n",
       "       0, 0, 0, 0, 1, 1, 0, 0, 1, 0, 0, 0, 0, 0, 1, 1, 0, 0, 0, 0, 1, 0,\n",
       "       0, 1, 0, 0, 1, 0, 0, 0, 0, 0, 1, 0, 0, 0, 0, 0, 0, 0, 0, 1, 0, 0,\n",
       "       1, 0, 1, 0, 0, 0, 0, 0, 0, 0, 1, 0, 0, 0, 0, 1, 0, 0, 1, 0, 0, 1,\n",
       "       0, 0, 0, 0, 1, 1, 0, 0, 1, 1, 0, 0, 0, 0, 0, 1, 0, 0, 1, 1, 1, 0,\n",
       "       0, 0, 0, 0, 1, 0, 0, 1, 0, 0, 0, 0, 0, 0, 0, 0, 0, 0, 1, 0, 1, 0],\n",
       "      dtype=int64)"
      ]
     },
     "execution_count": 8,
     "metadata": {},
     "output_type": "execute_result"
    }
   ],
   "source": [
    "#Make prediction using test data\n",
    "y_pred = logmodel.predict(x_test)\n",
    "y_pred"
   ]
  },
  {
   "cell_type": "code",
   "execution_count": 9,
   "metadata": {
    "ExecuteTime": {
     "end_time": "2021-08-14T12:59:07.892740Z",
     "start_time": "2021-08-14T12:59:07.875114Z"
    }
   },
   "outputs": [
    {
     "data": {
      "text/plain": [
       "488    0\n",
       "413    0\n",
       "112    0\n",
       "222    0\n",
       "711    0\n",
       "      ..\n",
       "139    0\n",
       "178    0\n",
       "654    0\n",
       "110    1\n",
       "102    0\n",
       "Name: Outcome, Length: 154, dtype: int64"
      ]
     },
     "execution_count": 9,
     "metadata": {},
     "output_type": "execute_result"
    }
   ],
   "source": [
    "y_test"
   ]
  },
  {
   "cell_type": "code",
   "execution_count": 10,
   "metadata": {
    "ExecuteTime": {
     "end_time": "2021-08-14T13:00:08.334395Z",
     "start_time": "2021-08-14T13:00:08.324072Z"
    }
   },
   "outputs": [
    {
     "name": "stdout",
     "output_type": "stream",
     "text": [
      "0.7857142857142857\n"
     ]
    }
   ],
   "source": [
    "# Use score method to get test accuracy of model\n",
    "score = logmodel.score(x_test, y_test)\n",
    "print(score)"
   ]
  },
  {
   "cell_type": "code",
   "execution_count": 11,
   "metadata": {
    "ExecuteTime": {
     "end_time": "2021-08-14T13:00:23.523823Z",
     "start_time": "2021-08-14T13:00:23.504363Z"
    }
   },
   "outputs": [
    {
     "name": "stdout",
     "output_type": "stream",
     "text": [
      "                  Variables  Coefficients\n",
      "0                 Intercept     -8.397174\n",
      "1               Pregnancies      0.134698\n",
      "2                   Glucose      0.034462\n",
      "3             BloodPressure     -0.016908\n",
      "4             SkinThickness     -0.004595\n",
      "5                   Insulin     -0.000594\n",
      "6                       BMI      0.096835\n",
      "7  DiabetesPedigreeFunction      1.132809\n",
      "8                       Age      0.014426\n"
     ]
    }
   ],
   "source": [
    "Model_intercept = pd.DataFrame({\"Variables\":'Intercept',\"Coefficients\":logmodel.intercept_[0]},index=[0])\n",
    "Model_coefficients = pd.DataFrame({\"Variables\":x.columns,\"Coefficients\":np.transpose(logmodel.coef_[0])})\n",
    "Model_coefficients = pd.concat([Model_intercept,Model_coefficients]).reset_index(drop=True)\n",
    "print(Model_coefficients)"
   ]
  },
  {
   "cell_type": "code",
   "execution_count": 13,
   "metadata": {
    "ExecuteTime": {
     "end_time": "2021-08-14T13:02:12.550524Z",
     "start_time": "2021-08-14T13:02:12.537561Z"
    }
   },
   "outputs": [
    {
     "name": "stdout",
     "output_type": "stream",
     "text": [
      "0.7850162866449512\n"
     ]
    }
   ],
   "source": [
    "# Use score method to get training accuracy of model\n",
    "score = logmodel.score(x_train, y_train)\n",
    "print(score)"
   ]
  },
  {
   "cell_type": "markdown",
   "metadata": {},
   "source": [
    "********************************************************************"
   ]
  },
  {
   "cell_type": "code",
   "execution_count": 14,
   "metadata": {
    "ExecuteTime": {
     "end_time": "2021-08-14T13:03:38.292843Z",
     "start_time": "2021-08-14T13:03:38.273718Z"
    }
   },
   "outputs": [
    {
     "data": {
      "text/plain": [
       "array([[92,  8],\n",
       "       [25, 29]], dtype=int64)"
      ]
     },
     "execution_count": 14,
     "metadata": {},
     "output_type": "execute_result"
    }
   ],
   "source": [
    "# import the metrics class - confucion metris\n",
    "from sklearn import metrics\n",
    "cnf_matrix = metrics.confusion_matrix(y_test, y_pred)\n",
    "cnf_matrix"
   ]
  },
  {
   "cell_type": "code",
   "execution_count": 15,
   "metadata": {
    "ExecuteTime": {
     "end_time": "2021-08-14T13:07:15.509017Z",
     "start_time": "2021-08-14T13:07:15.485878Z"
    },
    "scrolled": true
   },
   "outputs": [
    {
     "name": "stdout",
     "output_type": "stream",
     "text": [
      "Accuracy: 0.7857142857142857\n",
      "Precision: 0.7837837837837838\n",
      "Recall: 0.5370370370370371\n"
     ]
    }
   ],
   "source": [
    "print(\"Accuracy:\",metrics.accuracy_score(y_test, y_pred))\n",
    "print(\"Precision:\",metrics.precision_score(y_test, y_pred))\n",
    "print(\"Recall:\",metrics.recall_score(y_test, y_pred))"
   ]
  },
  {
   "cell_type": "code",
   "execution_count": 16,
   "metadata": {
    "ExecuteTime": {
     "end_time": "2021-08-14T13:10:34.445948Z",
     "start_time": "2021-08-14T13:10:34.423524Z"
    }
   },
   "outputs": [
    {
     "data": {
      "text/html": [
       "<div>\n",
       "<style scoped>\n",
       "    .dataframe tbody tr th:only-of-type {\n",
       "        vertical-align: middle;\n",
       "    }\n",
       "\n",
       "    .dataframe tbody tr th {\n",
       "        vertical-align: top;\n",
       "    }\n",
       "\n",
       "    .dataframe thead th {\n",
       "        text-align: right;\n",
       "    }\n",
       "</style>\n",
       "<table border=\"1\" class=\"dataframe\">\n",
       "  <thead>\n",
       "    <tr style=\"text-align: right;\">\n",
       "      <th></th>\n",
       "      <th>Pregnancies</th>\n",
       "      <th>Glucose</th>\n",
       "      <th>BloodPressure</th>\n",
       "      <th>SkinThickness</th>\n",
       "      <th>Insulin</th>\n",
       "      <th>BMI</th>\n",
       "      <th>DiabetesPedigreeFunction</th>\n",
       "      <th>Age</th>\n",
       "    </tr>\n",
       "  </thead>\n",
       "  <tbody>\n",
       "    <tr>\n",
       "      <th>488</th>\n",
       "      <td>4</td>\n",
       "      <td>99</td>\n",
       "      <td>72</td>\n",
       "      <td>17</td>\n",
       "      <td>0</td>\n",
       "      <td>25.6</td>\n",
       "      <td>0.294</td>\n",
       "      <td>28</td>\n",
       "    </tr>\n",
       "    <tr>\n",
       "      <th>413</th>\n",
       "      <td>1</td>\n",
       "      <td>143</td>\n",
       "      <td>74</td>\n",
       "      <td>22</td>\n",
       "      <td>61</td>\n",
       "      <td>26.2</td>\n",
       "      <td>0.256</td>\n",
       "      <td>21</td>\n",
       "    </tr>\n",
       "    <tr>\n",
       "      <th>112</th>\n",
       "      <td>1</td>\n",
       "      <td>89</td>\n",
       "      <td>76</td>\n",
       "      <td>34</td>\n",
       "      <td>37</td>\n",
       "      <td>31.2</td>\n",
       "      <td>0.192</td>\n",
       "      <td>23</td>\n",
       "    </tr>\n",
       "    <tr>\n",
       "      <th>222</th>\n",
       "      <td>7</td>\n",
       "      <td>119</td>\n",
       "      <td>0</td>\n",
       "      <td>0</td>\n",
       "      <td>0</td>\n",
       "      <td>25.2</td>\n",
       "      <td>0.209</td>\n",
       "      <td>37</td>\n",
       "    </tr>\n",
       "    <tr>\n",
       "      <th>711</th>\n",
       "      <td>5</td>\n",
       "      <td>126</td>\n",
       "      <td>78</td>\n",
       "      <td>27</td>\n",
       "      <td>22</td>\n",
       "      <td>29.6</td>\n",
       "      <td>0.439</td>\n",
       "      <td>40</td>\n",
       "    </tr>\n",
       "    <tr>\n",
       "      <th>...</th>\n",
       "      <td>...</td>\n",
       "      <td>...</td>\n",
       "      <td>...</td>\n",
       "      <td>...</td>\n",
       "      <td>...</td>\n",
       "      <td>...</td>\n",
       "      <td>...</td>\n",
       "      <td>...</td>\n",
       "    </tr>\n",
       "    <tr>\n",
       "      <th>139</th>\n",
       "      <td>5</td>\n",
       "      <td>105</td>\n",
       "      <td>72</td>\n",
       "      <td>29</td>\n",
       "      <td>325</td>\n",
       "      <td>36.9</td>\n",
       "      <td>0.159</td>\n",
       "      <td>28</td>\n",
       "    </tr>\n",
       "    <tr>\n",
       "      <th>178</th>\n",
       "      <td>5</td>\n",
       "      <td>143</td>\n",
       "      <td>78</td>\n",
       "      <td>0</td>\n",
       "      <td>0</td>\n",
       "      <td>45.0</td>\n",
       "      <td>0.190</td>\n",
       "      <td>47</td>\n",
       "    </tr>\n",
       "    <tr>\n",
       "      <th>654</th>\n",
       "      <td>1</td>\n",
       "      <td>106</td>\n",
       "      <td>70</td>\n",
       "      <td>28</td>\n",
       "      <td>135</td>\n",
       "      <td>34.2</td>\n",
       "      <td>0.142</td>\n",
       "      <td>22</td>\n",
       "    </tr>\n",
       "    <tr>\n",
       "      <th>110</th>\n",
       "      <td>3</td>\n",
       "      <td>171</td>\n",
       "      <td>72</td>\n",
       "      <td>33</td>\n",
       "      <td>135</td>\n",
       "      <td>33.3</td>\n",
       "      <td>0.199</td>\n",
       "      <td>24</td>\n",
       "    </tr>\n",
       "    <tr>\n",
       "      <th>102</th>\n",
       "      <td>0</td>\n",
       "      <td>125</td>\n",
       "      <td>96</td>\n",
       "      <td>0</td>\n",
       "      <td>0</td>\n",
       "      <td>22.5</td>\n",
       "      <td>0.262</td>\n",
       "      <td>21</td>\n",
       "    </tr>\n",
       "  </tbody>\n",
       "</table>\n",
       "<p>154 rows × 8 columns</p>\n",
       "</div>"
      ],
      "text/plain": [
       "     Pregnancies  Glucose  BloodPressure  SkinThickness  Insulin   BMI  \\\n",
       "488            4       99             72             17        0  25.6   \n",
       "413            1      143             74             22       61  26.2   \n",
       "112            1       89             76             34       37  31.2   \n",
       "222            7      119              0              0        0  25.2   \n",
       "711            5      126             78             27       22  29.6   \n",
       "..           ...      ...            ...            ...      ...   ...   \n",
       "139            5      105             72             29      325  36.9   \n",
       "178            5      143             78              0        0  45.0   \n",
       "654            1      106             70             28      135  34.2   \n",
       "110            3      171             72             33      135  33.3   \n",
       "102            0      125             96              0        0  22.5   \n",
       "\n",
       "     DiabetesPedigreeFunction  Age  \n",
       "488                     0.294   28  \n",
       "413                     0.256   21  \n",
       "112                     0.192   23  \n",
       "222                     0.209   37  \n",
       "711                     0.439   40  \n",
       "..                        ...  ...  \n",
       "139                     0.159   28  \n",
       "178                     0.190   47  \n",
       "654                     0.142   22  \n",
       "110                     0.199   24  \n",
       "102                     0.262   21  \n",
       "\n",
       "[154 rows x 8 columns]"
      ]
     },
     "execution_count": 16,
     "metadata": {},
     "output_type": "execute_result"
    }
   ],
   "source": [
    "x_test"
   ]
  },
  {
   "cell_type": "code",
   "execution_count": 17,
   "metadata": {
    "ExecuteTime": {
     "end_time": "2021-08-14T13:11:00.988669Z",
     "start_time": "2021-08-14T13:11:00.972196Z"
    }
   },
   "outputs": [
    {
     "data": {
      "text/plain": [
       "array([0.07404058, 0.16896949, 0.04360246, 0.46442359, 0.28970725,\n",
       "       0.22717674, 0.02975408, 0.09712182, 0.77748184, 0.05023862,\n",
       "       0.21972332, 0.05513744, 0.74213025, 0.02974752, 0.04932221,\n",
       "       0.28648774, 0.27807414, 0.52517712, 0.1382165 , 0.68413974,\n",
       "       0.74469356, 0.08271399, 0.43685703, 0.02800793, 0.22770731,\n",
       "       0.16760027, 0.47673657, 0.08707703, 0.04942233, 0.062799  ,\n",
       "       0.06345405, 0.00328104, 0.02677252, 0.24140032, 0.70475395,\n",
       "       0.86913503, 0.17484925, 0.85559604, 0.15930989, 0.14979113,\n",
       "       0.08869387, 0.8762908 , 0.14303012, 0.45717245, 0.25185251,\n",
       "       0.22882774, 0.24363787, 0.11729011, 0.52283236, 0.921944  ,\n",
       "       0.04006991, 0.19161978, 0.64814006, 0.40680828, 0.21223467,\n",
       "       0.29354388, 0.15184069, 0.0319025 , 0.66551309, 0.71123047,\n",
       "       0.05881154, 0.24042076, 0.03062538, 0.09003754, 0.97736144,\n",
       "       0.10395199, 0.00183627, 0.81196214, 0.03698153, 0.40606257,\n",
       "       0.6342238 , 0.04431314, 0.39067642, 0.39869695, 0.48602715,\n",
       "       0.20246564, 0.74090278, 0.4759748 , 0.31456777, 0.4927089 ,\n",
       "       0.32673671, 0.43413171, 0.47476007, 0.46315203, 0.33763434,\n",
       "       0.61303763, 0.23331473, 0.32935279, 0.88374623, 0.25492084,\n",
       "       0.69947278, 0.10891783, 0.24184809, 0.36589107, 0.19907074,\n",
       "       0.22712912, 0.10792042, 0.01443074, 0.64508657, 0.40003527,\n",
       "       0.21324939, 0.07108745, 0.38301397, 0.93758442, 0.31027511,\n",
       "       0.4391425 , 0.68791973, 0.11048407, 0.11153897, 0.96282795,\n",
       "       0.38362317, 0.08920399, 0.10110119, 0.40304839, 0.72746779,\n",
       "       0.85145089, 0.41608692, 0.09367485, 0.91141349, 0.75758959,\n",
       "       0.25572976, 0.00882201, 0.07914605, 0.28939379, 0.15710968,\n",
       "       0.66079928, 0.10886657, 0.06896382, 0.56807686, 0.63542088,\n",
       "       0.76122008, 0.1164249 , 0.07150161, 0.20318918, 0.06604692,\n",
       "       0.25870008, 0.62395575, 0.19698381, 0.10050563, 0.59577555,\n",
       "       0.02680228, 0.13599283, 0.12405899, 0.08292838, 0.33057774,\n",
       "       0.15511095, 0.04637476, 0.3618767 , 0.39301459, 0.18367415,\n",
       "       0.75701061, 0.09868104, 0.56142084, 0.05049284])"
      ]
     },
     "execution_count": 17,
     "metadata": {},
     "output_type": "execute_result"
    }
   ],
   "source": [
    "y_pred_proba = logmodel.predict_proba(x_test)[::,1]\n",
    "y_pred_proba"
   ]
  },
  {
   "cell_type": "code",
   "execution_count": 18,
   "metadata": {
    "ExecuteTime": {
     "end_time": "2021-08-14T13:12:43.094021Z",
     "start_time": "2021-08-14T13:12:43.081056Z"
    }
   },
   "outputs": [
    {
     "data": {
      "text/plain": [
       "array([[0.92595942, 0.07404058],\n",
       "       [0.83103051, 0.16896949],\n",
       "       [0.95639754, 0.04360246],\n",
       "       [0.53557641, 0.46442359],\n",
       "       [0.71029275, 0.28970725],\n",
       "       [0.77282326, 0.22717674],\n",
       "       [0.97024592, 0.02975408],\n",
       "       [0.90287818, 0.09712182],\n",
       "       [0.22251816, 0.77748184],\n",
       "       [0.94976138, 0.05023862],\n",
       "       [0.78027668, 0.21972332],\n",
       "       [0.94486256, 0.05513744],\n",
       "       [0.25786975, 0.74213025],\n",
       "       [0.97025248, 0.02974752],\n",
       "       [0.95067779, 0.04932221],\n",
       "       [0.71351226, 0.28648774],\n",
       "       [0.72192586, 0.27807414],\n",
       "       [0.47482288, 0.52517712],\n",
       "       [0.8617835 , 0.1382165 ],\n",
       "       [0.31586026, 0.68413974],\n",
       "       [0.25530644, 0.74469356],\n",
       "       [0.91728601, 0.08271399],\n",
       "       [0.56314297, 0.43685703],\n",
       "       [0.97199207, 0.02800793],\n",
       "       [0.77229269, 0.22770731],\n",
       "       [0.83239973, 0.16760027],\n",
       "       [0.52326343, 0.47673657],\n",
       "       [0.91292297, 0.08707703],\n",
       "       [0.95057767, 0.04942233],\n",
       "       [0.937201  , 0.062799  ],\n",
       "       [0.93654595, 0.06345405],\n",
       "       [0.99671896, 0.00328104],\n",
       "       [0.97322748, 0.02677252],\n",
       "       [0.75859968, 0.24140032],\n",
       "       [0.29524605, 0.70475395],\n",
       "       [0.13086497, 0.86913503],\n",
       "       [0.82515075, 0.17484925],\n",
       "       [0.14440396, 0.85559604],\n",
       "       [0.84069011, 0.15930989],\n",
       "       [0.85020887, 0.14979113],\n",
       "       [0.91130613, 0.08869387],\n",
       "       [0.1237092 , 0.8762908 ],\n",
       "       [0.85696988, 0.14303012],\n",
       "       [0.54282755, 0.45717245],\n",
       "       [0.74814749, 0.25185251],\n",
       "       [0.77117226, 0.22882774],\n",
       "       [0.75636213, 0.24363787],\n",
       "       [0.88270989, 0.11729011],\n",
       "       [0.47716764, 0.52283236],\n",
       "       [0.078056  , 0.921944  ],\n",
       "       [0.95993009, 0.04006991],\n",
       "       [0.80838022, 0.19161978],\n",
       "       [0.35185994, 0.64814006],\n",
       "       [0.59319172, 0.40680828],\n",
       "       [0.78776533, 0.21223467],\n",
       "       [0.70645612, 0.29354388],\n",
       "       [0.84815931, 0.15184069],\n",
       "       [0.9680975 , 0.0319025 ],\n",
       "       [0.33448691, 0.66551309],\n",
       "       [0.28876953, 0.71123047],\n",
       "       [0.94118846, 0.05881154],\n",
       "       [0.75957924, 0.24042076],\n",
       "       [0.96937462, 0.03062538],\n",
       "       [0.90996246, 0.09003754],\n",
       "       [0.02263856, 0.97736144],\n",
       "       [0.89604801, 0.10395199],\n",
       "       [0.99816373, 0.00183627],\n",
       "       [0.18803786, 0.81196214],\n",
       "       [0.96301847, 0.03698153],\n",
       "       [0.59393743, 0.40606257],\n",
       "       [0.3657762 , 0.6342238 ],\n",
       "       [0.95568686, 0.04431314],\n",
       "       [0.60932358, 0.39067642],\n",
       "       [0.60130305, 0.39869695],\n",
       "       [0.51397285, 0.48602715],\n",
       "       [0.79753436, 0.20246564],\n",
       "       [0.25909722, 0.74090278],\n",
       "       [0.5240252 , 0.4759748 ],\n",
       "       [0.68543223, 0.31456777],\n",
       "       [0.5072911 , 0.4927089 ],\n",
       "       [0.67326329, 0.32673671],\n",
       "       [0.56586829, 0.43413171],\n",
       "       [0.52523993, 0.47476007],\n",
       "       [0.53684797, 0.46315203],\n",
       "       [0.66236566, 0.33763434],\n",
       "       [0.38696237, 0.61303763],\n",
       "       [0.76668527, 0.23331473],\n",
       "       [0.67064721, 0.32935279],\n",
       "       [0.11625377, 0.88374623],\n",
       "       [0.74507916, 0.25492084],\n",
       "       [0.30052722, 0.69947278],\n",
       "       [0.89108217, 0.10891783],\n",
       "       [0.75815191, 0.24184809],\n",
       "       [0.63410893, 0.36589107],\n",
       "       [0.80092926, 0.19907074],\n",
       "       [0.77287088, 0.22712912],\n",
       "       [0.89207958, 0.10792042],\n",
       "       [0.98556926, 0.01443074],\n",
       "       [0.35491343, 0.64508657],\n",
       "       [0.59996473, 0.40003527],\n",
       "       [0.78675061, 0.21324939],\n",
       "       [0.92891255, 0.07108745],\n",
       "       [0.61698603, 0.38301397],\n",
       "       [0.06241558, 0.93758442],\n",
       "       [0.68972489, 0.31027511],\n",
       "       [0.5608575 , 0.4391425 ],\n",
       "       [0.31208027, 0.68791973],\n",
       "       [0.88951593, 0.11048407],\n",
       "       [0.88846103, 0.11153897],\n",
       "       [0.03717205, 0.96282795],\n",
       "       [0.61637683, 0.38362317],\n",
       "       [0.91079601, 0.08920399],\n",
       "       [0.89889881, 0.10110119],\n",
       "       [0.59695161, 0.40304839],\n",
       "       [0.27253221, 0.72746779],\n",
       "       [0.14854911, 0.85145089],\n",
       "       [0.58391308, 0.41608692],\n",
       "       [0.90632515, 0.09367485],\n",
       "       [0.08858651, 0.91141349],\n",
       "       [0.24241041, 0.75758959],\n",
       "       [0.74427024, 0.25572976],\n",
       "       [0.99117799, 0.00882201],\n",
       "       [0.92085395, 0.07914605],\n",
       "       [0.71060621, 0.28939379],\n",
       "       [0.84289032, 0.15710968],\n",
       "       [0.33920072, 0.66079928],\n",
       "       [0.89113343, 0.10886657],\n",
       "       [0.93103618, 0.06896382],\n",
       "       [0.43192314, 0.56807686],\n",
       "       [0.36457912, 0.63542088],\n",
       "       [0.23877992, 0.76122008],\n",
       "       [0.8835751 , 0.1164249 ],\n",
       "       [0.92849839, 0.07150161],\n",
       "       [0.79681082, 0.20318918],\n",
       "       [0.93395308, 0.06604692],\n",
       "       [0.74129992, 0.25870008],\n",
       "       [0.37604425, 0.62395575],\n",
       "       [0.80301619, 0.19698381],\n",
       "       [0.89949437, 0.10050563],\n",
       "       [0.40422445, 0.59577555],\n",
       "       [0.97319772, 0.02680228],\n",
       "       [0.86400717, 0.13599283],\n",
       "       [0.87594101, 0.12405899],\n",
       "       [0.91707162, 0.08292838],\n",
       "       [0.66942226, 0.33057774],\n",
       "       [0.84488905, 0.15511095],\n",
       "       [0.95362524, 0.04637476],\n",
       "       [0.6381233 , 0.3618767 ],\n",
       "       [0.60698541, 0.39301459],\n",
       "       [0.81632585, 0.18367415],\n",
       "       [0.24298939, 0.75701061],\n",
       "       [0.90131896, 0.09868104],\n",
       "       [0.43857916, 0.56142084],\n",
       "       [0.94950716, 0.05049284]])"
      ]
     },
     "execution_count": 18,
     "metadata": {},
     "output_type": "execute_result"
    }
   ],
   "source": [
    "logmodel.predict_proba(x_test)"
   ]
  },
  {
   "cell_type": "code",
   "execution_count": 19,
   "metadata": {
    "ExecuteTime": {
     "end_time": "2021-08-14T13:13:54.294960Z",
     "start_time": "2021-08-14T13:13:54.280320Z"
    }
   },
   "outputs": [
    {
     "data": {
      "text/plain": [
       "array([0., 0., 0., 1., 1., 1., 0., 0., 1., 0., 1., 0., 1., 0., 0., 1., 1.,\n",
       "       1., 0., 1., 1., 0., 1., 0., 1., 0., 1., 0., 0., 0., 0., 0., 0., 1.,\n",
       "       1., 1., 0., 1., 0., 0., 0., 1., 0., 1., 1., 1., 1., 0., 1., 1., 0.,\n",
       "       0., 1., 1., 1., 1., 0., 0., 1., 1., 0., 1., 0., 0., 1., 0., 0., 1.,\n",
       "       0., 1., 1., 0., 1., 1., 1., 1., 1., 1., 1., 1., 1., 1., 1., 1., 1.,\n",
       "       1., 1., 1., 1., 1., 1., 0., 1., 1., 0., 1., 0., 0., 1., 1., 1., 0.,\n",
       "       1., 1., 1., 1., 1., 0., 0., 1., 1., 0., 0., 1., 1., 1., 1., 0., 1.,\n",
       "       1., 1., 0., 0., 1., 0., 1., 0., 0., 1., 1., 1., 0., 0., 1., 0., 1.,\n",
       "       1., 0., 0., 1., 0., 0., 0., 0., 1., 0., 0., 1., 1., 0., 1., 0., 1.,\n",
       "       0.])"
      ]
     },
     "execution_count": 19,
     "metadata": {},
     "output_type": "execute_result"
    }
   ],
   "source": [
    "threshold = 0.2\n",
    "y_pred = (y_pred_proba > threshold).astype('float')\n",
    "y_pred"
   ]
  },
  {
   "cell_type": "code",
   "execution_count": 20,
   "metadata": {
    "ExecuteTime": {
     "end_time": "2021-08-14T13:13:55.356683Z",
     "start_time": "2021-08-14T13:13:55.337734Z"
    }
   },
   "outputs": [
    {
     "data": {
      "text/plain": [
       "488    0\n",
       "413    0\n",
       "112    0\n",
       "222    0\n",
       "711    0\n",
       "      ..\n",
       "139    0\n",
       "178    0\n",
       "654    0\n",
       "110    1\n",
       "102    0\n",
       "Name: Outcome, Length: 154, dtype: int64"
      ]
     },
     "execution_count": 20,
     "metadata": {},
     "output_type": "execute_result"
    }
   ],
   "source": [
    "y_test"
   ]
  },
  {
   "cell_type": "code",
   "execution_count": 21,
   "metadata": {
    "ExecuteTime": {
     "end_time": "2021-08-14T13:14:11.500006Z",
     "start_time": "2021-08-14T13:14:11.484109Z"
    }
   },
   "outputs": [
    {
     "data": {
      "text/plain": [
       "array([[57, 43],\n",
       "       [ 8, 46]], dtype=int64)"
      ]
     },
     "execution_count": 21,
     "metadata": {},
     "output_type": "execute_result"
    }
   ],
   "source": [
    "metrics.confusion_matrix(y_test, y_pred)"
   ]
  },
  {
   "cell_type": "code",
   "execution_count": 22,
   "metadata": {
    "ExecuteTime": {
     "end_time": "2021-08-14T13:14:27.708266Z",
     "start_time": "2021-08-14T13:14:27.693307Z"
    }
   },
   "outputs": [
    {
     "data": {
      "text/plain": [
       "array([[75, 25],\n",
       "       [13, 41]], dtype=int64)"
      ]
     },
     "execution_count": 22,
     "metadata": {},
     "output_type": "execute_result"
    }
   ],
   "source": [
    "threshold = 0.3\n",
    "y_pred = (y_pred_proba > threshold).astype('float')\n",
    "metrics.confusion_matrix(y_test, y_pred)"
   ]
  },
  {
   "cell_type": "code",
   "execution_count": 23,
   "metadata": {
    "ExecuteTime": {
     "end_time": "2021-08-14T13:18:17.343249Z",
     "start_time": "2021-08-14T13:18:17.136676Z"
    }
   },
   "outputs": [
    {
     "data": {
      "image/png": "[encoded data removed]",
      "text/plain": [
       "<Figure size 432x288 with 1 Axes>"
      ]
     },
     "metadata": {
      "needs_background": "light"
     },
     "output_type": "display_data"
    }
   ],
   "source": [
    "fpr, tpr, _ = metrics.roc_curve(y_test,  y_pred_proba)\n",
    "auc = metrics.roc_auc_score(y_test, y_pred_proba)\n",
    "plt.plot(fpr,tpr,label=\"data 1, auc=\"+str(auc))\n",
    "plt.legend(loc=4)\n",
    "plt.show()"
   ]
  },
  {
   "cell_type": "code",
   "execution_count": null,
   "metadata": {},
   "outputs": [],
   "source": []
  }
 ],
 "metadata": {
  "kernelspec": {
   "display_name": "Python 3",
   "language": "python",
   "name": "python3"
  },
  "language_info": {
   "codemirror_mode": {
    "name": "ipython",
    "version": 3
   },
   "file_extension": ".py",
   "mimetype": "text/x-python",
   "name": "python",
   "nbconvert_exporter": "python",
   "pygments_lexer": "ipython3",
   "version": "3.8.10"
  },
  "varInspector": {
   "cols": {
    "lenName": 16,
    "lenType": 16,
    "lenVar": 40
   },
   "kernels_config": {
    "python": {
     "delete_cmd_postfix": "",
     "delete_cmd_prefix": "del ",
     "library": "var_list.py",
     "varRefreshCmd": "print(var_dic_list())"
    },
    "r": {
     "delete_cmd_postfix": ") ",
     "delete_cmd_prefix": "rm(",
     "library": "var_list.r",
     "varRefreshCmd": "cat(var_dic_list()) "
    }
   },
   "types_to_exclude": [
    "module",
    "function",
    "builtin_function_or_method",
    "instance",
    "_Feature"
   ],
   "window_display": false
  }
 },
 "nbformat": 4,
 "nbformat_minor": 1
}
