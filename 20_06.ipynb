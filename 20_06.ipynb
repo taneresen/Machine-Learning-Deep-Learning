{
 "cells": [
  {
   "cell_type": "code",
   "execution_count": null,
   "metadata": {
    "ExecuteTime": {
     "end_time": "2021-07-08T10:59:47.768804Z",
     "start_time": "2021-07-08T10:59:47.456605Z"
    }
   },
   "outputs": [],
   "source": [
    "from bs4 import BeautifulSoup"
   ]
  },
  {
   "cell_type": "code",
   "execution_count": null,
   "metadata": {
    "ExecuteTime": {
     "end_time": "2021-07-08T10:59:49.611915Z",
     "start_time": "2021-07-08T10:59:49.456651Z"
    }
   },
   "outputs": [],
   "source": [
    "import requests"
   ]
  },
  {
   "cell_type": "code",
   "execution_count": null,
   "metadata": {
    "ExecuteTime": {
     "end_time": "2021-07-08T10:59:50.795582Z",
     "start_time": "2021-07-08T10:59:50.778675Z"
    }
   },
   "outputs": [],
   "source": [
    "import requests"
   ]
  },
  {
   "cell_type": "code",
   "execution_count": null,
   "metadata": {
    "ExecuteTime": {
     "end_time": "2021-07-08T10:59:52.244842Z",
     "start_time": "2021-07-08T10:59:52.239614Z"
    }
   },
   "outputs": [],
   "source": [
    "from bs4 import BeautifulSoup"
   ]
  },
  {
   "cell_type": "code",
   "execution_count": null,
   "metadata": {
    "ExecuteTime": {
     "end_time": "2021-07-08T11:21:31.787678Z",
     "start_time": "2021-07-08T11:21:31.682728Z"
    }
   },
   "outputs": [],
   "source": [
    "requests.get('https://www.hurriyet.com.tr/')"
   ]
  },
  {
   "cell_type": "code",
   "execution_count": null,
   "metadata": {
    "ExecuteTime": {
     "end_time": "2021-07-08T11:21:35.154983Z",
     "start_time": "2021-07-08T11:21:35.060395Z"
    }
   },
   "outputs": [],
   "source": [
    "kaynak=requests.get('https://www.hurriyet.com.tr/')"
   ]
  },
  {
   "cell_type": "code",
   "execution_count": null,
   "metadata": {
    "ExecuteTime": {
     "end_time": "2021-07-08T11:21:36.090009Z",
     "start_time": "2021-07-08T11:21:36.072505Z"
    }
   },
   "outputs": [],
   "source": [
    "kaynak"
   ]
  },
  {
   "cell_type": "code",
   "execution_count": null,
   "metadata": {
    "ExecuteTime": {
     "end_time": "2021-07-08T11:24:31.186894Z",
     "start_time": "2021-07-08T11:24:31.069051Z"
    }
   },
   "outputs": [],
   "source": [
    "icerik=BeautifulSoup(kaynak.content,\"lxml\")"
   ]
  },
  {
   "cell_type": "markdown",
   "metadata": {},
   "source": [
    "lxlm\n",
    "html.parser\n",
    "lxml-xml\n",
    "html5lib    ilede veri cekebiliriz"
   ]
  },
  {
   "cell_type": "code",
   "execution_count": null,
   "metadata": {
    "ExecuteTime": {
     "end_time": "2021-07-08T11:24:32.275074Z",
     "start_time": "2021-07-08T11:24:31.944314Z"
    },
    "scrolled": true
   },
   "outputs": [],
   "source": [
    "icerik"
   ]
  },
  {
   "cell_type": "code",
   "execution_count": null,
   "metadata": {
    "ExecuteTime": {
     "end_time": "2021-07-08T11:37:32.324620Z",
     "start_time": "2021-07-08T11:37:32.302066Z"
    }
   },
   "outputs": [],
   "source": [
    "icerik.title"
   ]
  },
  {
   "cell_type": "code",
   "execution_count": null,
   "metadata": {
    "ExecuteTime": {
     "end_time": "2021-07-08T11:37:33.369142Z",
     "start_time": "2021-07-08T11:37:33.147364Z"
    }
   },
   "outputs": [],
   "source": [
    "from bs4 import BeautifulSoup\n",
    "import requests\n",
    "kaynak=requests.get('https://www.hurriyet.com.tr/')\n",
    "icerik=BeautifulSoup(kaynak.content,\"lxml\")"
   ]
  },
  {
   "cell_type": "code",
   "execution_count": null,
   "metadata": {
    "ExecuteTime": {
     "end_time": "2021-07-08T11:37:34.780763Z",
     "start_time": "2021-07-08T11:37:34.771900Z"
    }
   },
   "outputs": [],
   "source": [
    "icerik.find(\"p\")"
   ]
  },
  {
   "cell_type": "code",
   "execution_count": null,
   "metadata": {
    "ExecuteTime": {
     "end_time": "2021-07-08T11:39:56.658555Z",
     "start_time": "2021-07-08T11:39:56.645265Z"
    }
   },
   "outputs": [],
   "source": [
    "icerik.find(\"ul\")"
   ]
  },
  {
   "cell_type": "code",
   "execution_count": null,
   "metadata": {
    "ExecuteTime": {
     "end_time": "2021-07-08T11:39:58.088383Z",
     "start_time": "2021-07-08T11:39:58.074132Z"
    }
   },
   "outputs": [],
   "source": [
    "icerik.find(\"a\")"
   ]
  },
  {
   "cell_type": "code",
   "execution_count": null,
   "metadata": {
    "ExecuteTime": {
     "end_time": "2021-07-08T11:40:15.373077Z",
     "start_time": "2021-07-08T11:40:15.353191Z"
    }
   },
   "outputs": [],
   "source": [
    "icerik.find(\"ul\").text"
   ]
  },
  {
   "cell_type": "code",
   "execution_count": null,
   "metadata": {
    "ExecuteTime": {
     "end_time": "2021-07-08T11:51:40.831310Z",
     "start_time": "2021-07-08T11:51:40.808318Z"
    }
   },
   "outputs": [],
   "source": [
    "icerik.find(\"ul\",attrs={\"class\":\"main-menu-list cf\"}).text"
   ]
  },
  {
   "cell_type": "code",
   "execution_count": null,
   "metadata": {
    "ExecuteTime": {
     "end_time": "2021-07-08T11:51:42.443806Z",
     "start_time": "2021-07-08T11:51:42.429325Z"
    }
   },
   "outputs": [],
   "source": [
    "solmenu=icerik.find_all(\"ul\",attrs={\"class\":\"main-menu-list cf\"})"
   ]
  },
  {
   "cell_type": "code",
   "execution_count": null,
   "metadata": {
    "ExecuteTime": {
     "end_time": "2021-07-08T11:51:43.065541Z",
     "start_time": "2021-07-08T11:51:43.044565Z"
    }
   },
   "outputs": [],
   "source": [
    "for x in solmenu:\n",
    "    print(x.get(\"href\"))"
   ]
  },
  {
   "cell_type": "code",
   "execution_count": null,
   "metadata": {
    "ExecuteTime": {
     "end_time": "2021-07-08T11:51:45.007151Z",
     "start_time": "2021-07-08T11:51:44.970999Z"
    }
   },
   "outputs": [],
   "source": [
    "icerik.find_all(\"ul\")"
   ]
  },
  {
   "cell_type": "code",
   "execution_count": null,
   "metadata": {
    "ExecuteTime": {
     "end_time": "2021-07-08T12:09:02.115836Z",
     "start_time": "2021-07-08T12:09:02.104178Z"
    }
   },
   "outputs": [],
   "source": [
    "1+2"
   ]
  },
  {
   "cell_type": "code",
   "execution_count": null,
   "metadata": {
    "ExecuteTime": {
     "end_time": "2021-07-08T12:09:03.238002Z",
     "start_time": "2021-07-08T12:09:03.214381Z"
    }
   },
   "outputs": [],
   "source": [
    "icerik.find_all(\"ul\",limit=5)"
   ]
  },
  {
   "cell_type": "code",
   "execution_count": null,
   "metadata": {
    "ExecuteTime": {
     "end_time": "2021-07-08T12:09:04.109745Z",
     "start_time": "2021-07-08T12:09:04.092448Z"
    }
   },
   "outputs": [],
   "source": [
    "icerik.find_all(string=[\"Kelebek\",\"Yazarlar\"])"
   ]
  },
  {
   "cell_type": "code",
   "execution_count": null,
   "metadata": {
    "ExecuteTime": {
     "end_time": "2021-07-08T12:09:05.044901Z",
     "start_time": "2021-07-08T12:09:05.028445Z"
    }
   },
   "outputs": [],
   "source": [
    "icerik.find_all(\"li\",string=\"Spor\")"
   ]
  },
  {
   "cell_type": "code",
   "execution_count": null,
   "metadata": {
    "ExecuteTime": {
     "end_time": "2021-07-08T12:09:05.856088Z",
     "start_time": "2021-07-08T12:09:05.839833Z"
    }
   },
   "outputs": [],
   "source": [
    "icerik.find(\"ul\",attrs={\"class\":\"main-menu-list cf\"}).li.text"
   ]
  },
  {
   "cell_type": "code",
   "execution_count": null,
   "metadata": {
    "ExecuteTime": {
     "end_time": "2021-07-08T12:09:08.027594Z",
     "start_time": "2021-07-08T12:09:08.018756Z"
    }
   },
   "outputs": [],
   "source": [
    "icerik.find(\"ul\",attrs={\"class\":\"main-menu-list cf\"}).li.next_sibling.text"
   ]
  },
  {
   "cell_type": "code",
   "execution_count": null,
   "metadata": {
    "ExecuteTime": {
     "end_time": "2021-07-08T12:09:09.708825Z",
     "start_time": "2021-07-08T12:09:09.700779Z"
    }
   },
   "outputs": [],
   "source": [
    "link=icerik.find(\"ul\",attrs={\"class\":\"main-menu-list cf\"}).select(\"li:nth-of-type(3)\")"
   ]
  },
  {
   "cell_type": "code",
   "execution_count": null,
   "metadata": {
    "ExecuteTime": {
     "end_time": "2021-07-08T12:09:10.660156Z",
     "start_time": "2021-07-08T12:09:10.639986Z"
    }
   },
   "outputs": [],
   "source": [
    "for i in link:\n",
    "    print(i.text)"
   ]
  },
  {
   "cell_type": "code",
   "execution_count": null,
   "metadata": {
    "ExecuteTime": {
     "end_time": "2021-07-08T12:09:11.373853Z",
     "start_time": "2021-07-08T12:09:11.327719Z"
    }
   },
   "outputs": [],
   "source": [
    "icerik.select(\"html>body>main>div>div>div>div>div>div>a:nth-of-type(2)>span\")"
   ]
  },
  {
   "cell_type": "code",
   "execution_count": null,
   "metadata": {
    "ExecuteTime": {
     "end_time": "2021-07-08T12:09:11.731570Z",
     "start_time": "2021-07-08T12:09:11.685548Z"
    }
   },
   "outputs": [],
   "source": [
    "icerik.select(\"span.news-title\")"
   ]
  },
  {
   "cell_type": "code",
   "execution_count": null,
   "metadata": {
    "ExecuteTime": {
     "end_time": "2021-07-08T12:09:12.242521Z",
     "start_time": "2021-07-08T12:09:12.207180Z"
    }
   },
   "outputs": [],
   "source": [
    "icerik.select('a[href=\"/ekonomi/\"]')"
   ]
  },
  {
   "cell_type": "code",
   "execution_count": null,
   "metadata": {
    "ExecuteTime": {
     "end_time": "2021-07-08T12:09:12.676515Z",
     "start_time": "2021-07-08T12:09:12.644200Z"
    }
   },
   "outputs": [],
   "source": [
    "link=icerik.select('a[href^=\"/ekonomi/\"]')"
   ]
  },
  {
   "cell_type": "code",
   "execution_count": null,
   "metadata": {
    "ExecuteTime": {
     "end_time": "2021-07-08T12:09:13.265488Z",
     "start_time": "2021-07-08T12:09:13.252566Z"
    }
   },
   "outputs": [],
   "source": [
    "for l in link:\n",
    "    print(l.text)\n",
    "    print(l.get(\"href\"))"
   ]
  },
  {
   "cell_type": "code",
   "execution_count": null,
   "metadata": {
    "ExecuteTime": {
     "end_time": "2021-07-08T12:09:13.837947Z",
     "start_time": "2021-07-08T12:09:13.825804Z"
    }
   },
   "outputs": [],
   "source": [
    "icerik.find(\"ul\",attrs={\"class\":\"main-menu-list cf\"}).next"
   ]
  },
  {
   "cell_type": "code",
   "execution_count": null,
   "metadata": {
    "ExecuteTime": {
     "end_time": "2021-07-08T12:09:14.473382Z",
     "start_time": "2021-07-08T12:09:14.462781Z"
    }
   },
   "outputs": [],
   "source": [
    "icerik.find(\"ul\",attrs={\"class\":\"main-menu-list cf\"}).next[\"class\"]=\"DEĞİŞİKLİK\""
   ]
  },
  {
   "cell_type": "code",
   "execution_count": null,
   "metadata": {
    "ExecuteTime": {
     "end_time": "2021-07-08T12:09:15.030333Z",
     "start_time": "2021-07-08T12:09:15.015301Z"
    }
   },
   "outputs": [],
   "source": [
    "icerik.find(\"ul\",attrs={\"class\":\"main-menu-list cf\"}).next"
   ]
  },
  {
   "cell_type": "code",
   "execution_count": null,
   "metadata": {
    "ExecuteTime": {
     "end_time": "2021-07-08T12:09:15.590649Z",
     "start_time": "2021-07-08T12:09:15.579863Z"
    }
   },
   "outputs": [],
   "source": [
    "icerik.find(\"ul\",attrs={\"class\":\"main-menu-list cf\"}).next[\"id\"]=\"2006\""
   ]
  },
  {
   "cell_type": "code",
   "execution_count": null,
   "metadata": {
    "ExecuteTime": {
     "end_time": "2021-07-08T12:09:16.074563Z",
     "start_time": "2021-07-08T12:09:16.055342Z"
    }
   },
   "outputs": [],
   "source": [
    "icerik.find(\"ul\",attrs={\"class\":\"main-menu-list cf\"}).next"
   ]
  },
  {
   "cell_type": "code",
   "execution_count": null,
   "metadata": {
    "ExecuteTime": {
     "end_time": "2021-07-08T12:09:16.585566Z",
     "start_time": "2021-07-08T12:09:16.571298Z"
    }
   },
   "outputs": [],
   "source": [
    "icerik.find(\"span\",attrs={\"class\":\"news-title\"})"
   ]
  },
  {
   "cell_type": "code",
   "execution_count": null,
   "metadata": {
    "ExecuteTime": {
     "end_time": "2021-07-08T12:09:17.083358Z",
     "start_time": "2021-07-08T12:09:17.061810Z"
    }
   },
   "outputs": [],
   "source": [
    "icerik.find(\"span\",attrs={\"class\":\"news-title\"}).string=\"Bakan Kurum'dan bugün açıklama geldi.\""
   ]
  },
  {
   "cell_type": "code",
   "execution_count": null,
   "metadata": {
    "ExecuteTime": {
     "end_time": "2021-07-08T12:09:17.453970Z",
     "start_time": "2021-07-08T12:09:17.442843Z"
    }
   },
   "outputs": [],
   "source": [
    "icerik.find(\"span\",attrs={\"class\":\"news-title\"})"
   ]
  },
  {
   "cell_type": "code",
   "execution_count": null,
   "metadata": {
    "ExecuteTime": {
     "end_time": "2021-07-08T12:09:17.857568Z",
     "start_time": "2021-07-08T12:09:17.846718Z"
    }
   },
   "outputs": [],
   "source": [
    "icerik.find(\"span\",attrs={\"class\":\"news-title\"}).append(\":Müsilaj açıklaması\")"
   ]
  },
  {
   "cell_type": "code",
   "execution_count": null,
   "metadata": {
    "ExecuteTime": {
     "end_time": "2021-07-08T12:09:18.183670Z",
     "start_time": "2021-07-08T12:09:18.167818Z"
    }
   },
   "outputs": [],
   "source": [
    "icerik.find(\"span\",attrs={\"class\":\"news-title\"})"
   ]
  },
  {
   "cell_type": "code",
   "execution_count": null,
   "metadata": {
    "ExecuteTime": {
     "end_time": "2021-07-08T12:09:18.510518Z",
     "start_time": "2021-07-08T12:09:18.489160Z"
    }
   },
   "outputs": [],
   "source": [
    "print(icerik.find(\"span\",attrs={\"class\":\"news-title\"}))"
   ]
  },
  {
   "cell_type": "code",
   "execution_count": null,
   "metadata": {
    "ExecuteTime": {
     "end_time": "2021-07-08T12:09:18.776087Z",
     "start_time": "2021-07-08T12:09:18.765903Z"
    }
   },
   "outputs": [],
   "source": [
    "print(icerik.find(\"span\",attrs={\"class\":\"news-title\"}).prettify())"
   ]
  },
  {
   "cell_type": "code",
   "execution_count": null,
   "metadata": {
    "ExecuteTime": {
     "end_time": "2021-07-08T12:09:19.616417Z",
     "start_time": "2021-07-08T12:09:19.081797Z"
    }
   },
   "outputs": [],
   "source": [
    "import requests\n",
    "from bs4 import BeautifulSoup\n",
    "url = \"https://www.hurriyet.com.tr/\"\n",
    "req = requests.get(url)\n",
    "context = req.content\n",
    "soup = BeautifulSoup(context, \"html.parser\")\n",
    "print(soup.prettify())\n",
    "print(soup.find_all(\"a\"))\n",
    "\n",
    "for i in soup.find_all(\"a\"):\n",
    "    print (i)\n",
    "    print(\"---\")\n",
    "\n",
    "for i in soup.find_all(\"a\"):\n",
    "    # print(i.get(\"href\"))\n",
    "    print(i.text)\n",
    "    print(\"***\")\n",
    "\n",
    "for i in soup.find_all(\"p\",{\"class\": \"haberler-title\"}):\n",
    "    print(i.text)\n",
    "\n",
    "print(\"***\")\n"
   ]
  },
  {
   "cell_type": "code",
   "execution_count": null,
   "metadata": {
    "ExecuteTime": {
     "end_time": "2021-07-08T12:09:20.001957Z",
     "start_time": "2021-07-08T12:09:19.896959Z"
    }
   },
   "outputs": [],
   "source": [
    "requests.get(\"https://www.milliyet.com.tr\", timeout=0.099)"
   ]
  },
  {
   "cell_type": "code",
   "execution_count": null,
   "metadata": {
    "ExecuteTime": {
     "end_time": "2021-07-08T12:09:23.381270Z",
     "start_time": "2021-07-08T12:09:20.253244Z"
    }
   },
   "outputs": [],
   "source": [
    "import requests\n",
    "from bs4 import BeautifulSoup as bs\n",
    "import pandas as pd\n",
    "import numpy as np\n",
    "import datetime\n",
    "from progressbar import*\n",
    "from IPython.display import clear_output"
   ]
  },
  {
   "cell_type": "code",
   "execution_count": null,
   "metadata": {
    "ExecuteTime": {
     "end_time": "2021-07-08T12:09:23.387223Z",
     "start_time": "2021-07-08T12:09:20.295Z"
    }
   },
   "outputs": [],
   "source": [
    "sections=[\"https://www.dunyahalleri.com/category/haftanin-ozeti/page/\",\n",
    "          \"https://www.dunyahalleri.com/category/genel-gundem/page/\",\n",
    "          \"https://www.dunyahalleri.com/category/teknoloji-bilim/page/\",\n",
    "          \"https://www.dunyahalleri.com/category/internet-girisimler/page/\",\n",
    "          \"https://www.dunyahalleri.com/category/tasarim-inovasyon/page/\",\n",
    "          \"https://www.dunyahalleri.com/category/kultur-sanat/page/\"]"
   ]
  },
  {
   "cell_type": "code",
   "execution_count": null,
   "metadata": {
    "ExecuteTime": {
     "end_time": "2021-07-08T12:09:23.389353Z",
     "start_time": "2021-07-08T12:09:20.701Z"
    }
   },
   "outputs": [],
   "source": [
    "urls=[]\n",
    "\n",
    "for section in sections:\n",
    "    for i in range(1,100):\n",
    "        try:\n",
    "            newurl= section + str(i)\n",
    "            print(newurl)\n",
    "            \n",
    "            html=requests.get(newurl).text\n",
    "            soup=bs(html,\"lxml\")\n",
    "            \n",
    "            tags=soup.findAll(\"div\", class_=\"row row-eq-height herald-posts\")[0]\n",
    "            \n",
    "            for a in tags.find_all(\"a\",href=True):\n",
    "                urls.append((section.split(\"/\")[4],a['href']))\n",
    "                \n",
    "        except IndexError:\n",
    "            break"
   ]
  },
  {
   "cell_type": "code",
   "execution_count": null,
   "metadata": {
    "ExecuteTime": {
     "end_time": "2021-07-08T12:09:23.402115Z",
     "start_time": "2021-07-08T12:09:20.893Z"
    }
   },
   "outputs": [],
   "source": [
    "urldata=pd.DataFrame(urls)"
   ]
  },
  {
   "cell_type": "code",
   "execution_count": null,
   "metadata": {
    "ExecuteTime": {
     "end_time": "2021-07-08T12:09:23.405619Z",
     "start_time": "2021-07-08T12:09:21.542Z"
    }
   },
   "outputs": [],
   "source": [
    "urldata.columns=[\"Kategori\",\"Link\"]"
   ]
  },
  {
   "cell_type": "code",
   "execution_count": null,
   "metadata": {
    "ExecuteTime": {
     "end_time": "2021-07-08T12:09:23.409607Z",
     "start_time": "2021-07-08T12:09:22.228Z"
    }
   },
   "outputs": [],
   "source": [
    "urldata.head()"
   ]
  },
  {
   "cell_type": "code",
   "execution_count": null,
   "metadata": {
    "ExecuteTime": {
     "end_time": "2021-07-08T12:09:23.413598Z",
     "start_time": "2021-07-08T12:09:22.828Z"
    }
   },
   "outputs": [],
   "source": [
    "urldata"
   ]
  },
  {
   "cell_type": "code",
   "execution_count": null,
   "metadata": {
    "ExecuteTime": {
     "end_time": "2021-07-08T12:09:23.550722Z",
     "start_time": "2021-07-08T12:09:23.520739Z"
    }
   },
   "outputs": [],
   "source": [
    "urldata=urldata.drop_duplicates()"
   ]
  },
  {
   "cell_type": "code",
   "execution_count": null,
   "metadata": {
    "ExecuteTime": {
     "end_time": "2021-07-08T12:09:24.326912Z",
     "start_time": "2021-07-08T12:09:24.313519Z"
    }
   },
   "outputs": [],
   "source": [
    "urldata"
   ]
  },
  {
   "cell_type": "code",
   "execution_count": null,
   "metadata": {
    "ExecuteTime": {
     "end_time": "2021-07-08T12:09:25.600443Z",
     "start_time": "2021-07-08T12:09:25.587436Z"
    }
   },
   "outputs": [],
   "source": [
    "urldata.to_csv('sampleliste.csv')"
   ]
  },
  {
   "cell_type": "code",
   "execution_count": null,
   "metadata": {
    "ExecuteTime": {
     "end_time": "2021-07-08T12:09:26.254424Z",
     "start_time": "2021-07-08T12:09:26.247040Z"
    }
   },
   "outputs": [],
   "source": [
    "import requests"
   ]
  },
  {
   "cell_type": "code",
   "execution_count": null,
   "metadata": {
    "ExecuteTime": {
     "end_time": "2021-07-08T12:09:26.879835Z",
     "start_time": "2021-07-08T12:09:26.870641Z"
    }
   },
   "outputs": [],
   "source": [
    "url=\"http://data.fixer.io/api/latest?access_key=d7ffc34cf6799f2d8beb7b9c052ea08c&format=1\""
   ]
  },
  {
   "cell_type": "code",
   "execution_count": null,
   "metadata": {},
   "outputs": [],
   "source": [
    "res=requests.get(url)"
   ]
  },
  {
   "cell_type": "code",
   "execution_count": null,
   "metadata": {},
   "outputs": [],
   "source": [
    "veri=res.json()"
   ]
  },
  {
   "cell_type": "code",
   "execution_count": null,
   "metadata": {},
   "outputs": [],
   "source": [
    "veri"
   ]
  },
  {
   "cell_type": "code",
   "execution_count": null,
   "metadata": {},
   "outputs": [],
   "source": [
    "try:\n",
    "    print(\"Türk Lirası:\", float(veri[\"rates\"][\"TRY\"]))\n",
    "    print(\"Amerikan Doları:\", float(veri[\"rates\"][\"USD\"]))\n",
    "    print(\"İsviçre Frangı:\", float (veri[\"rates\"][\"CHF\"]))\n",
    "    print(\"Gram Altını:\", float (veri[\"rates\"][\"XAU\"]))\n",
    "    \n",
    "except KeyError:\n",
    "    print(\"Yanlış para birimi\")"
   ]
  },
  {
   "cell_type": "code",
   "execution_count": null,
   "metadata": {},
   "outputs": [],
   "source": [
    "import requests\n",
    "from bs4 import BeautifulSoup\n",
    "import random"
   ]
  },
  {
   "cell_type": "code",
   "execution_count": null,
   "metadata": {},
   "outputs": [],
   "source": [
    "text=\"+\".join(input(\"Google'da ne aramak istersin?\"))\n",
    "\n",
    "url='https://www.google.com.tr/search?q' + text\n",
    "\n",
    "A= (\"Mozilla/5.0 (Windows NT 6.1) AppleWebKit/537.36 (KHTML, like Gecko) Chrome/41.0.2228.0 Safari/537.36\",\n",
    "       \"Mozilla/5.0 (Macintosh; Intel Mac OS X 10_10_1) AppleWebKit/537.36 (KHTML, like Gecko) Chrome/41.0.2227.1 Safari/537.36\",\n",
    "       \"Mozilla/5.0 (Windows NT 6.1; WOW64) AppleWebKit/537.36 (KHTML, like Gecko) Chrome/41.0.2227.0 Safari/537.36\",\n",
    "       )\n",
    "Agent=A[random.randrange(len(A))]\n",
    "\n",
    "headers={'user-agent':Agent}\n",
    "\n",
    "r=requests.get(url,headers=headers)\n",
    "\n",
    "soup=BeautifulSoup(r.text,\"lxml\")\n",
    "\n",
    "for info in soup.find_all('h3'):\n",
    "    print(info.text)\n",
    "    print('##########')\n"
   ]
  },
  {
   "cell_type": "code",
   "execution_count": null,
   "metadata": {},
   "outputs": [],
   "source": [
    "import requests\n",
    "from bs4 import BeautifulSoup\n",
    "import random\n",
    "\n",
    "text = \"+\".join(input(\"Google'da ne aramak istiyorsun: \"))\n",
    "\n",
    "url = 'https://google.com/search?q=' + text\n",
    "A = (\"Mozilla/5.0 (Windows NT 6.1) AppleWebKit/537.36 (KHTML, like Gecko) Chrome/41.0.2228.0 Safari/537.36\",\n",
    "       \"Mozilla/5.0 (Macintosh; Intel Mac OS X 10_10_1) AppleWebKit/537.36 (KHTML, like Gecko) Chrome/41.0.2227.1 Safari/537.36\",\n",
    "       \"Mozilla/5.0 (Windows NT 6.1; WOW64) AppleWebKit/537.36 (KHTML, like Gecko) Chrome/41.0.2227.0 Safari/537.36\",\n",
    "       )\n",
    "\n",
    "Agent = A[random.randrange(len(A))]\n",
    "\n",
    "headers = {'user-agent': Agent}\n",
    "r = requests.get(url, headers=headers)\n",
    "\n",
    "soup = BeautifulSoup(r.text, 'lxml')\n",
    "for info in soup.find_all('h3'):\n",
    "    print(info.text)\n",
    "    print('#######')"
   ]
  },
  {
   "cell_type": "code",
   "execution_count": null,
   "metadata": {},
   "outputs": [],
   "source": [
    "import requests\n",
    "from bs4 import BeautifulSoup as bs"
   ]
  },
  {
   "cell_type": "code",
   "execution_count": null,
   "metadata": {},
   "outputs": [],
   "source": [
    "site='https://www.sikayetvar.com/'"
   ]
  },
  {
   "cell_type": "code",
   "execution_count": null,
   "metadata": {},
   "outputs": [],
   "source": [
    "while True:\n",
    "    baslik=input('Hangi firma şikayetini görmek istersiniz?')\n",
    "    if baslik=='q':\n",
    "        break\n",
    "    headers={ \"User-Agent\": \"Mozilla/5.0 (Windows NT 10.0; Win64; x64) AppleWebKit/537.36 (KHTML, like Gecko) Chrome/80.0.3987.163 Safari/537.36\"}\n",
    "    r=requests.get(site+baslik, headers=headers)\n",
    "    \n",
    "    if r.status_code!=200:\n",
    "        print(\"Bağlantı sağlanamadı\")\n",
    "    else:\n",
    "        soup=bs(r.content,'html.parser')\n",
    "        entryler=soup.find('article',{\"class\":\"story-card complaint-card\"}).find_all(\"div\")\n",
    "        print(entryler)"
   ]
  },
  {
   "cell_type": "code",
   "execution_count": null,
   "metadata": {},
   "outputs": [],
   "source": [
    "1+2"
   ]
  },
  {
   "cell_type": "code",
   "execution_count": null,
   "metadata": {},
   "outputs": [],
   "source": [
    "import urllib"
   ]
  },
  {
   "cell_type": "code",
   "execution_count": null,
   "metadata": {},
   "outputs": [],
   "source": [
    "sayfa =urllib.request.urlopen(\"http://www.atincyilmaz.com.tr\")"
   ]
  },
  {
   "cell_type": "code",
   "execution_count": null,
   "metadata": {},
   "outputs": [],
   "source": [
    "import urllib\n",
    "import bs4\n",
    "import re\n",
    "from bs4 import BeautifulSoup\n",
    "\n",
    "import urllib.request\n",
    "\n",
    "sayfa=urllib.request.urlopen(\"http://www.atincyilmaz.com.tr\")\n",
    "html = sayfa.read()\n",
    "sayfa.close()\n",
    "    \n",
    "gc=BeautifulSoup(html)\n",
    "\n",
    "for link in gc.findAll ('a', attrs={'href': re.compile(\"http://\") }) :\n",
    "    print (link)\n"
   ]
  },
  {
   "cell_type": "code",
   "execution_count": null,
   "metadata": {},
   "outputs": [],
   "source": []
  }
 ],
 "metadata": {
  "kernelspec": {
   "display_name": "Python 3",
   "language": "python",
   "name": "python3"
  },
  "language_info": {
   "codemirror_mode": {
    "name": "ipython",
    "version": 3
   },
   "file_extension": ".py",
   "mimetype": "text/x-python",
   "name": "python",
   "nbconvert_exporter": "python",
   "pygments_lexer": "ipython3",
   "version": "3.8.10"
  },
  "varInspector": {
   "cols": {
    "lenName": 16,
    "lenType": 16,
    "lenVar": 40
   },
   "kernels_config": {
    "python": {
     "delete_cmd_postfix": "",
     "delete_cmd_prefix": "del ",
     "library": "var_list.py",
     "varRefreshCmd": "print(var_dic_list())"
    },
    "r": {
     "delete_cmd_postfix": ") ",
     "delete_cmd_prefix": "rm(",
     "library": "var_list.r",
     "varRefreshCmd": "cat(var_dic_list()) "
    }
   },
   "types_to_exclude": [
    "module",
    "function",
    "builtin_function_or_method",
    "instance",
    "_Feature"
   ],
   "window_display": false
  }
 },
 "nbformat": 4,
 "nbformat_minor": 4
}
