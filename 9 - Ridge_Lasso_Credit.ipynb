{
 "cells": [
  {
   "cell_type": "code",
   "execution_count": 1,
   "metadata": {
    "ExecuteTime": {
     "end_time": "2021-08-15T12:53:10.266597Z",
     "start_time": "2021-08-15T12:53:08.362268Z"
    }
   },
   "outputs": [],
   "source": [
    "%matplotlib inline\n",
    "\n",
    "import pandas as pd\n",
    "import numpy as np\n",
    "import matplotlib.pyplot as plt\n",
    "\n",
    "from sklearn.preprocessing import scale \n",
    "from sklearn.model_selection import train_test_split\n",
    "from sklearn.linear_model import Ridge, RidgeCV, Lasso, LassoCV\n",
    "from sklearn.metrics import mean_squared_error"
   ]
  },
  {
   "cell_type": "code",
   "execution_count": 2,
   "metadata": {
    "ExecuteTime": {
     "end_time": "2021-08-15T12:53:10.344875Z",
     "start_time": "2021-08-15T12:53:10.316932Z"
    }
   },
   "outputs": [
    {
     "name": "stdout",
     "output_type": "stream",
     "text": [
      "<class 'pandas.core.frame.DataFrame'>\n",
      "RangeIndex: 400 entries, 0 to 399\n",
      "Data columns (total 12 columns):\n",
      " #   Column     Non-Null Count  Dtype  \n",
      "---  ------     --------------  -----  \n",
      " 0   ID         400 non-null    int64  \n",
      " 1   Income     400 non-null    float64\n",
      " 2   Limit      400 non-null    int64  \n",
      " 3   Rating     400 non-null    int64  \n",
      " 4   Cards      400 non-null    int64  \n",
      " 5   Age        400 non-null    int64  \n",
      " 6   Education  400 non-null    int64  \n",
      " 7   Gender     400 non-null    object \n",
      " 8   Student    400 non-null    object \n",
      " 9   Married    400 non-null    object \n",
      " 10  Ethnicity  400 non-null    object \n",
      " 11  Balance    400 non-null    int64  \n",
      "dtypes: float64(1), int64(7), object(4)\n",
      "memory usage: 37.6+ KB\n"
     ]
    }
   ],
   "source": [
    "df = pd.read_csv('Credit_Data.csv')\n",
    "df.info()"
   ]
  },
  {
   "cell_type": "code",
   "execution_count": 3,
   "metadata": {
    "ExecuteTime": {
     "end_time": "2021-08-15T12:53:10.469542Z",
     "start_time": "2021-08-15T12:53:10.440619Z"
    }
   },
   "outputs": [
    {
     "data": {
      "text/html": [
       "<div>\n",
       "<style scoped>\n",
       "    .dataframe tbody tr th:only-of-type {\n",
       "        vertical-align: middle;\n",
       "    }\n",
       "\n",
       "    .dataframe tbody tr th {\n",
       "        vertical-align: top;\n",
       "    }\n",
       "\n",
       "    .dataframe thead th {\n",
       "        text-align: right;\n",
       "    }\n",
       "</style>\n",
       "<table border=\"1\" class=\"dataframe\">\n",
       "  <thead>\n",
       "    <tr style=\"text-align: right;\">\n",
       "      <th></th>\n",
       "      <th>ID</th>\n",
       "      <th>Income</th>\n",
       "      <th>Limit</th>\n",
       "      <th>Rating</th>\n",
       "      <th>Cards</th>\n",
       "      <th>Age</th>\n",
       "      <th>Education</th>\n",
       "      <th>Gender</th>\n",
       "      <th>Student</th>\n",
       "      <th>Married</th>\n",
       "      <th>Ethnicity</th>\n",
       "      <th>Balance</th>\n",
       "    </tr>\n",
       "  </thead>\n",
       "  <tbody>\n",
       "    <tr>\n",
       "      <th>0</th>\n",
       "      <td>1</td>\n",
       "      <td>14.891</td>\n",
       "      <td>3606</td>\n",
       "      <td>283</td>\n",
       "      <td>2</td>\n",
       "      <td>34</td>\n",
       "      <td>11</td>\n",
       "      <td>Male</td>\n",
       "      <td>No</td>\n",
       "      <td>Yes</td>\n",
       "      <td>Caucasian</td>\n",
       "      <td>333</td>\n",
       "    </tr>\n",
       "    <tr>\n",
       "      <th>1</th>\n",
       "      <td>2</td>\n",
       "      <td>106.025</td>\n",
       "      <td>6645</td>\n",
       "      <td>483</td>\n",
       "      <td>3</td>\n",
       "      <td>82</td>\n",
       "      <td>15</td>\n",
       "      <td>Female</td>\n",
       "      <td>Yes</td>\n",
       "      <td>Yes</td>\n",
       "      <td>Asian</td>\n",
       "      <td>903</td>\n",
       "    </tr>\n",
       "    <tr>\n",
       "      <th>2</th>\n",
       "      <td>3</td>\n",
       "      <td>104.593</td>\n",
       "      <td>7075</td>\n",
       "      <td>514</td>\n",
       "      <td>4</td>\n",
       "      <td>71</td>\n",
       "      <td>11</td>\n",
       "      <td>Male</td>\n",
       "      <td>No</td>\n",
       "      <td>No</td>\n",
       "      <td>Asian</td>\n",
       "      <td>580</td>\n",
       "    </tr>\n",
       "    <tr>\n",
       "      <th>3</th>\n",
       "      <td>4</td>\n",
       "      <td>148.924</td>\n",
       "      <td>9504</td>\n",
       "      <td>681</td>\n",
       "      <td>3</td>\n",
       "      <td>36</td>\n",
       "      <td>11</td>\n",
       "      <td>Female</td>\n",
       "      <td>No</td>\n",
       "      <td>No</td>\n",
       "      <td>Asian</td>\n",
       "      <td>964</td>\n",
       "    </tr>\n",
       "    <tr>\n",
       "      <th>4</th>\n",
       "      <td>5</td>\n",
       "      <td>55.882</td>\n",
       "      <td>4897</td>\n",
       "      <td>357</td>\n",
       "      <td>2</td>\n",
       "      <td>68</td>\n",
       "      <td>16</td>\n",
       "      <td>Male</td>\n",
       "      <td>No</td>\n",
       "      <td>Yes</td>\n",
       "      <td>Caucasian</td>\n",
       "      <td>331</td>\n",
       "    </tr>\n",
       "    <tr>\n",
       "      <th>...</th>\n",
       "      <td>...</td>\n",
       "      <td>...</td>\n",
       "      <td>...</td>\n",
       "      <td>...</td>\n",
       "      <td>...</td>\n",
       "      <td>...</td>\n",
       "      <td>...</td>\n",
       "      <td>...</td>\n",
       "      <td>...</td>\n",
       "      <td>...</td>\n",
       "      <td>...</td>\n",
       "      <td>...</td>\n",
       "    </tr>\n",
       "    <tr>\n",
       "      <th>395</th>\n",
       "      <td>396</td>\n",
       "      <td>12.096</td>\n",
       "      <td>4100</td>\n",
       "      <td>307</td>\n",
       "      <td>3</td>\n",
       "      <td>32</td>\n",
       "      <td>13</td>\n",
       "      <td>Male</td>\n",
       "      <td>No</td>\n",
       "      <td>Yes</td>\n",
       "      <td>Caucasian</td>\n",
       "      <td>560</td>\n",
       "    </tr>\n",
       "    <tr>\n",
       "      <th>396</th>\n",
       "      <td>397</td>\n",
       "      <td>13.364</td>\n",
       "      <td>3838</td>\n",
       "      <td>296</td>\n",
       "      <td>5</td>\n",
       "      <td>65</td>\n",
       "      <td>17</td>\n",
       "      <td>Male</td>\n",
       "      <td>No</td>\n",
       "      <td>No</td>\n",
       "      <td>African American</td>\n",
       "      <td>480</td>\n",
       "    </tr>\n",
       "    <tr>\n",
       "      <th>397</th>\n",
       "      <td>398</td>\n",
       "      <td>57.872</td>\n",
       "      <td>4171</td>\n",
       "      <td>321</td>\n",
       "      <td>5</td>\n",
       "      <td>67</td>\n",
       "      <td>12</td>\n",
       "      <td>Female</td>\n",
       "      <td>No</td>\n",
       "      <td>Yes</td>\n",
       "      <td>Caucasian</td>\n",
       "      <td>138</td>\n",
       "    </tr>\n",
       "    <tr>\n",
       "      <th>398</th>\n",
       "      <td>399</td>\n",
       "      <td>37.728</td>\n",
       "      <td>2525</td>\n",
       "      <td>192</td>\n",
       "      <td>1</td>\n",
       "      <td>44</td>\n",
       "      <td>13</td>\n",
       "      <td>Male</td>\n",
       "      <td>No</td>\n",
       "      <td>Yes</td>\n",
       "      <td>Caucasian</td>\n",
       "      <td>0</td>\n",
       "    </tr>\n",
       "    <tr>\n",
       "      <th>399</th>\n",
       "      <td>400</td>\n",
       "      <td>18.701</td>\n",
       "      <td>5524</td>\n",
       "      <td>415</td>\n",
       "      <td>5</td>\n",
       "      <td>64</td>\n",
       "      <td>7</td>\n",
       "      <td>Female</td>\n",
       "      <td>No</td>\n",
       "      <td>No</td>\n",
       "      <td>Asian</td>\n",
       "      <td>966</td>\n",
       "    </tr>\n",
       "  </tbody>\n",
       "</table>\n",
       "<p>400 rows × 12 columns</p>\n",
       "</div>"
      ],
      "text/plain": [
       "      ID   Income  Limit  Rating  Cards  Age  Education  Gender Student  \\\n",
       "0      1   14.891   3606     283      2   34         11    Male      No   \n",
       "1      2  106.025   6645     483      3   82         15  Female     Yes   \n",
       "2      3  104.593   7075     514      4   71         11    Male      No   \n",
       "3      4  148.924   9504     681      3   36         11  Female      No   \n",
       "4      5   55.882   4897     357      2   68         16    Male      No   \n",
       "..   ...      ...    ...     ...    ...  ...        ...     ...     ...   \n",
       "395  396   12.096   4100     307      3   32         13    Male      No   \n",
       "396  397   13.364   3838     296      5   65         17    Male      No   \n",
       "397  398   57.872   4171     321      5   67         12  Female      No   \n",
       "398  399   37.728   2525     192      1   44         13    Male      No   \n",
       "399  400   18.701   5524     415      5   64          7  Female      No   \n",
       "\n",
       "    Married         Ethnicity  Balance  \n",
       "0       Yes         Caucasian      333  \n",
       "1       Yes             Asian      903  \n",
       "2        No             Asian      580  \n",
       "3        No             Asian      964  \n",
       "4       Yes         Caucasian      331  \n",
       "..      ...               ...      ...  \n",
       "395     Yes         Caucasian      560  \n",
       "396      No  African American      480  \n",
       "397     Yes         Caucasian      138  \n",
       "398     Yes         Caucasian        0  \n",
       "399      No             Asian      966  \n",
       "\n",
       "[400 rows x 12 columns]"
      ]
     },
     "execution_count": 3,
     "metadata": {},
     "output_type": "execute_result"
    }
   ],
   "source": [
    "df"
   ]
  },
  {
   "cell_type": "code",
   "execution_count": 4,
   "metadata": {
    "ExecuteTime": {
     "end_time": "2021-08-15T12:53:11.575704Z",
     "start_time": "2021-08-15T12:53:11.559353Z"
    }
   },
   "outputs": [],
   "source": [
    "dummies = pd.get_dummies(df[['Gender', 'Student', 'Married','Ethnicity']])"
   ]
  },
  {
   "cell_type": "code",
   "execution_count": 5,
   "metadata": {
    "ExecuteTime": {
     "end_time": "2021-08-15T12:53:11.982605Z",
     "start_time": "2021-08-15T12:53:11.960125Z"
    }
   },
   "outputs": [
    {
     "data": {
      "text/html": [
       "<div>\n",
       "<style scoped>\n",
       "    .dataframe tbody tr th:only-of-type {\n",
       "        vertical-align: middle;\n",
       "    }\n",
       "\n",
       "    .dataframe tbody tr th {\n",
       "        vertical-align: top;\n",
       "    }\n",
       "\n",
       "    .dataframe thead th {\n",
       "        text-align: right;\n",
       "    }\n",
       "</style>\n",
       "<table border=\"1\" class=\"dataframe\">\n",
       "  <thead>\n",
       "    <tr style=\"text-align: right;\">\n",
       "      <th></th>\n",
       "      <th>Gender_Female</th>\n",
       "      <th>Gender_Male</th>\n",
       "      <th>Student_No</th>\n",
       "      <th>Student_Yes</th>\n",
       "      <th>Married_No</th>\n",
       "      <th>Married_Yes</th>\n",
       "      <th>Ethnicity_African American</th>\n",
       "      <th>Ethnicity_Asian</th>\n",
       "      <th>Ethnicity_Caucasian</th>\n",
       "    </tr>\n",
       "  </thead>\n",
       "  <tbody>\n",
       "    <tr>\n",
       "      <th>0</th>\n",
       "      <td>0</td>\n",
       "      <td>1</td>\n",
       "      <td>1</td>\n",
       "      <td>0</td>\n",
       "      <td>0</td>\n",
       "      <td>1</td>\n",
       "      <td>0</td>\n",
       "      <td>0</td>\n",
       "      <td>1</td>\n",
       "    </tr>\n",
       "    <tr>\n",
       "      <th>1</th>\n",
       "      <td>1</td>\n",
       "      <td>0</td>\n",
       "      <td>0</td>\n",
       "      <td>1</td>\n",
       "      <td>0</td>\n",
       "      <td>1</td>\n",
       "      <td>0</td>\n",
       "      <td>1</td>\n",
       "      <td>0</td>\n",
       "    </tr>\n",
       "    <tr>\n",
       "      <th>2</th>\n",
       "      <td>0</td>\n",
       "      <td>1</td>\n",
       "      <td>1</td>\n",
       "      <td>0</td>\n",
       "      <td>1</td>\n",
       "      <td>0</td>\n",
       "      <td>0</td>\n",
       "      <td>1</td>\n",
       "      <td>0</td>\n",
       "    </tr>\n",
       "    <tr>\n",
       "      <th>3</th>\n",
       "      <td>1</td>\n",
       "      <td>0</td>\n",
       "      <td>1</td>\n",
       "      <td>0</td>\n",
       "      <td>1</td>\n",
       "      <td>0</td>\n",
       "      <td>0</td>\n",
       "      <td>1</td>\n",
       "      <td>0</td>\n",
       "    </tr>\n",
       "    <tr>\n",
       "      <th>4</th>\n",
       "      <td>0</td>\n",
       "      <td>1</td>\n",
       "      <td>1</td>\n",
       "      <td>0</td>\n",
       "      <td>0</td>\n",
       "      <td>1</td>\n",
       "      <td>0</td>\n",
       "      <td>0</td>\n",
       "      <td>1</td>\n",
       "    </tr>\n",
       "    <tr>\n",
       "      <th>...</th>\n",
       "      <td>...</td>\n",
       "      <td>...</td>\n",
       "      <td>...</td>\n",
       "      <td>...</td>\n",
       "      <td>...</td>\n",
       "      <td>...</td>\n",
       "      <td>...</td>\n",
       "      <td>...</td>\n",
       "      <td>...</td>\n",
       "    </tr>\n",
       "    <tr>\n",
       "      <th>395</th>\n",
       "      <td>0</td>\n",
       "      <td>1</td>\n",
       "      <td>1</td>\n",
       "      <td>0</td>\n",
       "      <td>0</td>\n",
       "      <td>1</td>\n",
       "      <td>0</td>\n",
       "      <td>0</td>\n",
       "      <td>1</td>\n",
       "    </tr>\n",
       "    <tr>\n",
       "      <th>396</th>\n",
       "      <td>0</td>\n",
       "      <td>1</td>\n",
       "      <td>1</td>\n",
       "      <td>0</td>\n",
       "      <td>1</td>\n",
       "      <td>0</td>\n",
       "      <td>1</td>\n",
       "      <td>0</td>\n",
       "      <td>0</td>\n",
       "    </tr>\n",
       "    <tr>\n",
       "      <th>397</th>\n",
       "      <td>1</td>\n",
       "      <td>0</td>\n",
       "      <td>1</td>\n",
       "      <td>0</td>\n",
       "      <td>0</td>\n",
       "      <td>1</td>\n",
       "      <td>0</td>\n",
       "      <td>0</td>\n",
       "      <td>1</td>\n",
       "    </tr>\n",
       "    <tr>\n",
       "      <th>398</th>\n",
       "      <td>0</td>\n",
       "      <td>1</td>\n",
       "      <td>1</td>\n",
       "      <td>0</td>\n",
       "      <td>0</td>\n",
       "      <td>1</td>\n",
       "      <td>0</td>\n",
       "      <td>0</td>\n",
       "      <td>1</td>\n",
       "    </tr>\n",
       "    <tr>\n",
       "      <th>399</th>\n",
       "      <td>1</td>\n",
       "      <td>0</td>\n",
       "      <td>1</td>\n",
       "      <td>0</td>\n",
       "      <td>1</td>\n",
       "      <td>0</td>\n",
       "      <td>0</td>\n",
       "      <td>1</td>\n",
       "      <td>0</td>\n",
       "    </tr>\n",
       "  </tbody>\n",
       "</table>\n",
       "<p>400 rows × 9 columns</p>\n",
       "</div>"
      ],
      "text/plain": [
       "     Gender_Female  Gender_Male  Student_No  Student_Yes  Married_No  \\\n",
       "0                0            1           1            0           0   \n",
       "1                1            0           0            1           0   \n",
       "2                0            1           1            0           1   \n",
       "3                1            0           1            0           1   \n",
       "4                0            1           1            0           0   \n",
       "..             ...          ...         ...          ...         ...   \n",
       "395              0            1           1            0           0   \n",
       "396              0            1           1            0           1   \n",
       "397              1            0           1            0           0   \n",
       "398              0            1           1            0           0   \n",
       "399              1            0           1            0           1   \n",
       "\n",
       "     Married_Yes  Ethnicity_African American  Ethnicity_Asian  \\\n",
       "0              1                           0                0   \n",
       "1              1                           0                1   \n",
       "2              0                           0                1   \n",
       "3              0                           0                1   \n",
       "4              1                           0                0   \n",
       "..           ...                         ...              ...   \n",
       "395            1                           0                0   \n",
       "396            0                           1                0   \n",
       "397            1                           0                0   \n",
       "398            1                           0                0   \n",
       "399            0                           0                1   \n",
       "\n",
       "     Ethnicity_Caucasian  \n",
       "0                      1  \n",
       "1                      0  \n",
       "2                      0  \n",
       "3                      0  \n",
       "4                      1  \n",
       "..                   ...  \n",
       "395                    1  \n",
       "396                    0  \n",
       "397                    1  \n",
       "398                    1  \n",
       "399                    0  \n",
       "\n",
       "[400 rows x 9 columns]"
      ]
     },
     "execution_count": 5,
     "metadata": {},
     "output_type": "execute_result"
    }
   ],
   "source": [
    "dummies"
   ]
  },
  {
   "cell_type": "code",
   "execution_count": 6,
   "metadata": {
    "ExecuteTime": {
     "end_time": "2021-08-15T12:53:12.217402Z",
     "start_time": "2021-08-15T12:53:12.187484Z"
    }
   },
   "outputs": [
    {
     "name": "stdout",
     "output_type": "stream",
     "text": [
      "<class 'pandas.core.frame.DataFrame'>\n",
      "RangeIndex: 400 entries, 0 to 399\n",
      "Data columns (total 11 columns):\n",
      " #   Column                      Non-Null Count  Dtype  \n",
      "---  ------                      --------------  -----  \n",
      " 0   Income                      400 non-null    float64\n",
      " 1   Limit                       400 non-null    float64\n",
      " 2   Rating                      400 non-null    float64\n",
      " 3   Cards                       400 non-null    float64\n",
      " 4   Age                         400 non-null    float64\n",
      " 5   Education                   400 non-null    float64\n",
      " 6   Gender_Male                 400 non-null    uint8  \n",
      " 7   Student_Yes                 400 non-null    uint8  \n",
      " 8   Married_Yes                 400 non-null    uint8  \n",
      " 9   Ethnicity_African American  400 non-null    uint8  \n",
      " 10  Ethnicity_Asian             400 non-null    uint8  \n",
      "dtypes: float64(6), uint8(5)\n",
      "memory usage: 20.8 KB\n"
     ]
    }
   ],
   "source": [
    "y = df.Balance\n",
    "\n",
    "# Drop the column with the independent variable (Balance), and columns for which we created dummy variables\n",
    "X_ = df.drop(['ID','Gender', 'Student', 'Married','Ethnicity','Balance'], axis = 1).astype('float64')\n",
    "\n",
    "# Define the feature set X.\n",
    "X = pd.concat([X_, dummies[['Gender_Male', 'Student_Yes', 'Married_Yes','Ethnicity_African American','Ethnicity_Asian']]], axis = 1)\n",
    "\n",
    "X.info()"
   ]
  },
  {
   "cell_type": "code",
   "execution_count": 7,
   "metadata": {
    "ExecuteTime": {
     "end_time": "2021-08-15T12:53:12.417791Z",
     "start_time": "2021-08-15T12:53:12.384464Z"
    }
   },
   "outputs": [
    {
     "data": {
      "text/html": [
       "<div>\n",
       "<style scoped>\n",
       "    .dataframe tbody tr th:only-of-type {\n",
       "        vertical-align: middle;\n",
       "    }\n",
       "\n",
       "    .dataframe tbody tr th {\n",
       "        vertical-align: top;\n",
       "    }\n",
       "\n",
       "    .dataframe thead th {\n",
       "        text-align: right;\n",
       "    }\n",
       "</style>\n",
       "<table border=\"1\" class=\"dataframe\">\n",
       "  <thead>\n",
       "    <tr style=\"text-align: right;\">\n",
       "      <th></th>\n",
       "      <th>Income</th>\n",
       "      <th>Limit</th>\n",
       "      <th>Rating</th>\n",
       "      <th>Cards</th>\n",
       "      <th>Age</th>\n",
       "      <th>Education</th>\n",
       "      <th>Gender_Male</th>\n",
       "      <th>Student_Yes</th>\n",
       "      <th>Married_Yes</th>\n",
       "      <th>Ethnicity_African American</th>\n",
       "      <th>Ethnicity_Asian</th>\n",
       "    </tr>\n",
       "  </thead>\n",
       "  <tbody>\n",
       "    <tr>\n",
       "      <th>0</th>\n",
       "      <td>14.891</td>\n",
       "      <td>3606.0</td>\n",
       "      <td>283.0</td>\n",
       "      <td>2.0</td>\n",
       "      <td>34.0</td>\n",
       "      <td>11.0</td>\n",
       "      <td>1</td>\n",
       "      <td>0</td>\n",
       "      <td>1</td>\n",
       "      <td>0</td>\n",
       "      <td>0</td>\n",
       "    </tr>\n",
       "    <tr>\n",
       "      <th>1</th>\n",
       "      <td>106.025</td>\n",
       "      <td>6645.0</td>\n",
       "      <td>483.0</td>\n",
       "      <td>3.0</td>\n",
       "      <td>82.0</td>\n",
       "      <td>15.0</td>\n",
       "      <td>0</td>\n",
       "      <td>1</td>\n",
       "      <td>1</td>\n",
       "      <td>0</td>\n",
       "      <td>1</td>\n",
       "    </tr>\n",
       "    <tr>\n",
       "      <th>2</th>\n",
       "      <td>104.593</td>\n",
       "      <td>7075.0</td>\n",
       "      <td>514.0</td>\n",
       "      <td>4.0</td>\n",
       "      <td>71.0</td>\n",
       "      <td>11.0</td>\n",
       "      <td>1</td>\n",
       "      <td>0</td>\n",
       "      <td>0</td>\n",
       "      <td>0</td>\n",
       "      <td>1</td>\n",
       "    </tr>\n",
       "    <tr>\n",
       "      <th>3</th>\n",
       "      <td>148.924</td>\n",
       "      <td>9504.0</td>\n",
       "      <td>681.0</td>\n",
       "      <td>3.0</td>\n",
       "      <td>36.0</td>\n",
       "      <td>11.0</td>\n",
       "      <td>0</td>\n",
       "      <td>0</td>\n",
       "      <td>0</td>\n",
       "      <td>0</td>\n",
       "      <td>1</td>\n",
       "    </tr>\n",
       "    <tr>\n",
       "      <th>4</th>\n",
       "      <td>55.882</td>\n",
       "      <td>4897.0</td>\n",
       "      <td>357.0</td>\n",
       "      <td>2.0</td>\n",
       "      <td>68.0</td>\n",
       "      <td>16.0</td>\n",
       "      <td>1</td>\n",
       "      <td>0</td>\n",
       "      <td>1</td>\n",
       "      <td>0</td>\n",
       "      <td>0</td>\n",
       "    </tr>\n",
       "    <tr>\n",
       "      <th>...</th>\n",
       "      <td>...</td>\n",
       "      <td>...</td>\n",
       "      <td>...</td>\n",
       "      <td>...</td>\n",
       "      <td>...</td>\n",
       "      <td>...</td>\n",
       "      <td>...</td>\n",
       "      <td>...</td>\n",
       "      <td>...</td>\n",
       "      <td>...</td>\n",
       "      <td>...</td>\n",
       "    </tr>\n",
       "    <tr>\n",
       "      <th>395</th>\n",
       "      <td>12.096</td>\n",
       "      <td>4100.0</td>\n",
       "      <td>307.0</td>\n",
       "      <td>3.0</td>\n",
       "      <td>32.0</td>\n",
       "      <td>13.0</td>\n",
       "      <td>1</td>\n",
       "      <td>0</td>\n",
       "      <td>1</td>\n",
       "      <td>0</td>\n",
       "      <td>0</td>\n",
       "    </tr>\n",
       "    <tr>\n",
       "      <th>396</th>\n",
       "      <td>13.364</td>\n",
       "      <td>3838.0</td>\n",
       "      <td>296.0</td>\n",
       "      <td>5.0</td>\n",
       "      <td>65.0</td>\n",
       "      <td>17.0</td>\n",
       "      <td>1</td>\n",
       "      <td>0</td>\n",
       "      <td>0</td>\n",
       "      <td>1</td>\n",
       "      <td>0</td>\n",
       "    </tr>\n",
       "    <tr>\n",
       "      <th>397</th>\n",
       "      <td>57.872</td>\n",
       "      <td>4171.0</td>\n",
       "      <td>321.0</td>\n",
       "      <td>5.0</td>\n",
       "      <td>67.0</td>\n",
       "      <td>12.0</td>\n",
       "      <td>0</td>\n",
       "      <td>0</td>\n",
       "      <td>1</td>\n",
       "      <td>0</td>\n",
       "      <td>0</td>\n",
       "    </tr>\n",
       "    <tr>\n",
       "      <th>398</th>\n",
       "      <td>37.728</td>\n",
       "      <td>2525.0</td>\n",
       "      <td>192.0</td>\n",
       "      <td>1.0</td>\n",
       "      <td>44.0</td>\n",
       "      <td>13.0</td>\n",
       "      <td>1</td>\n",
       "      <td>0</td>\n",
       "      <td>1</td>\n",
       "      <td>0</td>\n",
       "      <td>0</td>\n",
       "    </tr>\n",
       "    <tr>\n",
       "      <th>399</th>\n",
       "      <td>18.701</td>\n",
       "      <td>5524.0</td>\n",
       "      <td>415.0</td>\n",
       "      <td>5.0</td>\n",
       "      <td>64.0</td>\n",
       "      <td>7.0</td>\n",
       "      <td>0</td>\n",
       "      <td>0</td>\n",
       "      <td>0</td>\n",
       "      <td>0</td>\n",
       "      <td>1</td>\n",
       "    </tr>\n",
       "  </tbody>\n",
       "</table>\n",
       "<p>400 rows × 11 columns</p>\n",
       "</div>"
      ],
      "text/plain": [
       "      Income   Limit  Rating  Cards   Age  Education  Gender_Male  \\\n",
       "0     14.891  3606.0   283.0    2.0  34.0       11.0            1   \n",
       "1    106.025  6645.0   483.0    3.0  82.0       15.0            0   \n",
       "2    104.593  7075.0   514.0    4.0  71.0       11.0            1   \n",
       "3    148.924  9504.0   681.0    3.0  36.0       11.0            0   \n",
       "4     55.882  4897.0   357.0    2.0  68.0       16.0            1   \n",
       "..       ...     ...     ...    ...   ...        ...          ...   \n",
       "395   12.096  4100.0   307.0    3.0  32.0       13.0            1   \n",
       "396   13.364  3838.0   296.0    5.0  65.0       17.0            1   \n",
       "397   57.872  4171.0   321.0    5.0  67.0       12.0            0   \n",
       "398   37.728  2525.0   192.0    1.0  44.0       13.0            1   \n",
       "399   18.701  5524.0   415.0    5.0  64.0        7.0            0   \n",
       "\n",
       "     Student_Yes  Married_Yes  Ethnicity_African American  Ethnicity_Asian  \n",
       "0              0            1                           0                0  \n",
       "1              1            1                           0                1  \n",
       "2              0            0                           0                1  \n",
       "3              0            0                           0                1  \n",
       "4              0            1                           0                0  \n",
       "..           ...          ...                         ...              ...  \n",
       "395            0            1                           0                0  \n",
       "396            0            0                           1                0  \n",
       "397            0            1                           0                0  \n",
       "398            0            1                           0                0  \n",
       "399            0            0                           0                1  \n",
       "\n",
       "[400 rows x 11 columns]"
      ]
     },
     "execution_count": 7,
     "metadata": {},
     "output_type": "execute_result"
    }
   ],
   "source": [
    "X"
   ]
  },
  {
   "cell_type": "code",
   "execution_count": 8,
   "metadata": {
    "ExecuteTime": {
     "end_time": "2021-08-15T12:53:12.586679Z",
     "start_time": "2021-08-15T12:53:12.570736Z"
    }
   },
   "outputs": [
    {
     "data": {
      "text/plain": [
       "0      333\n",
       "1      903\n",
       "2      580\n",
       "3      964\n",
       "4      331\n",
       "      ... \n",
       "395    560\n",
       "396    480\n",
       "397    138\n",
       "398      0\n",
       "399    966\n",
       "Name: Balance, Length: 400, dtype: int64"
      ]
     },
     "execution_count": 8,
     "metadata": {},
     "output_type": "execute_result"
    }
   ],
   "source": [
    "y"
   ]
  },
  {
   "cell_type": "code",
   "execution_count": 9,
   "metadata": {
    "ExecuteTime": {
     "end_time": "2021-08-15T12:53:12.789258Z",
     "start_time": "2021-08-15T12:53:12.776286Z"
    }
   },
   "outputs": [],
   "source": [
    "# Split data into training and test sets\n",
    "X_train, X_test , y_train, y_test = train_test_split(X, y, test_size=0.2, random_state=1)"
   ]
  },
  {
   "cell_type": "code",
   "execution_count": 10,
   "metadata": {
    "ExecuteTime": {
     "end_time": "2021-08-15T12:53:13.007322Z",
     "start_time": "2021-08-15T12:53:12.980388Z"
    }
   },
   "outputs": [],
   "source": [
    "from sklearn import preprocessing\n",
    "scaler = preprocessing.StandardScaler()\n",
    "#scale both test data and train data\n",
    "X_test = scaler.fit_transform(X_test)\n",
    "X_train = scaler.fit_transform(X_train)"
   ]
  },
  {
   "cell_type": "code",
   "execution_count": 11,
   "metadata": {
    "ExecuteTime": {
     "end_time": "2021-08-15T12:53:13.191991Z",
     "start_time": "2021-08-15T12:53:13.179985Z"
    }
   },
   "outputs": [
    {
     "data": {
      "text/plain": [
       "array([[-0.80432754,  0.34104151,  0.24680251, ..., -1.28243054,\n",
       "         1.66274047, -0.5821616 ],\n",
       "       [ 0.59124852,  0.22624886,  0.31322539, ...,  0.77976933,\n",
       "         1.66274047, -0.5821616 ],\n",
       "       [-0.55660604,  0.16885254,  0.14052591, ...,  0.77976933,\n",
       "         1.66274047, -0.5821616 ],\n",
       "       ...,\n",
       "       [-0.89575556, -0.37506733, -0.36428798, ..., -1.28243054,\n",
       "         1.66274047, -0.5821616 ],\n",
       "       [-0.97972845, -0.78536138, -0.78939441, ...,  0.77976933,\n",
       "         1.66274047, -0.5821616 ],\n",
       "       [-0.40726871,  0.81007711,  0.73833182, ...,  0.77976933,\n",
       "        -0.60141677, -0.5821616 ]])"
      ]
     },
     "execution_count": 11,
     "metadata": {},
     "output_type": "execute_result"
    }
   ],
   "source": [
    "X_train"
   ]
  },
  {
   "cell_type": "code",
   "execution_count": 12,
   "metadata": {
    "ExecuteTime": {
     "end_time": "2021-08-15T12:53:13.393375Z",
     "start_time": "2021-08-15T12:53:13.363888Z"
    }
   },
   "outputs": [
    {
     "name": "stdout",
     "output_type": "stream",
     "text": [
      "Income                       -258.247943\n",
      "Limit                         308.290628\n",
      "Rating                        280.723028\n",
      "Cards                          18.444883\n",
      "Age                           -13.149134\n",
      "Education                      -1.365670\n",
      "Gender_Male                    -0.187237\n",
      "Student_Yes                   120.251810\n",
      "Married_Yes                    -0.193154\n",
      "Ethnicity_African American     -6.504676\n",
      "Ethnicity_Asian                 4.559779\n",
      "dtype: float64\n",
      "21484.798442363983\n"
     ]
    }
   ],
   "source": [
    "#The Ridge() function has an alpha argument ( λ , but with a different name!) that is used to tune the model. \n",
    "ridge = Ridge(alpha = 1)\n",
    "ridge.fit(X_train, y_train)             # Fit a ridge regression on the training data\n",
    "pred = ridge.predict(X_test)           # Use this model to predict the test data\n",
    "print(pd.Series(ridge.coef_, index = X.columns)) # Print coefficients\n",
    "print(mean_squared_error(y_test, pred))          # Calculate the test MSE"
   ]
  },
  {
   "cell_type": "code",
   "execution_count": 13,
   "metadata": {
    "ExecuteTime": {
     "end_time": "2021-08-15T12:53:13.624268Z",
     "start_time": "2021-08-15T12:53:13.610795Z"
    }
   },
   "outputs": [
    {
     "name": "stdout",
     "output_type": "stream",
     "text": [
      "Income                        6.620178e-06\n",
      "Limit                         1.243286e-05\n",
      "Rating                        1.247008e-05\n",
      "Cards                         1.422880e-06\n",
      "Age                           1.604647e-07\n",
      "Education                     7.805194e-08\n",
      "Gender_Male                  -1.243125e-06\n",
      "Student_Yes                   3.567213e-06\n",
      "Married_Yes                   5.338300e-07\n",
      "Ethnicity_African American   -6.313531e-07\n",
      "Ethnicity_Asian               4.763231e-08\n",
      "dtype: float64\n",
      "256386.51175872114\n"
     ]
    }
   ],
   "source": [
    "ridge2 = Ridge(alpha = 10**10)\n",
    "ridge2.fit(X_train, y_train)             # Fit a ridge regression on the training data\n",
    "pred2 = ridge2.predict(X_test)           # Use this model to predict the test data\n",
    "print(pd.Series(ridge2.coef_, index = X.columns)) # Print coefficients\n",
    "print(mean_squared_error(y_test, pred2))          # Calculate the test MSE"
   ]
  },
  {
   "cell_type": "code",
   "execution_count": 14,
   "metadata": {
    "ExecuteTime": {
     "end_time": "2021-08-15T12:53:13.828727Z",
     "start_time": "2021-08-15T12:53:13.814764Z"
    }
   },
   "outputs": [
    {
     "name": "stdout",
     "output_type": "stream",
     "text": [
      "Income                       -262.323932\n",
      "Limit                         330.485552\n",
      "Rating                        262.556684\n",
      "Cards                          19.237930\n",
      "Age                           -12.880847\n",
      "Education                      -1.563821\n",
      "Gender_Male                     0.001889\n",
      "Student_Yes                   120.955116\n",
      "Married_Yes                    -0.029164\n",
      "Ethnicity_African American     -6.342409\n",
      "Ethnicity_Asian                 4.672336\n",
      "dtype: float64\n",
      "21112.08624087698\n"
     ]
    }
   ],
   "source": [
    "ridge3 = Ridge(alpha = 0)\n",
    "ridge3.fit(X_train, y_train)             # Fit a ridge regression on the training data\n",
    "pred = ridge3.predict(X_test)            # Use this model to predict the test data\n",
    "print(pd.Series(ridge3.coef_, index = X.columns)) # Print coefficients\n",
    "print(mean_squared_error(y_test, pred))           # Calculate the test MSE"
   ]
  },
  {
   "cell_type": "code",
   "execution_count": 15,
   "metadata": {
    "ExecuteTime": {
     "end_time": "2021-08-15T12:53:14.016255Z",
     "start_time": "2021-08-15T12:53:14.003291Z"
    }
   },
   "outputs": [
    {
     "data": {
      "text/plain": [
       "array([5.00000000e+04, 4.24876718e+04, 3.61040451e+04, 3.06795364e+04,\n",
       "       2.60700414e+04, 2.21531073e+04, 1.88246790e+04, 1.59963357e+04,\n",
       "       1.35929412e+04, 1.15506485e+04, 9.81520325e+03, 8.34050269e+03,\n",
       "       7.08737081e+03, 6.02251770e+03, 5.11765511e+03, 4.34874501e+03,\n",
       "       3.69536102e+03, 3.14014572e+03, 2.66834962e+03, 2.26743925e+03,\n",
       "       1.92676430e+03, 1.63727458e+03, 1.39127970e+03, 1.18224471e+03,\n",
       "       1.00461650e+03, 8.53676324e+02, 7.25414389e+02, 6.16423370e+02,\n",
       "       5.23807876e+02, 4.45107543e+02, 3.78231664e+02, 3.21403656e+02,\n",
       "       2.73113861e+02, 2.32079442e+02, 1.97210303e+02, 1.67580133e+02,\n",
       "       1.42401793e+02, 1.21006413e+02, 1.02825615e+02, 8.73764200e+01,\n",
       "       7.42484131e+01, 6.30928442e+01, 5.36133611e+01, 4.55581378e+01,\n",
       "       3.87131841e+01, 3.28966612e+01, 2.79540509e+01, 2.37540508e+01,\n",
       "       2.01850863e+01, 1.71523464e+01, 1.45752653e+01, 1.23853818e+01,\n",
       "       1.05245207e+01, 8.94324765e+00, 7.59955541e+00, 6.45774833e+00,\n",
       "       5.48749383e+00, 4.66301673e+00, 3.96241449e+00, 3.36707533e+00,\n",
       "       2.86118383e+00, 2.43130079e+00, 2.06600620e+00, 1.75559587e+00,\n",
       "       1.49182362e+00, 1.26768225e+00, 1.07721735e+00, 9.15369140e-01,\n",
       "       7.77838072e-01, 6.60970574e-01, 5.61662016e-01, 4.77274228e-01,\n",
       "       4.05565415e-01, 3.44630605e-01, 2.92851041e-01, 2.48851178e-01,\n",
       "       2.11462144e-01, 1.79690683e-01, 1.52692775e-01, 1.29751211e-01,\n",
       "       1.10256537e-01, 9.36908711e-02, 7.96141397e-02, 6.76523887e-02,\n",
       "       5.74878498e-02, 4.88504979e-02, 4.15108784e-02, 3.52740116e-02,\n",
       "       2.99742125e-02, 2.54706901e-02, 2.16438064e-02, 1.83918989e-02,\n",
       "       1.56285792e-02, 1.32804389e-02, 1.12850986e-02, 9.58955131e-03,\n",
       "       8.14875417e-03, 6.92443186e-03, 5.88405976e-03, 5.00000000e-03])"
      ]
     },
     "execution_count": 15,
     "metadata": {},
     "output_type": "execute_result"
    }
   ],
   "source": [
    "#We'll generate an array of alpha values ranging from very big to very small, essentially covering the full range of scenarios \n",
    "#from the null model containing only the intercept, to the least squares fit\n",
    "alphas = 10**np.linspace(5,-2,100)*0.5\n",
    "alphas"
   ]
  },
  {
   "cell_type": "code",
   "execution_count": 16,
   "metadata": {
    "ExecuteTime": {
     "end_time": "2021-08-15T12:53:14.266850Z",
     "start_time": "2021-08-15T12:53:14.189968Z"
    }
   },
   "outputs": [
    {
     "data": {
      "text/plain": [
       "(100, 11)"
      ]
     },
     "execution_count": 16,
     "metadata": {},
     "output_type": "execute_result"
    }
   ],
   "source": [
    "ridge = Ridge()\n",
    "coefs = []\n",
    "for a in alphas:\n",
    "    ridge.set_params(alpha = a)\n",
    "    ridge.fit(X_train, y_train)\n",
    "    coefs.append(ridge.coef_)\n",
    "np.shape(coefs)"
   ]
  },
  {
   "cell_type": "code",
   "execution_count": 17,
   "metadata": {
    "ExecuteTime": {
     "end_time": "2021-08-15T12:53:15.543622Z",
     "start_time": "2021-08-15T12:53:14.506580Z"
    }
   },
   "outputs": [
    {
     "data": {
      "text/plain": [
       "Text(0, 0.5, 'weights')"
      ]
     },
     "execution_count": 17,
     "metadata": {},
     "output_type": "execute_result"
    },
    {
     "data": {
      "image/png": "[encoded data removed]",
      "text/plain": [
       "<Figure size 432x288 with 1 Axes>"
      ]
     },
     "metadata": {
      "needs_background": "light"
     },
     "output_type": "display_data"
    }
   ],
   "source": [
    "ax = plt.gca()\n",
    "ax.plot(alphas, coefs)\n",
    "ax.set_xscale('log')\n",
    "plt.axis('tight')\n",
    "plt.xlabel('alpha')\n",
    "plt.ylabel('weights')"
   ]
  },
  {
   "cell_type": "code",
   "execution_count": 18,
   "metadata": {
    "ExecuteTime": {
     "end_time": "2021-08-15T12:53:16.659243Z",
     "start_time": "2021-08-15T12:53:15.747738Z"
    }
   },
   "outputs": [
    {
     "data": {
      "text/plain": [
       "Text(0, 0.5, 'weights')"
      ]
     },
     "execution_count": 18,
     "metadata": {},
     "output_type": "execute_result"
    },
    {
     "data": {
      "image/png": "[encoded data removed]",
      "text/plain": [
       "<Figure size 432x288 with 1 Axes>"
      ]
     },
     "metadata": {
      "needs_background": "light"
     },
     "output_type": "display_data"
    }
   ],
   "source": [
    "lasso = Lasso(max_iter = 10000)\n",
    "coefs = []\n",
    "\n",
    "for a in alphas:\n",
    "    lasso.set_params(alpha=a)\n",
    "    lasso.fit(scale(X_train), y_train)\n",
    "    coefs.append(lasso.coef_)\n",
    "    \n",
    "ax = plt.gca()\n",
    "ax.plot(alphas*2, coefs)\n",
    "ax.set_xscale('log')\n",
    "plt.axis('tight')\n",
    "plt.xlabel('alpha')\n",
    "plt.ylabel('weights')"
   ]
  },
  {
   "cell_type": "code",
   "execution_count": 19,
   "metadata": {
    "ExecuteTime": {
     "end_time": "2021-08-15T12:53:16.877019Z",
     "start_time": "2021-08-15T12:53:16.849853Z"
    }
   },
   "outputs": [
    {
     "name": "stdout",
     "output_type": "stream",
     "text": [
      "Income                         -0.000000\n",
      "Limit                           0.000000\n",
      "Rating                        289.578449\n",
      "Cards                           0.000000\n",
      "Age                            -0.000000\n",
      "Education                       0.000000\n",
      "Gender_Male                    -0.000000\n",
      "Student_Yes                     6.501953\n",
      "Married_Yes                    -0.000000\n",
      "Ethnicity_African American     -0.000000\n",
      "Ethnicity_Asian                 0.000000\n",
      "dtype: float64\n",
      "94944.66366064723\n"
     ]
    }
   ],
   "source": [
    "lasso2 = Lasso(alpha=100,max_iter = 10000)\n",
    "lasso2.fit(X_train, y_train)             # Fit a Lasso regression on the training data\n",
    "pred2 = lasso2.predict(X_test)           # Use this model to predict the test data\n",
    "print(pd.Series(lasso2.coef_, index = X.columns)) # Print coefficients\n",
    "print(mean_squared_error(y_test, pred2))          # Calculate the test MSE"
   ]
  },
  {
   "cell_type": "code",
   "execution_count": 20,
   "metadata": {
    "ExecuteTime": {
     "end_time": "2021-08-15T12:53:17.099014Z",
     "start_time": "2021-08-15T12:53:17.085028Z"
    }
   },
   "outputs": [
    {
     "data": {
      "text/plain": [
       "Income                         -0.000000\n",
       "Limit                           0.000000\n",
       "Rating                        289.578449\n",
       "Cards                           0.000000\n",
       "Age                            -0.000000\n",
       "Education                       0.000000\n",
       "Gender_Male                    -0.000000\n",
       "Student_Yes                     6.501953\n",
       "Married_Yes                    -0.000000\n",
       "Ethnicity_African American     -0.000000\n",
       "Ethnicity_Asian                 0.000000\n",
       "dtype: float64"
      ]
     },
     "execution_count": 20,
     "metadata": {},
     "output_type": "execute_result"
    }
   ],
   "source": [
    "# Some of the coefficients are now reduced to exactly zero.\n",
    "pd.Series(lasso2.coef_, index=X.columns)"
   ]
  },
  {
   "cell_type": "code",
   "execution_count": 21,
   "metadata": {
    "ExecuteTime": {
     "end_time": "2021-08-15T12:53:17.797425Z",
     "start_time": "2021-08-15T12:53:17.773946Z"
    }
   },
   "outputs": [
    {
     "name": "stdout",
     "output_type": "stream",
     "text": [
      "Income                       -171.348607\n",
      "Limit                         142.828764\n",
      "Rating                        359.257739\n",
      "Cards                           0.000000\n",
      "Age                            -0.000000\n",
      "Education                       0.000000\n",
      "Gender_Male                    -0.000000\n",
      "Student_Yes                    95.486860\n",
      "Married_Yes                    -0.000000\n",
      "Ethnicity_African American     -0.000000\n",
      "Ethnicity_Asian                 0.000000\n",
      "dtype: float64\n",
      "32639.67138048624\n"
     ]
    }
   ],
   "source": [
    "lasso3 = Lasso(alpha=20,max_iter = 10000)\n",
    "lasso3.fit(X_train, y_train)             # Fit a Lasso regression on the training data\n",
    "pred3 = lasso3.predict(X_test)           # Use this model to predict the test data\n",
    "lasso3.fit(X_train, y_train)\n",
    "print(pd.Series(lasso3.coef_, index = X.columns)) # Print coefficients\n",
    "print(mean_squared_error(y_test, pred3))          # Calculate the test MSE"
   ]
  },
  {
   "cell_type": "code",
   "execution_count": 22,
   "metadata": {
    "ExecuteTime": {
     "end_time": "2021-08-15T12:53:18.405641Z",
     "start_time": "2021-08-15T12:53:18.392364Z"
    }
   },
   "outputs": [
    {
     "data": {
      "text/plain": [
       "Income                       -171.348607\n",
       "Limit                         142.828764\n",
       "Rating                        359.257739\n",
       "Cards                           0.000000\n",
       "Age                            -0.000000\n",
       "Education                       0.000000\n",
       "Gender_Male                    -0.000000\n",
       "Student_Yes                    95.486860\n",
       "Married_Yes                    -0.000000\n",
       "Ethnicity_African American     -0.000000\n",
       "Ethnicity_Asian                 0.000000\n",
       "dtype: float64"
      ]
     },
     "execution_count": 22,
     "metadata": {},
     "output_type": "execute_result"
    }
   ],
   "source": [
    "pd.Series(lasso3.coef_, index=X.columns)"
   ]
  },
  {
   "cell_type": "code",
   "execution_count": 23,
   "metadata": {
    "ExecuteTime": {
     "end_time": "2021-08-15T12:53:39.565326Z",
     "start_time": "2021-08-15T12:53:18.927907Z"
    }
   },
   "outputs": [],
   "source": [
    "from sklearn.model_selection import cross_val_score\n",
    "from sklearn.model_selection import KFold\n",
    "lambdas = np.linspace(0.01,1000,num=1000)\n",
    "scoresCV = []\n",
    "for l in lambdas:\n",
    "    RidgeReg = Ridge(alpha=l)\n",
    "    scoreCV = cross_val_score(RidgeReg, X_train, y_train, scoring='neg_mean_squared_error',\n",
    "                             cv=KFold(n_splits=10, shuffle=True,\n",
    "                                            random_state=1))\n",
    "    scoresCV.append([l,-1*np.mean(scoreCV)])\n",
    "df = pd.DataFrame(scoresCV,columns=['Lambda','Validation Error'])\n",
    "df.sort_values(by='Validation Error',inplace=True)"
   ]
  },
  {
   "cell_type": "code",
   "execution_count": 24,
   "metadata": {
    "ExecuteTime": {
     "end_time": "2021-08-15T12:53:39.893992Z",
     "start_time": "2021-08-15T12:53:39.882024Z"
    }
   },
   "outputs": [
    {
     "data": {
      "text/html": [
       "<div>\n",
       "<style scoped>\n",
       "    .dataframe tbody tr th:only-of-type {\n",
       "        vertical-align: middle;\n",
       "    }\n",
       "\n",
       "    .dataframe tbody tr th {\n",
       "        vertical-align: top;\n",
       "    }\n",
       "\n",
       "    .dataframe thead th {\n",
       "        text-align: right;\n",
       "    }\n",
       "</style>\n",
       "<table border=\"1\" class=\"dataframe\">\n",
       "  <thead>\n",
       "    <tr style=\"text-align: right;\">\n",
       "      <th></th>\n",
       "      <th>Lambda</th>\n",
       "      <th>Validation Error</th>\n",
       "    </tr>\n",
       "  </thead>\n",
       "  <tbody>\n",
       "    <tr>\n",
       "      <th>1</th>\n",
       "      <td>1.010991</td>\n",
       "      <td>9558.239995</td>\n",
       "    </tr>\n",
       "    <tr>\n",
       "      <th>0</th>\n",
       "      <td>0.010000</td>\n",
       "      <td>9573.477682</td>\n",
       "    </tr>\n",
       "    <tr>\n",
       "      <th>2</th>\n",
       "      <td>2.011982</td>\n",
       "      <td>9583.085669</td>\n",
       "    </tr>\n",
       "    <tr>\n",
       "      <th>3</th>\n",
       "      <td>3.012973</td>\n",
       "      <td>9628.356883</td>\n",
       "    </tr>\n",
       "    <tr>\n",
       "      <th>4</th>\n",
       "      <td>4.013964</td>\n",
       "      <td>9690.674726</td>\n",
       "    </tr>\n",
       "    <tr>\n",
       "      <th>...</th>\n",
       "      <td>...</td>\n",
       "      <td>...</td>\n",
       "    </tr>\n",
       "    <tr>\n",
       "      <th>995</th>\n",
       "      <td>995.996036</td>\n",
       "      <td>104964.474629</td>\n",
       "    </tr>\n",
       "    <tr>\n",
       "      <th>996</th>\n",
       "      <td>996.997027</td>\n",
       "      <td>105008.350658</td>\n",
       "    </tr>\n",
       "    <tr>\n",
       "      <th>997</th>\n",
       "      <td>997.998018</td>\n",
       "      <td>105052.186492</td>\n",
       "    </tr>\n",
       "    <tr>\n",
       "      <th>998</th>\n",
       "      <td>998.999009</td>\n",
       "      <td>105095.982187</td>\n",
       "    </tr>\n",
       "    <tr>\n",
       "      <th>999</th>\n",
       "      <td>1000.000000</td>\n",
       "      <td>105139.737802</td>\n",
       "    </tr>\n",
       "  </tbody>\n",
       "</table>\n",
       "<p>1000 rows × 2 columns</p>\n",
       "</div>"
      ],
      "text/plain": [
       "          Lambda  Validation Error\n",
       "1       1.010991       9558.239995\n",
       "0       0.010000       9573.477682\n",
       "2       2.011982       9583.085669\n",
       "3       3.012973       9628.356883\n",
       "4       4.013964       9690.674726\n",
       "..           ...               ...\n",
       "995   995.996036     104964.474629\n",
       "996   996.997027     105008.350658\n",
       "997   997.998018     105052.186492\n",
       "998   998.999009     105095.982187\n",
       "999  1000.000000     105139.737802\n",
       "\n",
       "[1000 rows x 2 columns]"
      ]
     },
     "execution_count": 24,
     "metadata": {},
     "output_type": "execute_result"
    }
   ],
   "source": [
    "df"
   ]
  },
  {
   "cell_type": "code",
   "execution_count": 25,
   "metadata": {
    "ExecuteTime": {
     "end_time": "2021-08-15T12:53:40.314094Z",
     "start_time": "2021-08-15T12:53:40.159633Z"
    }
   },
   "outputs": [
    {
     "data": {
      "text/plain": [
       "[<matplotlib.lines.Line2D at 0x1673b58ea00>]"
      ]
     },
     "execution_count": 25,
     "metadata": {},
     "output_type": "execute_result"
    },
    {
     "data": {
      "image/png": "[encoded data removed]",
      "text/plain": [
       "<Figure size 432x288 with 1 Axes>"
      ]
     },
     "metadata": {
      "needs_background": "light"
     },
     "output_type": "display_data"
    }
   ],
   "source": [
    "plt.plot(df.Lambda,df['Validation Error'])"
   ]
  },
  {
   "cell_type": "code",
   "execution_count": 26,
   "metadata": {
    "ExecuteTime": {
     "end_time": "2021-08-15T12:53:40.575651Z",
     "start_time": "2021-08-15T12:53:40.562234Z"
    }
   },
   "outputs": [
    {
     "data": {
      "text/html": [
       "<div>\n",
       "<style scoped>\n",
       "    .dataframe tbody tr th:only-of-type {\n",
       "        vertical-align: middle;\n",
       "    }\n",
       "\n",
       "    .dataframe tbody tr th {\n",
       "        vertical-align: top;\n",
       "    }\n",
       "\n",
       "    .dataframe thead th {\n",
       "        text-align: right;\n",
       "    }\n",
       "</style>\n",
       "<table border=\"1\" class=\"dataframe\">\n",
       "  <thead>\n",
       "    <tr style=\"text-align: right;\">\n",
       "      <th></th>\n",
       "      <th>Lambda</th>\n",
       "      <th>Validation Error</th>\n",
       "    </tr>\n",
       "  </thead>\n",
       "  <tbody>\n",
       "    <tr>\n",
       "      <th>1</th>\n",
       "      <td>1.010991</td>\n",
       "      <td>9558.239995</td>\n",
       "    </tr>\n",
       "    <tr>\n",
       "      <th>0</th>\n",
       "      <td>0.010000</td>\n",
       "      <td>9573.477682</td>\n",
       "    </tr>\n",
       "    <tr>\n",
       "      <th>2</th>\n",
       "      <td>2.011982</td>\n",
       "      <td>9583.085669</td>\n",
       "    </tr>\n",
       "    <tr>\n",
       "      <th>3</th>\n",
       "      <td>3.012973</td>\n",
       "      <td>9628.356883</td>\n",
       "    </tr>\n",
       "    <tr>\n",
       "      <th>4</th>\n",
       "      <td>4.013964</td>\n",
       "      <td>9690.674726</td>\n",
       "    </tr>\n",
       "    <tr>\n",
       "      <th>...</th>\n",
       "      <td>...</td>\n",
       "      <td>...</td>\n",
       "    </tr>\n",
       "    <tr>\n",
       "      <th>995</th>\n",
       "      <td>995.996036</td>\n",
       "      <td>104964.474629</td>\n",
       "    </tr>\n",
       "    <tr>\n",
       "      <th>996</th>\n",
       "      <td>996.997027</td>\n",
       "      <td>105008.350658</td>\n",
       "    </tr>\n",
       "    <tr>\n",
       "      <th>997</th>\n",
       "      <td>997.998018</td>\n",
       "      <td>105052.186492</td>\n",
       "    </tr>\n",
       "    <tr>\n",
       "      <th>998</th>\n",
       "      <td>998.999009</td>\n",
       "      <td>105095.982187</td>\n",
       "    </tr>\n",
       "    <tr>\n",
       "      <th>999</th>\n",
       "      <td>1000.000000</td>\n",
       "      <td>105139.737802</td>\n",
       "    </tr>\n",
       "  </tbody>\n",
       "</table>\n",
       "<p>1000 rows × 2 columns</p>\n",
       "</div>"
      ],
      "text/plain": [
       "          Lambda  Validation Error\n",
       "1       1.010991       9558.239995\n",
       "0       0.010000       9573.477682\n",
       "2       2.011982       9583.085669\n",
       "3       3.012973       9628.356883\n",
       "4       4.013964       9690.674726\n",
       "..           ...               ...\n",
       "995   995.996036     104964.474629\n",
       "996   996.997027     105008.350658\n",
       "997   997.998018     105052.186492\n",
       "998   998.999009     105095.982187\n",
       "999  1000.000000     105139.737802\n",
       "\n",
       "[1000 rows x 2 columns]"
      ]
     },
     "execution_count": 26,
     "metadata": {},
     "output_type": "execute_result"
    }
   ],
   "source": [
    "df"
   ]
  },
  {
   "cell_type": "code",
   "execution_count": 27,
   "metadata": {
    "ExecuteTime": {
     "end_time": "2021-08-15T12:54:22.261301Z",
     "start_time": "2021-08-15T12:54:20.629693Z"
    }
   },
   "outputs": [
    {
     "data": {
      "text/plain": [
       "0.9153691401476849"
      ]
     },
     "execution_count": 27,
     "metadata": {},
     "output_type": "execute_result"
    }
   ],
   "source": [
    "ridgecv = RidgeCV(alphas = alphas,cv = 10, scoring = 'neg_mean_squared_error')\n",
    "ridgecv.fit(X_train, y_train)\n",
    "ridgecv.alpha_"
   ]
  },
  {
   "cell_type": "code",
   "execution_count": 28,
   "metadata": {
    "ExecuteTime": {
     "end_time": "2021-08-15T12:54:35.221012Z",
     "start_time": "2021-08-15T12:54:35.202938Z"
    }
   },
   "outputs": [
    {
     "data": {
      "text/plain": [
       "21456.206425021588"
      ]
     },
     "execution_count": 28,
     "metadata": {},
     "output_type": "execute_result"
    }
   ],
   "source": [
    "ridge5 = Ridge(alpha = ridgecv.alpha_)\n",
    "ridge5.fit(X_train, y_train)\n",
    "y_pred=ridge5.predict(X_test)\n",
    "mean_squared_error(y_test, y_pred)"
   ]
  },
  {
   "cell_type": "code",
   "execution_count": 29,
   "metadata": {
    "ExecuteTime": {
     "end_time": "2021-08-15T12:54:49.404282Z",
     "start_time": "2021-08-15T12:54:49.382307Z"
    }
   },
   "outputs": [
    {
     "data": {
      "text/plain": [
       "Income                         -7.796699\n",
       "Limit                           0.188793\n",
       "Rating                          1.167075\n",
       "Cards                          17.511753\n",
       "Age                            -0.621810\n",
       "Education                      -1.014576\n",
       "Gender_Male                    10.197426\n",
       "Student_Yes                   414.869564\n",
       "Married_Yes                    -9.096059\n",
       "Ethnicity_African American     -9.892844\n",
       "Ethnicity_Asian                 7.129174\n",
       "dtype: float64"
      ]
     },
     "execution_count": 29,
     "metadata": {},
     "output_type": "execute_result"
    }
   ],
   "source": [
    "ridge5.fit(X, y)\n",
    "pd.Series(ridge5.coef_, index = X.columns)"
   ]
  },
  {
   "cell_type": "code",
   "execution_count": 30,
   "metadata": {
    "ExecuteTime": {
     "end_time": "2021-08-15T12:55:37.417248Z",
     "start_time": "2021-08-15T12:55:21.979846Z"
    }
   },
   "outputs": [
    {
     "data": {
      "text/html": [
       "<div>\n",
       "<style scoped>\n",
       "    .dataframe tbody tr th:only-of-type {\n",
       "        vertical-align: middle;\n",
       "    }\n",
       "\n",
       "    .dataframe tbody tr th {\n",
       "        vertical-align: top;\n",
       "    }\n",
       "\n",
       "    .dataframe thead th {\n",
       "        text-align: right;\n",
       "    }\n",
       "</style>\n",
       "<table border=\"1\" class=\"dataframe\">\n",
       "  <thead>\n",
       "    <tr style=\"text-align: right;\">\n",
       "      <th></th>\n",
       "      <th>Lambda</th>\n",
       "      <th>Validation Error</th>\n",
       "    </tr>\n",
       "  </thead>\n",
       "  <tbody>\n",
       "    <tr>\n",
       "      <th>0</th>\n",
       "      <td>0.010000</td>\n",
       "      <td>9573.001270</td>\n",
       "    </tr>\n",
       "    <tr>\n",
       "      <th>1</th>\n",
       "      <td>1.010991</td>\n",
       "      <td>9515.471910</td>\n",
       "    </tr>\n",
       "    <tr>\n",
       "      <th>2</th>\n",
       "      <td>2.011982</td>\n",
       "      <td>9500.365358</td>\n",
       "    </tr>\n",
       "    <tr>\n",
       "      <th>3</th>\n",
       "      <td>3.012973</td>\n",
       "      <td>9529.612445</td>\n",
       "    </tr>\n",
       "    <tr>\n",
       "      <th>4</th>\n",
       "      <td>4.013964</td>\n",
       "      <td>9592.242457</td>\n",
       "    </tr>\n",
       "    <tr>\n",
       "      <th>...</th>\n",
       "      <td>...</td>\n",
       "      <td>...</td>\n",
       "    </tr>\n",
       "    <tr>\n",
       "      <th>995</th>\n",
       "      <td>995.996036</td>\n",
       "      <td>200406.247147</td>\n",
       "    </tr>\n",
       "    <tr>\n",
       "      <th>996</th>\n",
       "      <td>996.997027</td>\n",
       "      <td>200406.247147</td>\n",
       "    </tr>\n",
       "    <tr>\n",
       "      <th>997</th>\n",
       "      <td>997.998018</td>\n",
       "      <td>200406.247147</td>\n",
       "    </tr>\n",
       "    <tr>\n",
       "      <th>998</th>\n",
       "      <td>998.999009</td>\n",
       "      <td>200406.247147</td>\n",
       "    </tr>\n",
       "    <tr>\n",
       "      <th>999</th>\n",
       "      <td>1000.000000</td>\n",
       "      <td>200406.247147</td>\n",
       "    </tr>\n",
       "  </tbody>\n",
       "</table>\n",
       "<p>1000 rows × 2 columns</p>\n",
       "</div>"
      ],
      "text/plain": [
       "          Lambda  Validation Error\n",
       "0       0.010000       9573.001270\n",
       "1       1.010991       9515.471910\n",
       "2       2.011982       9500.365358\n",
       "3       3.012973       9529.612445\n",
       "4       4.013964       9592.242457\n",
       "..           ...               ...\n",
       "995   995.996036     200406.247147\n",
       "996   996.997027     200406.247147\n",
       "997   997.998018     200406.247147\n",
       "998   998.999009     200406.247147\n",
       "999  1000.000000     200406.247147\n",
       "\n",
       "[1000 rows x 2 columns]"
      ]
     },
     "execution_count": 30,
     "metadata": {},
     "output_type": "execute_result"
    }
   ],
   "source": [
    "from sklearn.model_selection import cross_val_score\n",
    "from sklearn.model_selection import KFold\n",
    "lambdas = np.linspace(0.01,1000,num=1000)\n",
    "scoresCV = []\n",
    "for l in lambdas:\n",
    "    lassoReg = Lasso(alpha=l,max_iter=10000)\n",
    "    scoreCV = cross_val_score(lassoReg, X_train, y_train, scoring='neg_mean_squared_error',\n",
    "                             cv=KFold(n_splits=10, shuffle=True,\n",
    "                                            random_state=1))\n",
    "    scoresCV.append([l,-1*np.mean(scoreCV)])\n",
    "df = pd.DataFrame(scoresCV,columns=['Lambda','Validation Error'])\n",
    "df"
   ]
  },
  {
   "cell_type": "code",
   "execution_count": 31,
   "metadata": {
    "ExecuteTime": {
     "end_time": "2021-08-15T12:55:37.855529Z",
     "start_time": "2021-08-15T12:55:37.684139Z"
    }
   },
   "outputs": [
    {
     "data": {
      "text/plain": [
       "[<matplotlib.lines.Line2D at 0x1673b4d88e0>]"
      ]
     },
     "execution_count": 31,
     "metadata": {},
     "output_type": "execute_result"
    },
    {
     "data": {
      "image/png": "[encoded data removed]",
      "text/plain": [
       "<Figure size 432x288 with 1 Axes>"
      ]
     },
     "metadata": {
      "needs_background": "light"
     },
     "output_type": "display_data"
    }
   ],
   "source": [
    "plt.plot(df.Lambda,df['Validation Error'])"
   ]
  },
  {
   "cell_type": "code",
   "execution_count": 32,
   "metadata": {
    "ExecuteTime": {
     "end_time": "2021-08-15T12:56:13.063284Z",
     "start_time": "2021-08-15T12:56:12.875762Z"
    }
   },
   "outputs": [
    {
     "data": {
      "text/plain": [
       "21610.721077299728"
      ]
     },
     "execution_count": 32,
     "metadata": {},
     "output_type": "execute_result"
    }
   ],
   "source": [
    "lassocv = LassoCV(alphas = alphas, cv = 10, max_iter = 100000)\n",
    "lassocv.fit(X_train, y_train)\n",
    "lasso = Lasso(alpha = lassocv.alpha_)\n",
    "lasso.fit(X_train, y_train)\n",
    "mean_squared_error(y_test, lasso.predict(X_test))"
   ]
  },
  {
   "cell_type": "code",
   "execution_count": 33,
   "metadata": {
    "ExecuteTime": {
     "end_time": "2021-08-15T12:56:16.150499Z",
     "start_time": "2021-08-15T12:56:16.134445Z"
    }
   },
   "outputs": [
    {
     "data": {
      "text/plain": [
       "1.4918236201416701"
      ]
     },
     "execution_count": 33,
     "metadata": {},
     "output_type": "execute_result"
    }
   ],
   "source": [
    "lassocv.alpha_"
   ]
  },
  {
   "cell_type": "code",
   "execution_count": 34,
   "metadata": {
    "ExecuteTime": {
     "end_time": "2021-08-15T12:56:17.841249Z",
     "start_time": "2021-08-15T12:56:17.827660Z"
    }
   },
   "outputs": [
    {
     "data": {
      "text/plain": [
       "Income                       -255.484909\n",
       "Limit                         319.222523\n",
       "Rating                        267.039580\n",
       "Cards                          17.682774\n",
       "Age                           -11.920649\n",
       "Education                      -0.000000\n",
       "Gender_Male                    -0.000000\n",
       "Student_Yes                   118.979265\n",
       "Married_Yes                    -0.000000\n",
       "Ethnicity_African American     -5.513636\n",
       "Ethnicity_Asian                 3.455988\n",
       "dtype: float64"
      ]
     },
     "execution_count": 34,
     "metadata": {},
     "output_type": "execute_result"
    }
   ],
   "source": [
    "pd.Series(lasso.coef_, index=X.columns)"
   ]
  },
  {
   "cell_type": "code",
   "execution_count": null,
   "metadata": {},
   "outputs": [],
   "source": []
  }
 ],
 "metadata": {
  "kernelspec": {
   "display_name": "Python 3",
   "language": "python",
   "name": "python3"
  },
  "language_info": {
   "codemirror_mode": {
    "name": "ipython",
    "version": 3
   },
   "file_extension": ".py",
   "mimetype": "text/x-python",
   "name": "python",
   "nbconvert_exporter": "python",
   "pygments_lexer": "ipython3",
   "version": "3.8.10"
  },
  "varInspector": {
   "cols": {
    "lenName": 16,
    "lenType": 16,
    "lenVar": 40
   },
   "kernels_config": {
    "python": {
     "delete_cmd_postfix": "",
     "delete_cmd_prefix": "del ",
     "library": "var_list.py",
     "varRefreshCmd": "print(var_dic_list())"
    },
    "r": {
     "delete_cmd_postfix": ") ",
     "delete_cmd_prefix": "rm(",
     "library": "var_list.r",
     "varRefreshCmd": "cat(var_dic_list()) "
    }
   },
   "types_to_exclude": [
    "module",
    "function",
    "builtin_function_or_method",
    "instance",
    "_Feature"
   ],
   "window_display": false
  }
 },
 "nbformat": 4,
 "nbformat_minor": 1
}
